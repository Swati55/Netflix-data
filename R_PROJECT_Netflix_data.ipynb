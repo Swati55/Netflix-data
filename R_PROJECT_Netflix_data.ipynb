{
  "nbformat": 4,
  "nbformat_minor": 0,
  "metadata": {
    "colab": {
      "provenance": [],
      "authorship_tag": "ABX9TyPUAM5dwJfMXIKudgWibVQW",
      "include_colab_link": true
    },
    "kernelspec": {
      "name": "ir",
      "display_name": "R"
    },
    "language_info": {
      "name": "R"
    }
  },
  "cells": [
    {
      "cell_type": "markdown",
      "metadata": {
        "id": "view-in-github",
        "colab_type": "text"
      },
      "source": [
        "<a href=\"https://colab.research.google.com/github/Swati55/Netflix-data/blob/main/R_PROJECT_Netflix_data.ipynb\" target=\"_parent\"><img src=\"https://colab.research.google.com/assets/colab-badge.svg\" alt=\"Open In Colab\"/></a>"
      ]
    },
    {
      "cell_type": "markdown",
      "source": [
        "#intro"
      ],
      "metadata": {
        "id": "5Y9iLQK7cKI9"
      }
    },
    {
      "cell_type": "code",
      "source": [
        "install.packages(\"tidyr\")\n",
        "install.packages('tidyverse')\n",
        "install.packages(\"dplyr\")\n",
        "library(tidyr)\n",
        "library(tidyverse)\n",
        "library(dplyr)\n",
        "library(ggplot2)\n"
      ],
      "metadata": {
        "colab": {
          "base_uri": "https://localhost:8080/"
        },
        "id": "I--rXRtjN_ct",
        "outputId": "380d9e6f-a6a3-4fb8-de90-b9505c0790fd"
      },
      "execution_count": null,
      "outputs": [
        {
          "output_type": "stream",
          "name": "stderr",
          "text": [
            "Installing package into ‘/usr/local/lib/R/site-library’\n",
            "(as ‘lib’ is unspecified)\n",
            "\n",
            "Installing package into ‘/usr/local/lib/R/site-library’\n",
            "(as ‘lib’ is unspecified)\n",
            "\n",
            "Installing package into ‘/usr/local/lib/R/site-library’\n",
            "(as ‘lib’ is unspecified)\n",
            "\n",
            "── \u001b[1mAttaching core tidyverse packages\u001b[22m ──────────────────────── tidyverse 2.0.0 ──\n",
            "\u001b[32m✔\u001b[39m \u001b[34mdplyr    \u001b[39m 1.1.4     \u001b[32m✔\u001b[39m \u001b[34mpurrr    \u001b[39m 1.0.2\n",
            "\u001b[32m✔\u001b[39m \u001b[34mforcats  \u001b[39m 1.0.0     \u001b[32m✔\u001b[39m \u001b[34mreadr    \u001b[39m 2.1.5\n",
            "\u001b[32m✔\u001b[39m \u001b[34mggplot2  \u001b[39m 3.4.4     \u001b[32m✔\u001b[39m \u001b[34mstringr  \u001b[39m 1.5.1\n",
            "\u001b[32m✔\u001b[39m \u001b[34mlubridate\u001b[39m 1.9.3     \u001b[32m✔\u001b[39m \u001b[34mtibble   \u001b[39m 3.2.1\n",
            "── \u001b[1mConflicts\u001b[22m ────────────────────────────────────────── tidyverse_conflicts() ──\n",
            "\u001b[31m✖\u001b[39m \u001b[34mpurrr\u001b[39m::\u001b[32m%||%()\u001b[39m   masks \u001b[34mbase\u001b[39m::%||%()\n",
            "\u001b[31m✖\u001b[39m \u001b[34mdplyr\u001b[39m::\u001b[32mfilter()\u001b[39m masks \u001b[34mstats\u001b[39m::filter()\n",
            "\u001b[31m✖\u001b[39m \u001b[34mdplyr\u001b[39m::\u001b[32mlag()\u001b[39m    masks \u001b[34mstats\u001b[39m::lag()\n",
            "\u001b[36mℹ\u001b[39m Use the conflicted package (\u001b[3m\u001b[34m<http://conflicted.r-lib.org/>\u001b[39m\u001b[23m) to force all conflicts to become errors\n"
          ]
        }
      ]
    },
    {
      "cell_type": "code",
      "execution_count": null,
      "metadata": {
        "colab": {
          "base_uri": "https://localhost:8080/",
          "height": 1000
        },
        "id": "hoO75FEN4RYM",
        "outputId": "bcfa1e40-e980-4736-91b5-4cf74abbccb8"
      },
      "outputs": [
        {
          "output_type": "display_data",
          "data": {
            "text/plain": [
              "      Rank          Title               Type              Premiere   \n",
              " Min.   :    1   Length:18164       Length:18164       Min.   :1940  \n",
              " 1st Qu.: 4592   Class :character   Class :character   1st Qu.:2012  \n",
              " Median : 9132   Mode  :character   Mode  :character   Median :2017  \n",
              " Mean   : 9127                                         Mean   :2014  \n",
              " 3rd Qu.:13673                                         3rd Qu.:2020  \n",
              " Max.   :18214                                         Max.   :2023  \n",
              "                                                       NA's   :134   \n",
              "    Genre            Watchtime         Watchtime.in.Million\n",
              " Length:18164       Length:18164       Length:18164        \n",
              " Class :character   Class :character   Class :character    \n",
              " Mode  :character   Mode  :character   Mode  :character    \n",
              "                                                           \n",
              "                                                           \n",
              "                                                           \n",
              "                                                           "
            ]
          },
          "metadata": {}
        },
        {
          "output_type": "stream",
          "name": "stdout",
          "text": [
            "'data.frame':\t18164 obs. of  7 variables:\n",
            " $ Rank                : int  1 2 3 4 5 6 7 8 9 10 ...\n",
            " $ Title               : chr  \"The Night Agent\" \"Ginny & Georgia\" \"The Glory\" \"Wednesday\" ...\n",
            " $ Type                : chr  \"TV Show\" \"TV Show\" \"TV Show\" \"TV Show\" ...\n",
            " $ Premiere            : int  2023 2021 2022 2022 2023 2018 2011 2020 2021 2023 ...\n",
            " $ Genre               : chr  \"Action\" \"Drama\" \"Thriller\" \"Fantasy\" ...\n",
            " $ Watchtime           : chr  \"81,21,00,000\" \"66,51,00,000\" \"62,28,00,000\" \"50,77,00,000\" ...\n",
            " $ Watchtime.in.Million: chr  \"812.1M\" \"665.1M\" \"622.8M\" \"507.7M\" ...\n"
          ]
        },
        {
          "output_type": "display_data",
          "data": {
            "text/html": [
              "<table class=\"dataframe\">\n",
              "<caption>A data.frame: 6 × 7</caption>\n",
              "<thead>\n",
              "\t<tr><th></th><th scope=col>Rank</th><th scope=col>Title</th><th scope=col>Type</th><th scope=col>Premiere</th><th scope=col>Genre</th><th scope=col>Watchtime</th><th scope=col>Watchtime.in.Million</th></tr>\n",
              "\t<tr><th></th><th scope=col>&lt;int&gt;</th><th scope=col>&lt;chr&gt;</th><th scope=col>&lt;chr&gt;</th><th scope=col>&lt;int&gt;</th><th scope=col>&lt;chr&gt;</th><th scope=col>&lt;chr&gt;</th><th scope=col>&lt;chr&gt;</th></tr>\n",
              "</thead>\n",
              "<tbody>\n",
              "\t<tr><th scope=row>1</th><td>1</td><td>The Night Agent                    </td><td>TV Show</td><td>2023</td><td>Action  </td><td>81,21,00,000</td><td>812.1M</td></tr>\n",
              "\t<tr><th scope=row>2</th><td>2</td><td><span style=white-space:pre-wrap>Ginny &amp; Georgia                    </span></td><td>TV Show</td><td>2021</td><td><span style=white-space:pre-wrap>Drama   </span></td><td>66,51,00,000</td><td>665.1M</td></tr>\n",
              "\t<tr><th scope=row>3</th><td>3</td><td>The Glory                          </td><td>TV Show</td><td>2022</td><td>Thriller</td><td>62,28,00,000</td><td>622.8M</td></tr>\n",
              "\t<tr><th scope=row>4</th><td>4</td><td>Wednesday                          </td><td>TV Show</td><td>2022</td><td>Fantasy </td><td>50,77,00,000</td><td>507.7M</td></tr>\n",
              "\t<tr><th scope=row>5</th><td>5</td><td>Queen Charlotte: A Bridgerton Story</td><td>TV Show</td><td>2023</td><td>Drama   </td><td>50,30,00,000</td><td>503.0M</td></tr>\n",
              "\t<tr><th scope=row>6</th><td>6</td><td>You                                </td><td>TV Show</td><td>2018</td><td>Crime   </td><td>44,06,00,000</td><td>440.6M</td></tr>\n",
              "</tbody>\n",
              "</table>\n"
            ],
            "text/markdown": "\nA data.frame: 6 × 7\n\n| <!--/--> | Rank &lt;int&gt; | Title &lt;chr&gt; | Type &lt;chr&gt; | Premiere &lt;int&gt; | Genre &lt;chr&gt; | Watchtime &lt;chr&gt; | Watchtime.in.Million &lt;chr&gt; |\n|---|---|---|---|---|---|---|---|\n| 1 | 1 | The Night Agent                     | TV Show | 2023 | Action   | 81,21,00,000 | 812.1M |\n| 2 | 2 | Ginny &amp; Georgia                     | TV Show | 2021 | Drama    | 66,51,00,000 | 665.1M |\n| 3 | 3 | The Glory                           | TV Show | 2022 | Thriller | 62,28,00,000 | 622.8M |\n| 4 | 4 | Wednesday                           | TV Show | 2022 | Fantasy  | 50,77,00,000 | 507.7M |\n| 5 | 5 | Queen Charlotte: A Bridgerton Story | TV Show | 2023 | Drama    | 50,30,00,000 | 503.0M |\n| 6 | 6 | You                                 | TV Show | 2018 | Crime    | 44,06,00,000 | 440.6M |\n\n",
            "text/latex": "A data.frame: 6 × 7\n\\begin{tabular}{r|lllllll}\n  & Rank & Title & Type & Premiere & Genre & Watchtime & Watchtime.in.Million\\\\\n  & <int> & <chr> & <chr> & <int> & <chr> & <chr> & <chr>\\\\\n\\hline\n\t1 & 1 & The Night Agent                     & TV Show & 2023 & Action   & 81,21,00,000 & 812.1M\\\\\n\t2 & 2 & Ginny \\& Georgia                     & TV Show & 2021 & Drama    & 66,51,00,000 & 665.1M\\\\\n\t3 & 3 & The Glory                           & TV Show & 2022 & Thriller & 62,28,00,000 & 622.8M\\\\\n\t4 & 4 & Wednesday                           & TV Show & 2022 & Fantasy  & 50,77,00,000 & 507.7M\\\\\n\t5 & 5 & Queen Charlotte: A Bridgerton Story & TV Show & 2023 & Drama    & 50,30,00,000 & 503.0M\\\\\n\t6 & 6 & You                                 & TV Show & 2018 & Crime    & 44,06,00,000 & 440.6M\\\\\n\\end{tabular}\n",
            "text/plain": [
              "  Rank Title                               Type    Premiere Genre   \n",
              "1 1    The Night Agent                     TV Show 2023     Action  \n",
              "2 2    Ginny & Georgia                     TV Show 2021     Drama   \n",
              "3 3    The Glory                           TV Show 2022     Thriller\n",
              "4 4    Wednesday                           TV Show 2022     Fantasy \n",
              "5 5    Queen Charlotte: A Bridgerton Story TV Show 2023     Drama   \n",
              "6 6    You                                 TV Show 2018     Crime   \n",
              "  Watchtime    Watchtime.in.Million\n",
              "1 81,21,00,000 812.1M              \n",
              "2 66,51,00,000 665.1M              \n",
              "3 62,28,00,000 622.8M              \n",
              "4 50,77,00,000 507.7M              \n",
              "5 50,30,00,000 503.0M              \n",
              "6 44,06,00,000 440.6M              "
            ]
          },
          "metadata": {}
        },
        {
          "output_type": "display_data",
          "data": {
            "text/plain": [
              "\n",
              "  Movie TV Show \n",
              "  10880    7284 "
            ]
          },
          "metadata": {}
        },
        {
          "output_type": "display_data",
          "data": {
            "text/plain": [
              "\n",
              "                         Action       Adventure       Animation       Biography \n",
              "            180            1100             281            2670             199 \n",
              "      Broadcast          Comedy        Concerts           Crime     Documentary \n",
              "             22            3946              20            1081            1294 \n",
              "          Drama      Fairy Tale          Family         Fantasy       Game-Show \n",
              "           3349              12              72             303               9 \n",
              "        History          Horror         Musical            News    Reality-Show \n",
              "            154             654              40               1             574 \n",
              "        Romance Science Fiction          Sports        Stand-Up       Superhero \n",
              "            519             398              17             224             143 \n",
              "      Talk Show        Thriller             War         Western \n",
              "             82             675              90              55 "
            ]
          },
          "metadata": {}
        },
        {
          "output_type": "display_data",
          "data": {
            "text/html": [
              "314"
            ],
            "text/markdown": "314",
            "text/latex": "314",
            "text/plain": [
              "[1] 314"
            ]
          },
          "metadata": {}
        },
        {
          "output_type": "display_data",
          "data": {
            "text/html": [
              "<table class=\"dataframe\">\n",
              "<caption>A data.frame: 7 × 1</caption>\n",
              "<thead>\n",
              "\t<tr><th></th><th scope=col>na_count</th></tr>\n",
              "\t<tr><th></th><th scope=col>&lt;int&gt;</th></tr>\n",
              "</thead>\n",
              "<tbody>\n",
              "\t<tr><th scope=row>Rank</th><td>  0</td></tr>\n",
              "\t<tr><th scope=row>Title</th><td>  0</td></tr>\n",
              "\t<tr><th scope=row>Type</th><td>  0</td></tr>\n",
              "\t<tr><th scope=row>Premiere</th><td>134</td></tr>\n",
              "\t<tr><th scope=row>Genre</th><td>180</td></tr>\n",
              "\t<tr><th scope=row>Watchtime</th><td>  0</td></tr>\n",
              "\t<tr><th scope=row>Watchtime.in.Million</th><td>  0</td></tr>\n",
              "</tbody>\n",
              "</table>\n"
            ],
            "text/markdown": "\nA data.frame: 7 × 1\n\n| <!--/--> | na_count &lt;int&gt; |\n|---|---|\n| Rank |   0 |\n| Title |   0 |\n| Type |   0 |\n| Premiere | 134 |\n| Genre | 180 |\n| Watchtime |   0 |\n| Watchtime.in.Million |   0 |\n\n",
            "text/latex": "A data.frame: 7 × 1\n\\begin{tabular}{r|l}\n  & na\\_count\\\\\n  & <int>\\\\\n\\hline\n\tRank &   0\\\\\n\tTitle &   0\\\\\n\tType &   0\\\\\n\tPremiere & 134\\\\\n\tGenre & 180\\\\\n\tWatchtime &   0\\\\\n\tWatchtime.in.Million &   0\\\\\n\\end{tabular}\n",
            "text/plain": [
              "                     na_count\n",
              "Rank                   0     \n",
              "Title                  0     \n",
              "Type                   0     \n",
              "Premiere             134     \n",
              "Genre                180     \n",
              "Watchtime              0     \n",
              "Watchtime.in.Million   0     "
            ]
          },
          "metadata": {}
        },
        {
          "output_type": "display_data",
          "data": {
            "text/html": [
              "'length before dropping 18164'"
            ],
            "text/markdown": "'length before dropping 18164'",
            "text/latex": "'length before dropping 18164'",
            "text/plain": [
              "[1] \"length before dropping 18164\""
            ]
          },
          "metadata": {}
        },
        {
          "output_type": "display_data",
          "data": {
            "text/html": [
              "'length after dropping NA : 17879'"
            ],
            "text/markdown": "'length after dropping NA : 17879'",
            "text/latex": "'length after dropping NA : 17879'",
            "text/plain": [
              "[1] \"length after dropping NA : 17879\""
            ]
          },
          "metadata": {}
        }
      ],
      "source": [
        "#load dataset\n",
        "df=read.csv(\"flix.csv\")\n",
        "\n",
        "#display summary\n",
        "summary(df)\n",
        "\n",
        "#display the structure\n",
        "str(df)\n",
        "\n",
        "#display first few rows\n",
        "head(df)\n",
        "\n",
        "# Tabulate frequencies for categorical variables\n",
        "table(df$Type)\n",
        "table(df$Genre)\n",
        "\n",
        "#Replace blanks by NA on all columns\n",
        "df[df==\"\"]<- NA\n",
        "\n",
        "#total count of NA values\n",
        "sum(is.na(df))\n",
        "\n",
        "#columnwise NA count\n",
        "na_count <-sapply(df, function(y) sum(is.na(y)))\n",
        "na_count=data.frame(na_count)\n",
        "na_count\n",
        "\n",
        "#total entries\n",
        "paste(\"length before dropping\",length(df$Genre))\n",
        "\n",
        "#NA values fairly less, so we will drop na\n",
        "df=df %>% drop_na()\n",
        "paste(\"length after dropping NA :\",length(df$Genre))\n",
        "\n",
        "#converting comma separated numbers to integers in Watchtime column\n",
        "df$Watchtime <- as.integer(gsub(\",\", \"\", df$Watchtime))"
      ]
    },
    {
      "cell_type": "markdown",
      "source": [
        "#Q1\n",
        "\n",
        "Customer A would like to watch a crime Movie that is\n",
        "premiered between 2000 and 2023 and most viewed.\n",
        "What would be your recommendation?"
      ],
      "metadata": {
        "id": "md37hqydFwwc"
      }
    },
    {
      "cell_type": "code",
      "source": [
        "unique(df$Genre)\n",
        "unique(df$Premiere)\n",
        "unique(df$Type)"
      ],
      "metadata": {
        "colab": {
          "base_uri": "https://localhost:8080/",
          "height": 121
        },
        "id": "fnV1T8qaJC-Y",
        "outputId": "5bc60164-5c46-4619-d1cd-2dd77181bd5f"
      },
      "execution_count": null,
      "outputs": [
        {
          "output_type": "display_data",
          "data": {
            "text/html": [
              "<style>\n",
              ".list-inline {list-style: none; margin:0; padding: 0}\n",
              ".list-inline>li {display: inline-block}\n",
              ".list-inline>li:not(:last-child)::after {content: \"\\00b7\"; padding: 0 .5ex}\n",
              "</style>\n",
              "<ol class=list-inline><li>'Action'</li><li>'Drama'</li><li>'Thriller'</li><li>'Fantasy'</li><li>'Crime'</li><li>'Reality-Show'</li><li>'Comedy'</li><li>'History'</li><li>'Superhero'</li><li>'Animation'</li><li>'Science Fiction'</li><li>'Horror'</li><li>'Adventure'</li><li>'Documentary'</li><li>'War'</li><li>'Musical'</li><li>'Romance'</li><li>'Family'</li><li>'Stand-Up'</li><li>'Western'</li><li>'Sports'</li><li>'Biography'</li><li>'Talk Show'</li><li>'Game-Show'</li><li>'Broadcast'</li><li>'Concerts'</li><li>'News'</li><li>'Fairy Tale'</li></ol>\n"
            ],
            "text/markdown": "1. 'Action'\n2. 'Drama'\n3. 'Thriller'\n4. 'Fantasy'\n5. 'Crime'\n6. 'Reality-Show'\n7. 'Comedy'\n8. 'History'\n9. 'Superhero'\n10. 'Animation'\n11. 'Science Fiction'\n12. 'Horror'\n13. 'Adventure'\n14. 'Documentary'\n15. 'War'\n16. 'Musical'\n17. 'Romance'\n18. 'Family'\n19. 'Stand-Up'\n20. 'Western'\n21. 'Sports'\n22. 'Biography'\n23. 'Talk Show'\n24. 'Game-Show'\n25. 'Broadcast'\n26. 'Concerts'\n27. 'News'\n28. 'Fairy Tale'\n\n\n",
            "text/latex": "\\begin{enumerate*}\n\\item 'Action'\n\\item 'Drama'\n\\item 'Thriller'\n\\item 'Fantasy'\n\\item 'Crime'\n\\item 'Reality-Show'\n\\item 'Comedy'\n\\item 'History'\n\\item 'Superhero'\n\\item 'Animation'\n\\item 'Science Fiction'\n\\item 'Horror'\n\\item 'Adventure'\n\\item 'Documentary'\n\\item 'War'\n\\item 'Musical'\n\\item 'Romance'\n\\item 'Family'\n\\item 'Stand-Up'\n\\item 'Western'\n\\item 'Sports'\n\\item 'Biography'\n\\item 'Talk Show'\n\\item 'Game-Show'\n\\item 'Broadcast'\n\\item 'Concerts'\n\\item 'News'\n\\item 'Fairy Tale'\n\\end{enumerate*}\n",
            "text/plain": [
              " [1] \"Action\"          \"Drama\"           \"Thriller\"        \"Fantasy\"        \n",
              " [5] \"Crime\"           \"Reality-Show\"    \"Comedy\"          \"History\"        \n",
              " [9] \"Superhero\"       \"Animation\"       \"Science Fiction\" \"Horror\"         \n",
              "[13] \"Adventure\"       \"Documentary\"     \"War\"             \"Musical\"        \n",
              "[17] \"Romance\"         \"Family\"          \"Stand-Up\"        \"Western\"        \n",
              "[21] \"Sports\"          \"Biography\"       \"Talk Show\"       \"Game-Show\"      \n",
              "[25] \"Broadcast\"       \"Concerts\"        \"News\"            \"Fairy Tale\"     "
            ]
          },
          "metadata": {}
        },
        {
          "output_type": "display_data",
          "data": {
            "text/html": [
              "<style>\n",
              ".list-inline {list-style: none; margin:0; padding: 0}\n",
              ".list-inline>li {display: inline-block}\n",
              ".list-inline>li:not(:last-child)::after {content: \"\\00b7\"; padding: 0 .5ex}\n",
              "</style>\n",
              "<ol class=list-inline><li>2023</li><li>2021</li><li>2022</li><li>2018</li><li>2011</li><li>2020</li><li>2012</li><li>2013</li><li>2010</li><li>2016</li><li>2003</li><li>2019</li><li>2008</li><li>2017</li><li>2000</li><li>2004</li><li>2015</li><li>2014</li><li>2009</li><li>1996</li><li>2005</li><li>1994</li><li>2007</li><li>2001</li><li>1989</li><li>1997</li><li>2006</li><li>2002</li><li>1993</li><li>1999</li><li>1995</li><li>1972</li><li>1983</li><li>1978</li><li>1998</li><li>1974</li><li>1986</li><li>1988</li><li>1991</li><li>1976</li><li>1985</li><li>1987</li><li>1992</li><li>1977</li><li>1990</li><li>1979</li><li>1973</li><li>1982</li><li>1966</li><li>1984</li><li>1980</li><li>1975</li><li>1940</li><li>1963</li><li>1970</li><li>1981</li><li>1964</li><li>1960</li><li>1971</li><li>1968</li><li>1969</li><li>1962</li><li>1954</li><li>1961</li><li>1953</li><li>1957</li><li>1956</li><li>1958</li><li>1965</li><li>1951</li><li>1955</li><li>1967</li><li>1952</li></ol>\n"
            ],
            "text/markdown": "1. 2023\n2. 2021\n3. 2022\n4. 2018\n5. 2011\n6. 2020\n7. 2012\n8. 2013\n9. 2010\n10. 2016\n11. 2003\n12. 2019\n13. 2008\n14. 2017\n15. 2000\n16. 2004\n17. 2015\n18. 2014\n19. 2009\n20. 1996\n21. 2005\n22. 1994\n23. 2007\n24. 2001\n25. 1989\n26. 1997\n27. 2006\n28. 2002\n29. 1993\n30. 1999\n31. 1995\n32. 1972\n33. 1983\n34. 1978\n35. 1998\n36. 1974\n37. 1986\n38. 1988\n39. 1991\n40. 1976\n41. 1985\n42. 1987\n43. 1992\n44. 1977\n45. 1990\n46. 1979\n47. 1973\n48. 1982\n49. 1966\n50. 1984\n51. 1980\n52. 1975\n53. 1940\n54. 1963\n55. 1970\n56. 1981\n57. 1964\n58. 1960\n59. 1971\n60. 1968\n61. 1969\n62. 1962\n63. 1954\n64. 1961\n65. 1953\n66. 1957\n67. 1956\n68. 1958\n69. 1965\n70. 1951\n71. 1955\n72. 1967\n73. 1952\n\n\n",
            "text/latex": "\\begin{enumerate*}\n\\item 2023\n\\item 2021\n\\item 2022\n\\item 2018\n\\item 2011\n\\item 2020\n\\item 2012\n\\item 2013\n\\item 2010\n\\item 2016\n\\item 2003\n\\item 2019\n\\item 2008\n\\item 2017\n\\item 2000\n\\item 2004\n\\item 2015\n\\item 2014\n\\item 2009\n\\item 1996\n\\item 2005\n\\item 1994\n\\item 2007\n\\item 2001\n\\item 1989\n\\item 1997\n\\item 2006\n\\item 2002\n\\item 1993\n\\item 1999\n\\item 1995\n\\item 1972\n\\item 1983\n\\item 1978\n\\item 1998\n\\item 1974\n\\item 1986\n\\item 1988\n\\item 1991\n\\item 1976\n\\item 1985\n\\item 1987\n\\item 1992\n\\item 1977\n\\item 1990\n\\item 1979\n\\item 1973\n\\item 1982\n\\item 1966\n\\item 1984\n\\item 1980\n\\item 1975\n\\item 1940\n\\item 1963\n\\item 1970\n\\item 1981\n\\item 1964\n\\item 1960\n\\item 1971\n\\item 1968\n\\item 1969\n\\item 1962\n\\item 1954\n\\item 1961\n\\item 1953\n\\item 1957\n\\item 1956\n\\item 1958\n\\item 1965\n\\item 1951\n\\item 1955\n\\item 1967\n\\item 1952\n\\end{enumerate*}\n",
            "text/plain": [
              " [1] 2023 2021 2022 2018 2011 2020 2012 2013 2010 2016 2003 2019 2008 2017 2000\n",
              "[16] 2004 2015 2014 2009 1996 2005 1994 2007 2001 1989 1997 2006 2002 1993 1999\n",
              "[31] 1995 1972 1983 1978 1998 1974 1986 1988 1991 1976 1985 1987 1992 1977 1990\n",
              "[46] 1979 1973 1982 1966 1984 1980 1975 1940 1963 1970 1981 1964 1960 1971 1968\n",
              "[61] 1969 1962 1954 1961 1953 1957 1956 1958 1965 1951 1955 1967 1952"
            ]
          },
          "metadata": {}
        },
        {
          "output_type": "display_data",
          "data": {
            "text/html": [
              "<style>\n",
              ".list-inline {list-style: none; margin:0; padding: 0}\n",
              ".list-inline>li {display: inline-block}\n",
              ".list-inline>li:not(:last-child)::after {content: \"\\00b7\"; padding: 0 .5ex}\n",
              "</style>\n",
              "<ol class=list-inline><li>'TV Show'</li><li>'Movie'</li></ol>\n"
            ],
            "text/markdown": "1. 'TV Show'\n2. 'Movie'\n\n\n",
            "text/latex": "\\begin{enumerate*}\n\\item 'TV Show'\n\\item 'Movie'\n\\end{enumerate*}\n",
            "text/plain": [
              "[1] \"TV Show\" \"Movie\"  "
            ]
          },
          "metadata": {}
        }
      ]
    },
    {
      "cell_type": "code",
      "source": [
        "q1df=df[df$Genre=='Crime'& df$Premiere >1999 & df$Premiere<=2023, ]\n",
        "head(q1df,1)"
      ],
      "metadata": {
        "colab": {
          "base_uri": "https://localhost:8080/",
          "height": 129
        },
        "id": "PyEj4_VpJvTv",
        "outputId": "90b1fd74-0a9f-48ce-8009-6774f241e0cf"
      },
      "execution_count": null,
      "outputs": [
        {
          "output_type": "display_data",
          "data": {
            "text/html": [
              "<table class=\"dataframe\">\n",
              "<caption>A data.frame: 1 × 7</caption>\n",
              "<thead>\n",
              "\t<tr><th></th><th scope=col>Rank</th><th scope=col>Title</th><th scope=col>Type</th><th scope=col>Premiere</th><th scope=col>Genre</th><th scope=col>Watchtime</th><th scope=col>Watchtime.in.Million</th></tr>\n",
              "\t<tr><th></th><th scope=col>&lt;int&gt;</th><th scope=col>&lt;chr&gt;</th><th scope=col>&lt;chr&gt;</th><th scope=col>&lt;int&gt;</th><th scope=col>&lt;chr&gt;</th><th scope=col>&lt;chr&gt;</th><th scope=col>&lt;chr&gt;</th></tr>\n",
              "</thead>\n",
              "<tbody>\n",
              "\t<tr><th scope=row>6</th><td>6</td><td>You</td><td>TV Show</td><td>2018</td><td>Crime</td><td>44,06,00,000</td><td>440.6M</td></tr>\n",
              "</tbody>\n",
              "</table>\n"
            ],
            "text/markdown": "\nA data.frame: 1 × 7\n\n| <!--/--> | Rank &lt;int&gt; | Title &lt;chr&gt; | Type &lt;chr&gt; | Premiere &lt;int&gt; | Genre &lt;chr&gt; | Watchtime &lt;chr&gt; | Watchtime.in.Million &lt;chr&gt; |\n|---|---|---|---|---|---|---|---|\n| 6 | 6 | You | TV Show | 2018 | Crime | 44,06,00,000 | 440.6M |\n\n",
            "text/latex": "A data.frame: 1 × 7\n\\begin{tabular}{r|lllllll}\n  & Rank & Title & Type & Premiere & Genre & Watchtime & Watchtime.in.Million\\\\\n  & <int> & <chr> & <chr> & <int> & <chr> & <chr> & <chr>\\\\\n\\hline\n\t6 & 6 & You & TV Show & 2018 & Crime & 44,06,00,000 & 440.6M\\\\\n\\end{tabular}\n",
            "text/plain": [
              "  Rank Title Type    Premiere Genre Watchtime    Watchtime.in.Million\n",
              "6 6    You   TV Show 2018     Crime 44,06,00,000 440.6M              "
            ]
          },
          "metadata": {}
        }
      ]
    },
    {
      "cell_type": "markdown",
      "source": [
        "#Q2\n",
        "Customer B would like to watch a historical TV show that\n",
        "is premiered between 2010 and 2020 and least viewed.\n",
        "What would be your recommendation?"
      ],
      "metadata": {
        "id": "Y11Usci3M-vH"
      }
    },
    {
      "cell_type": "code",
      "source": [
        "q2df=df[df$Genre=='History'& df$Premiere >=2010 & df$Premiere<=2020, ]\n",
        "tail(q2df,1)"
      ],
      "metadata": {
        "colab": {
          "base_uri": "https://localhost:8080/",
          "height": 129
        },
        "id": "2QCVZl4lNA0X",
        "outputId": "eb7829a6-39cb-45c8-aae6-f901c4bc2c06"
      },
      "execution_count": null,
      "outputs": [
        {
          "output_type": "display_data",
          "data": {
            "text/html": [
              "<table class=\"dataframe\">\n",
              "<caption>A data.frame: 1 × 7</caption>\n",
              "<thead>\n",
              "\t<tr><th></th><th scope=col>Rank</th><th scope=col>Title</th><th scope=col>Type</th><th scope=col>Premiere</th><th scope=col>Genre</th><th scope=col>Watchtime</th><th scope=col>Watchtime.in.Million</th></tr>\n",
              "\t<tr><th></th><th scope=col>&lt;int&gt;</th><th scope=col>&lt;chr&gt;</th><th scope=col>&lt;chr&gt;</th><th scope=col>&lt;int&gt;</th><th scope=col>&lt;chr&gt;</th><th scope=col>&lt;int&gt;</th><th scope=col>&lt;chr&gt;</th></tr>\n",
              "</thead>\n",
              "<tbody>\n",
              "\t<tr><th scope=row>17365</th><td>17674</td><td>Laia</td><td>Movie</td><td>2016</td><td>History</td><td>100000</td><td>0.1M</td></tr>\n",
              "</tbody>\n",
              "</table>\n"
            ],
            "text/markdown": "\nA data.frame: 1 × 7\n\n| <!--/--> | Rank &lt;int&gt; | Title &lt;chr&gt; | Type &lt;chr&gt; | Premiere &lt;int&gt; | Genre &lt;chr&gt; | Watchtime &lt;int&gt; | Watchtime.in.Million &lt;chr&gt; |\n|---|---|---|---|---|---|---|---|\n| 17365 | 17674 | Laia | Movie | 2016 | History | 100000 | 0.1M |\n\n",
            "text/latex": "A data.frame: 1 × 7\n\\begin{tabular}{r|lllllll}\n  & Rank & Title & Type & Premiere & Genre & Watchtime & Watchtime.in.Million\\\\\n  & <int> & <chr> & <chr> & <int> & <chr> & <int> & <chr>\\\\\n\\hline\n\t17365 & 17674 & Laia & Movie & 2016 & History & 100000 & 0.1M\\\\\n\\end{tabular}\n",
            "text/plain": [
              "      Rank  Title Type  Premiere Genre   Watchtime Watchtime.in.Million\n",
              "17365 17674 Laia  Movie 2016     History 100000    0.1M                "
            ]
          },
          "metadata": {}
        }
      ]
    },
    {
      "cell_type": "code",
      "source": [],
      "metadata": {
        "id": "ldSDRKz2DO1D"
      },
      "execution_count": null,
      "outputs": []
    },
    {
      "cell_type": "markdown",
      "source": [
        "#Q3\n",
        "Provide a histogram based on the year, genre, movie,\n",
        "views etc"
      ],
      "metadata": {
        "id": "tio01R8CNcDq"
      }
    },
    {
      "cell_type": "code",
      "source": [
        "ggplot(df, aes(x = Premiere)) +\n",
        "  geom_bar(fill=\"green\") +\n",
        "  labs(x = \"watchtime\") +\n",
        "  ggtitle(\"Count Data Distribution\") +\n",
        "  theme(axis.text.x = element_text(angle = 90, vjust = 0.5, hjust=1))\n"
      ],
      "metadata": {
        "id": "jepggwmsNebL",
        "colab": {
          "base_uri": "https://localhost:8080/",
          "height": 437
        },
        "outputId": "7d0e1bc0-023e-477b-ebd5-410e3033343c"
      },
      "execution_count": null,
      "outputs": [
        {
          "output_type": "display_data",
          "data": {
            "text/plain": [
              "plot without title"
            ],
            "image/png": "[encoded data removed]"
          },
          "metadata": {
            "image/png": {
              "width": 420,
              "height": 420
            }
          }
        }
      ]
    },
    {
      "cell_type": "code",
      "source": [
        "ggplot(df, aes(x = Genre)) +\n",
        "  geom_bar(fill=\"pink\") +\n",
        "  labs(x = \"Watchtime\") +\n",
        "  ggtitle(\"Count Data Distribution\") +\n",
        "  theme(axis.text.x = element_text(angle = 90, vjust = 0.5, hjust=1))"
      ],
      "metadata": {
        "id": "h5RY35kgqoHG",
        "colab": {
          "base_uri": "https://localhost:8080/",
          "height": 437
        },
        "outputId": "86e67aba-7dce-4339-f28d-a288bce69306"
      },
      "execution_count": null,
      "outputs": [
        {
          "output_type": "display_data",
          "data": {
            "text/plain": [
              "plot without title"
            ],
            "image/png": "[encoded data removed]"
          },
          "metadata": {
            "image/png": {
              "width": 420,
              "height": 420
            }
          }
        }
      ]
    },
    {
      "cell_type": "code",
      "source": [],
      "metadata": {
        "colab": {
          "base_uri": "https://localhost:8080/",
          "height": 349
        },
        "id": "74hZwpZYltnr",
        "outputId": "3ba0f885-f638-4bea-f7fc-6bb65abda1a4"
      },
      "execution_count": null,
      "outputs": [
        {
          "output_type": "display_data",
          "data": {
            "text/html": [
              "<table class=\"dataframe\">\n",
              "<caption>A data.frame: 8 × 2</caption>\n",
              "<thead>\n",
              "\t<tr><th scope=col>intervals</th><th scope=col>Freq</th></tr>\n",
              "\t<tr><th scope=col>&lt;fct&gt;</th><th scope=col>&lt;int&gt;</th></tr>\n",
              "</thead>\n",
              "<tbody>\n",
              "\t<tr><td>[0,100)  </td><td>17790</td></tr>\n",
              "\t<tr><td>[100,200)</td><td>   65</td></tr>\n",
              "\t<tr><td>[200,300)</td><td>   15</td></tr>\n",
              "\t<tr><td>[300,400)</td><td>    1</td></tr>\n",
              "\t<tr><td>[400,500)</td><td>    3</td></tr>\n",
              "\t<tr><td>[500,600)</td><td>    2</td></tr>\n",
              "\t<tr><td>[600,700)</td><td>    2</td></tr>\n",
              "\t<tr><td>[700,800)</td><td>    0</td></tr>\n",
              "</tbody>\n",
              "</table>\n"
            ],
            "text/markdown": "\nA data.frame: 8 × 2\n\n| intervals &lt;fct&gt; | Freq &lt;int&gt; |\n|---|---|\n| [0,100)   | 17790 |\n| [100,200) |    65 |\n| [200,300) |    15 |\n| [300,400) |     1 |\n| [400,500) |     3 |\n| [500,600) |     2 |\n| [600,700) |     2 |\n| [700,800) |     0 |\n\n",
            "text/latex": "A data.frame: 8 × 2\n\\begin{tabular}{ll}\n intervals & Freq\\\\\n <fct> & <int>\\\\\n\\hline\n\t {[}0,100)   & 17790\\\\\n\t {[}100,200) &    65\\\\\n\t {[}200,300) &    15\\\\\n\t {[}300,400) &     1\\\\\n\t {[}400,500) &     3\\\\\n\t {[}500,600) &     2\\\\\n\t {[}600,700) &     2\\\\\n\t {[}700,800) &     0\\\\\n\\end{tabular}\n",
            "text/plain": [
              "  intervals Freq \n",
              "1 [0,100)   17790\n",
              "2 [100,200)    65\n",
              "3 [200,300)    15\n",
              "4 [300,400)     1\n",
              "5 [400,500)     3\n",
              "6 [500,600)     2\n",
              "7 [600,700)     2\n",
              "8 [700,800)     0"
            ]
          },
          "metadata": {}
        }
      ]
    },
    {
      "cell_type": "code",
      "source": [
        "min(df$Watchtime.in.Million)\n",
        "max(df$Watchtime.in.Million)\n",
        "\n",
        "# Define intervals\n",
        "intervals <- cut(df$Watchtime.in.Million, breaks = seq(0, 800, by = 100), right = FALSE)\n",
        "freq_table <- table(intervals)\n",
        "barplot(freq_table, col = c(\"red\", \"blue\", \"green\", \"orange\", \"purple\"))\n",
        "freq_table=data.frame(freq_table)\n",
        "\n"
      ],
      "metadata": {
        "colab": {
          "base_uri": "https://localhost:8080/",
          "height": 472
        },
        "id": "3hhJGY_2uA_7",
        "outputId": "47f8f7cc-00b9-4eb2-f747-6283438a76ee"
      },
      "execution_count": null,
      "outputs": [
        {
          "output_type": "display_data",
          "data": {
            "text/html": [
              "0"
            ],
            "text/markdown": "0",
            "text/latex": "0",
            "text/plain": [
              "[1] 0"
            ]
          },
          "metadata": {}
        },
        {
          "output_type": "display_data",
          "data": {
            "text/html": [
              "812"
            ],
            "text/markdown": "812",
            "text/latex": "812",
            "text/plain": [
              "[1] 812"
            ]
          },
          "metadata": {}
        },
        {
          "output_type": "display_data",
          "data": {
            "text/plain": [
              "plot without title"
            ],
            "image/png": "[encoded data removed]"
          },
          "metadata": {
            "image/png": {
              "width": 420,
              "height": 420
            }
          }
        }
      ]
    },
    {
      "cell_type": "code",
      "source": [
        "intervals2 <- cut(df$Watchtime.in.Million, breaks = seq(0, 100, by = 2), right = FALSE)\n",
        "freq_table <- table(intervals2)\n",
        "barplot(freq_table, col = c(\"red\", \"blue\", \"green\", \"orange\", \"purple\"))"
      ],
      "metadata": {
        "colab": {
          "base_uri": "https://localhost:8080/",
          "height": 437
        },
        "id": "TlTxZDy0dUsu",
        "outputId": "766c3c26-07b4-4660-d383-8815e845c5f6"
      },
      "execution_count": null,
      "outputs": [
        {
          "output_type": "display_data",
          "data": {
            "text/plain": [
              "plot without title"
            ],
            "image/png": "[encoded data removed]"
          },
          "metadata": {
            "image/png": {
              "width": 420,
              "height": 420
            }
          }
        }
      ]
    },
    {
      "cell_type": "code",
      "source": [
        "data <- c(10, 15, 20, 25, 30, 35, 40, 45, 50, 55)\n",
        "\n",
        "# Define intervals\n",
        "intervals <- cut(data, breaks = seq(0, 60, by = 10), right = FALSE)\n",
        "\n",
        "# Compute frequency table\n",
        "freq_table <- table(intervals)\n",
        "\n",
        "# Print the frequency table\n",
        "print(freq_table)"
      ],
      "metadata": {
        "colab": {
          "base_uri": "https://localhost:8080/"
        },
        "id": "xhx8t6UXcrJR",
        "outputId": "15a5ed67-18cd-4fe7-ff73-9eadefcff932"
      },
      "execution_count": null,
      "outputs": [
        {
          "output_type": "stream",
          "name": "stdout",
          "text": [
            "intervals\n",
            " [0,10) [10,20) [20,30) [30,40) [40,50) [50,60) \n",
            "      0       2       2       2       2       2 \n"
          ]
        }
      ]
    },
    {
      "cell_type": "markdown",
      "source": [
        "#Q4\n",
        "Create a piece of software in such a way that, it asks the\n",
        "input from the customer as follows\n",
        "\n",
        "◼ Type of movie or TV show\n",
        "\n",
        "◼ Genre\n",
        "\n",
        "◼ Range of years\n",
        "\n",
        "◼ Number of views\n",
        "\n",
        "◼ Based on the above input, your software should provide\n",
        "a suggested movie to the customer"
      ],
      "metadata": {
        "id": "Bw1xF1UFs1F4"
      }
    },
    {
      "cell_type": "code",
      "source": [
        "recommend=function(){\n",
        "type=readline(prompt=\"Enter the type: \")\n",
        "g=readline(prompt=\"Enter the genre: \")\n",
        "n=as.integer(readline(prompt=\"Enter the start year: \"))\n",
        "m=as.integer(readline(prompt=\"Enter the end year: \"))\n",
        "a=(readline(prompt=\"Enter the min views in million (from 1 to 812 million): \"))\n",
        "b=(readline(prompt=\"Enter the max views in milions (from 1 to 812 million): \"))\n",
        "\n",
        "\n",
        "recommendation=df[df$Type==type & df$Premiere >=n & df$Premiere<=m & df$Genre==g & df$Watchtime>=a & df$Watchtime<=b, ]\n",
        "return(head(recommendation,1))\n",
        "}\n"
      ],
      "metadata": {
        "id": "KA6ORsIPTn3-"
      },
      "execution_count": null,
      "outputs": []
    },
    {
      "cell_type": "code",
      "source": [
        "recommend()"
      ],
      "metadata": {
        "colab": {
          "base_uri": "https://localhost:8080/",
          "height": 233
        },
        "id": "JyZ-AGf5IVUO",
        "outputId": "7c68c601-0dac-4de0-862e-77cbdb6267ce"
      },
      "execution_count": null,
      "outputs": [
        {
          "name": "stdout",
          "output_type": "stream",
          "text": [
            "Enter the type: Movie\n",
            "Enter the genre: Crime\n",
            "Enter the start year: 2003\n",
            "Enter the end year: 2011\n",
            "Enter the min views in million (from 1 to 812 million): 1000000\n",
            "Enter the max views in milions (from 1 to 812 million): 81000000\n"
          ]
        },
        {
          "output_type": "display_data",
          "data": {
            "text/html": [
              "<table class=\"dataframe\">\n",
              "<caption>A data.frame: 1 × 7</caption>\n",
              "<thead>\n",
              "\t<tr><th></th><th scope=col>Rank</th><th scope=col>Title</th><th scope=col>Type</th><th scope=col>Premiere</th><th scope=col>Genre</th><th scope=col>Watchtime</th><th scope=col>Watchtime.in.Million</th></tr>\n",
              "\t<tr><th></th><th scope=col>&lt;int&gt;</th><th scope=col>&lt;chr&gt;</th><th scope=col>&lt;chr&gt;</th><th scope=col>&lt;int&gt;</th><th scope=col>&lt;chr&gt;</th><th scope=col>&lt;int&gt;</th><th scope=col>&lt;int&gt;</th></tr>\n",
              "</thead>\n",
              "<tbody>\n",
              "\t<tr><th scope=row>914</th><td>916</td><td>Inside Man</td><td>Movie</td><td>2006</td><td>Crime</td><td>23100000</td><td>23</td></tr>\n",
              "</tbody>\n",
              "</table>\n"
            ],
            "text/markdown": "\nA data.frame: 1 × 7\n\n| <!--/--> | Rank &lt;int&gt; | Title &lt;chr&gt; | Type &lt;chr&gt; | Premiere &lt;int&gt; | Genre &lt;chr&gt; | Watchtime &lt;int&gt; | Watchtime.in.Million &lt;int&gt; |\n|---|---|---|---|---|---|---|---|\n| 914 | 916 | Inside Man | Movie | 2006 | Crime | 23100000 | 23 |\n\n",
            "text/latex": "A data.frame: 1 × 7\n\\begin{tabular}{r|lllllll}\n  & Rank & Title & Type & Premiere & Genre & Watchtime & Watchtime.in.Million\\\\\n  & <int> & <chr> & <chr> & <int> & <chr> & <int> & <int>\\\\\n\\hline\n\t914 & 916 & Inside Man & Movie & 2006 & Crime & 23100000 & 23\\\\\n\\end{tabular}\n",
            "text/plain": [
              "    Rank Title      Type  Premiere Genre Watchtime Watchtime.in.Million\n",
              "914 916  Inside Man Movie 2006     Crime 23100000  23                  "
            ]
          },
          "metadata": {}
        }
      ]
    },
    {
      "cell_type": "markdown",
      "source": [],
      "metadata": {
        "id": "rXkGMrXfVR2x"
      }
    },
    {
      "cell_type": "markdown",
      "source": [
        "#Q5\n",
        "Design another 5 problems that you can extract\n",
        "information and provide to Netflix from this dataset\n"
      ],
      "metadata": {
        "id": "ztXEh8cEVWPB"
      }
    },
    {
      "cell_type": "code",
      "source": [
        "####q1 watchtime of movies vs watchtime of tv shows\n",
        "total_movies=nrow(df[df$Type==\"Movie\",])\n",
        "total_tvshows=nrow(df[df$Type==\"TV Show\",])\n"
      ],
      "metadata": {
        "colab": {
          "base_uri": "https://localhost:8080/",
          "height": 52
        },
        "id": "-EoVjdJ5vek8",
        "outputId": "10a8421f-27c6-4bfa-83eb-cf9308278fa0"
      },
      "execution_count": null,
      "outputs": [
        {
          "output_type": "display_data",
          "data": {
            "text/html": [
              "'total movies : 10742'"
            ],
            "text/markdown": "'total movies : 10742'",
            "text/latex": "'total movies : 10742'",
            "text/plain": [
              "[1] \"total movies : 10742\""
            ]
          },
          "metadata": {}
        },
        {
          "output_type": "display_data",
          "data": {
            "text/html": [
              "'total_tv shows : 7137'"
            ],
            "text/markdown": "'total_tv shows : 7137'",
            "text/latex": "'total\\_tv shows : 7137'",
            "text/plain": [
              "[1] \"total_tv shows : 7137\""
            ]
          },
          "metadata": {}
        }
      ]
    },
    {
      "cell_type": "code",
      "source": [
        "paste(\"total movies :\",total_movies)\n",
        "paste(\"total_tv shows :\", total_tvshows)\n",
        "sum_table=df %>% group_by(Type) %>% summarize(tot_views= sum(Watchtime))\n",
        "sum_table"
      ],
      "metadata": {
        "colab": {
          "base_uri": "https://localhost:8080/",
          "height": 195
        },
        "id": "ZYR1h7GPxU-j",
        "outputId": "3a1167db-8f9e-49e2-e7d9-c89db2e7a836"
      },
      "execution_count": null,
      "outputs": [
        {
          "output_type": "display_data",
          "data": {
            "text/html": [
              "'total movies : 10742'"
            ],
            "text/markdown": "'total movies : 10742'",
            "text/latex": "'total movies : 10742'",
            "text/plain": [
              "[1] \"total movies : 10742\""
            ]
          },
          "metadata": {}
        },
        {
          "output_type": "display_data",
          "data": {
            "text/html": [
              "'total_tv shows : 7137'"
            ],
            "text/markdown": "'total_tv shows : 7137'",
            "text/latex": "'total\\_tv shows : 7137'",
            "text/plain": [
              "[1] \"total_tv shows : 7137\""
            ]
          },
          "metadata": {}
        },
        {
          "output_type": "display_data",
          "data": {
            "text/html": [
              "<table class=\"dataframe\">\n",
              "<caption>A tibble: 2 × 2</caption>\n",
              "<thead>\n",
              "\t<tr><th scope=col>Type</th><th scope=col>tot_views</th></tr>\n",
              "\t<tr><th scope=col>&lt;chr&gt;</th><th scope=col>&lt;dbl&gt;</th></tr>\n",
              "</thead>\n",
              "<tbody>\n",
              "\t<tr><td>Movie  </td><td>25240800000</td></tr>\n",
              "\t<tr><td>TV Show</td><td>67489800000</td></tr>\n",
              "</tbody>\n",
              "</table>\n"
            ],
            "text/markdown": "\nA tibble: 2 × 2\n\n| Type &lt;chr&gt; | tot_views &lt;dbl&gt; |\n|---|---|\n| Movie   | 25240800000 |\n| TV Show | 67489800000 |\n\n",
            "text/latex": "A tibble: 2 × 2\n\\begin{tabular}{ll}\n Type & tot\\_views\\\\\n <chr> & <dbl>\\\\\n\\hline\n\t Movie   & 25240800000\\\\\n\t TV Show & 67489800000\\\\\n\\end{tabular}\n",
            "text/plain": [
              "  Type    tot_views  \n",
              "1 Movie   25240800000\n",
              "2 TV Show 67489800000"
            ]
          },
          "metadata": {}
        }
      ]
    },
    {
      "cell_type": "code",
      "source": [
        "##q2 convert the column \"Watch time in millions\" into an integer valued column\n",
        "# Define a function to convert values with 'M' suffix to integers\n",
        "convert_to_int <- function(x) {\n",
        "  if (grepl(\"M$\", x)) {\n",
        "    # If the element ends with \"M\"\n",
        "    numeric_part <- as.integer(sub(\"M\", \"\", x))  # Remove \"M\" and convert to integer\n",
        "  } else {\n",
        "    # If the element doesn't end with \"M\"\n",
        "    numeric_part <- as.integer(x)  # Convert to integer directly\n",
        "  }\n",
        "  return(numeric_part)\n",
        "}\n",
        "# Apply the function to the column\n",
        "df$Watchtime.in.Million <- sapply(df$Watchtime.in.Million, convert_to_int)\n",
        "\n",
        "# Print the modified dataframe\n",
        "head(df)"
      ],
      "metadata": {
        "colab": {
          "base_uri": "https://localhost:8080/",
          "height": 286
        },
        "id": "Vi06oqR60K8L",
        "outputId": "109334bc-ac08-4b51-f15f-5273afb27479"
      },
      "execution_count": null,
      "outputs": [
        {
          "output_type": "display_data",
          "data": {
            "text/html": [
              "<table class=\"dataframe\">\n",
              "<caption>A data.frame: 6 × 7</caption>\n",
              "<thead>\n",
              "\t<tr><th></th><th scope=col>Rank</th><th scope=col>Title</th><th scope=col>Type</th><th scope=col>Premiere</th><th scope=col>Genre</th><th scope=col>Watchtime</th><th scope=col>Watchtime.in.Million</th></tr>\n",
              "\t<tr><th></th><th scope=col>&lt;int&gt;</th><th scope=col>&lt;chr&gt;</th><th scope=col>&lt;chr&gt;</th><th scope=col>&lt;int&gt;</th><th scope=col>&lt;chr&gt;</th><th scope=col>&lt;int&gt;</th><th scope=col>&lt;int&gt;</th></tr>\n",
              "</thead>\n",
              "<tbody>\n",
              "\t<tr><th scope=row>1</th><td>1</td><td>The Night Agent                    </td><td>TV Show</td><td>2023</td><td>Action  </td><td>812100000</td><td>812</td></tr>\n",
              "\t<tr><th scope=row>2</th><td>2</td><td><span style=white-space:pre-wrap>Ginny &amp; Georgia                    </span></td><td>TV Show</td><td>2021</td><td><span style=white-space:pre-wrap>Drama   </span></td><td>665100000</td><td>665</td></tr>\n",
              "\t<tr><th scope=row>3</th><td>3</td><td>The Glory                          </td><td>TV Show</td><td>2022</td><td>Thriller</td><td>622800000</td><td>622</td></tr>\n",
              "\t<tr><th scope=row>4</th><td>4</td><td>Wednesday                          </td><td>TV Show</td><td>2022</td><td>Fantasy </td><td>507700000</td><td>507</td></tr>\n",
              "\t<tr><th scope=row>5</th><td>5</td><td>Queen Charlotte: A Bridgerton Story</td><td>TV Show</td><td>2023</td><td>Drama   </td><td>503000000</td><td>503</td></tr>\n",
              "\t<tr><th scope=row>6</th><td>6</td><td>You                                </td><td>TV Show</td><td>2018</td><td>Crime   </td><td>440600000</td><td>440</td></tr>\n",
              "</tbody>\n",
              "</table>\n"
            ],
            "text/markdown": "\nA data.frame: 6 × 7\n\n| <!--/--> | Rank &lt;int&gt; | Title &lt;chr&gt; | Type &lt;chr&gt; | Premiere &lt;int&gt; | Genre &lt;chr&gt; | Watchtime &lt;int&gt; | Watchtime.in.Million &lt;int&gt; |\n|---|---|---|---|---|---|---|---|\n| 1 | 1 | The Night Agent                     | TV Show | 2023 | Action   | 812100000 | 812 |\n| 2 | 2 | Ginny &amp; Georgia                     | TV Show | 2021 | Drama    | 665100000 | 665 |\n| 3 | 3 | The Glory                           | TV Show | 2022 | Thriller | 622800000 | 622 |\n| 4 | 4 | Wednesday                           | TV Show | 2022 | Fantasy  | 507700000 | 507 |\n| 5 | 5 | Queen Charlotte: A Bridgerton Story | TV Show | 2023 | Drama    | 503000000 | 503 |\n| 6 | 6 | You                                 | TV Show | 2018 | Crime    | 440600000 | 440 |\n\n",
            "text/latex": "A data.frame: 6 × 7\n\\begin{tabular}{r|lllllll}\n  & Rank & Title & Type & Premiere & Genre & Watchtime & Watchtime.in.Million\\\\\n  & <int> & <chr> & <chr> & <int> & <chr> & <int> & <int>\\\\\n\\hline\n\t1 & 1 & The Night Agent                     & TV Show & 2023 & Action   & 812100000 & 812\\\\\n\t2 & 2 & Ginny \\& Georgia                     & TV Show & 2021 & Drama    & 665100000 & 665\\\\\n\t3 & 3 & The Glory                           & TV Show & 2022 & Thriller & 622800000 & 622\\\\\n\t4 & 4 & Wednesday                           & TV Show & 2022 & Fantasy  & 507700000 & 507\\\\\n\t5 & 5 & Queen Charlotte: A Bridgerton Story & TV Show & 2023 & Drama    & 503000000 & 503\\\\\n\t6 & 6 & You                                 & TV Show & 2018 & Crime    & 440600000 & 440\\\\\n\\end{tabular}\n",
            "text/plain": [
              "  Rank Title                               Type    Premiere Genre    Watchtime\n",
              "1 1    The Night Agent                     TV Show 2023     Action   812100000\n",
              "2 2    Ginny & Georgia                     TV Show 2021     Drama    665100000\n",
              "3 3    The Glory                           TV Show 2022     Thriller 622800000\n",
              "4 4    Wednesday                           TV Show 2022     Fantasy  507700000\n",
              "5 5    Queen Charlotte: A Bridgerton Story TV Show 2023     Drama    503000000\n",
              "6 6    You                                 TV Show 2018     Crime    440600000\n",
              "  Watchtime.in.Million\n",
              "1 812                 \n",
              "2 665                 \n",
              "3 622                 \n",
              "4 507                 \n",
              "5 503                 \n",
              "6 440                 "
            ]
          },
          "metadata": {}
        }
      ]
    },
    {
      "cell_type": "code",
      "source": [
        "##q3 top 3 genre per year\n",
        "\n",
        "#first sort df acc to descending year value\n",
        "top_three_genre=function(year2){\n",
        "#yearwise_df=df[order(df$Premiere, decreasing = FALSE), ]\n",
        "\n",
        "#now group for each year\n",
        "df_genre = yearwise_df %>% group_by(Premiere, Genre)%>% summarise(total_views= sum(Watchtime.in.Million))\n",
        "df_genre=df_genre[df_genre$total_views!=0,]\n",
        "\n",
        "\n",
        "genre_tot_views_foryear=df_genre[df_genre$Premiere==year2,]\n",
        "\n",
        "print(\"Top three genre :\")\n",
        "head((genre_tot_views_foryear[order(-genre_tot_views_foryear$total_views),]),3)}\n",
        "\n",
        "top_three_genre(2023)\n",
        "top_three_genre(2022)\n",
        "top_three_genre(2021)"
      ],
      "metadata": {
        "colab": {
          "base_uri": "https://localhost:8080/",
          "height": 698
        },
        "id": "HUJso6df3YBH",
        "outputId": "e53871e8-5154-4590-af48-ca75d662ecbe"
      },
      "execution_count": null,
      "outputs": [
        {
          "output_type": "stream",
          "name": "stderr",
          "text": [
            "\u001b[1m\u001b[22m`summarise()` has grouped output by 'Premiere'. You can override using the\n",
            "`.groups` argument.\n"
          ]
        },
        {
          "output_type": "stream",
          "name": "stdout",
          "text": [
            "[1] \"Top three genre:\"\n"
          ]
        },
        {
          "output_type": "display_data",
          "data": {
            "text/html": [
              "<table class=\"dataframe\">\n",
              "<caption>A grouped_df: 3 × 3</caption>\n",
              "<thead>\n",
              "\t<tr><th scope=col>Premiere</th><th scope=col>Genre</th><th scope=col>total_views</th></tr>\n",
              "\t<tr><th scope=col>&lt;int&gt;</th><th scope=col>&lt;chr&gt;</th><th scope=col>&lt;int&gt;</th></tr>\n",
              "</thead>\n",
              "<tbody>\n",
              "\t<tr><td>2023</td><td>Drama </td><td>2623</td></tr>\n",
              "\t<tr><td>2023</td><td>Comedy</td><td>2498</td></tr>\n",
              "\t<tr><td>2023</td><td>Crime </td><td>1847</td></tr>\n",
              "</tbody>\n",
              "</table>\n"
            ],
            "text/markdown": "\nA grouped_df: 3 × 3\n\n| Premiere &lt;int&gt; | Genre &lt;chr&gt; | total_views &lt;int&gt; |\n|---|---|---|\n| 2023 | Drama  | 2623 |\n| 2023 | Comedy | 2498 |\n| 2023 | Crime  | 1847 |\n\n",
            "text/latex": "A grouped\\_df: 3 × 3\n\\begin{tabular}{lll}\n Premiere & Genre & total\\_views\\\\\n <int> & <chr> & <int>\\\\\n\\hline\n\t 2023 & Drama  & 2623\\\\\n\t 2023 & Comedy & 2498\\\\\n\t 2023 & Crime  & 1847\\\\\n\\end{tabular}\n",
            "text/plain": [
              "  Premiere Genre  total_views\n",
              "1 2023     Drama  2623       \n",
              "2 2023     Comedy 2498       \n",
              "3 2023     Crime  1847       "
            ]
          },
          "metadata": {}
        },
        {
          "output_type": "stream",
          "name": "stderr",
          "text": [
            "\u001b[1m\u001b[22m`summarise()` has grouped output by 'Premiere'. You can override using the\n",
            "`.groups` argument.\n"
          ]
        },
        {
          "output_type": "stream",
          "name": "stdout",
          "text": [
            "[1] \"Top three genre:\"\n"
          ]
        },
        {
          "output_type": "display_data",
          "data": {
            "text/html": [
              "<table class=\"dataframe\">\n",
              "<caption>A grouped_df: 3 × 3</caption>\n",
              "<thead>\n",
              "\t<tr><th scope=col>Premiere</th><th scope=col>Genre</th><th scope=col>total_views</th></tr>\n",
              "\t<tr><th scope=col>&lt;int&gt;</th><th scope=col>&lt;chr&gt;</th><th scope=col>&lt;int&gt;</th></tr>\n",
              "</thead>\n",
              "<tbody>\n",
              "\t<tr><td>2022</td><td>Drama    </td><td>2284</td></tr>\n",
              "\t<tr><td>2022</td><td>Animation</td><td>1539</td></tr>\n",
              "\t<tr><td>2022</td><td>Thriller </td><td>1416</td></tr>\n",
              "</tbody>\n",
              "</table>\n"
            ],
            "text/markdown": "\nA grouped_df: 3 × 3\n\n| Premiere &lt;int&gt; | Genre &lt;chr&gt; | total_views &lt;int&gt; |\n|---|---|---|\n| 2022 | Drama     | 2284 |\n| 2022 | Animation | 1539 |\n| 2022 | Thriller  | 1416 |\n\n",
            "text/latex": "A grouped\\_df: 3 × 3\n\\begin{tabular}{lll}\n Premiere & Genre & total\\_views\\\\\n <int> & <chr> & <int>\\\\\n\\hline\n\t 2022 & Drama     & 2284\\\\\n\t 2022 & Animation & 1539\\\\\n\t 2022 & Thriller  & 1416\\\\\n\\end{tabular}\n",
            "text/plain": [
              "  Premiere Genre     total_views\n",
              "1 2022     Drama     2284       \n",
              "2 2022     Animation 1539       \n",
              "3 2022     Thriller  1416       "
            ]
          },
          "metadata": {}
        },
        {
          "output_type": "stream",
          "name": "stderr",
          "text": [
            "\u001b[1m\u001b[22m`summarise()` has grouped output by 'Premiere'. You can override using the\n",
            "`.groups` argument.\n"
          ]
        },
        {
          "output_type": "stream",
          "name": "stdout",
          "text": [
            "[1] \"Top three genre:\"\n"
          ]
        },
        {
          "output_type": "display_data",
          "data": {
            "text/html": [
              "<table class=\"dataframe\">\n",
              "<caption>A grouped_df: 3 × 3</caption>\n",
              "<thead>\n",
              "\t<tr><th scope=col>Premiere</th><th scope=col>Genre</th><th scope=col>total_views</th></tr>\n",
              "\t<tr><th scope=col>&lt;int&gt;</th><th scope=col>&lt;chr&gt;</th><th scope=col>&lt;int&gt;</th></tr>\n",
              "</thead>\n",
              "<tbody>\n",
              "\t<tr><td>2021</td><td>Drama    </td><td>2368</td></tr>\n",
              "\t<tr><td>2021</td><td>Animation</td><td>1507</td></tr>\n",
              "\t<tr><td>2021</td><td>Comedy   </td><td> 741</td></tr>\n",
              "</tbody>\n",
              "</table>\n"
            ],
            "text/markdown": "\nA grouped_df: 3 × 3\n\n| Premiere &lt;int&gt; | Genre &lt;chr&gt; | total_views &lt;int&gt; |\n|---|---|---|\n| 2021 | Drama     | 2368 |\n| 2021 | Animation | 1507 |\n| 2021 | Comedy    |  741 |\n\n",
            "text/latex": "A grouped\\_df: 3 × 3\n\\begin{tabular}{lll}\n Premiere & Genre & total\\_views\\\\\n <int> & <chr> & <int>\\\\\n\\hline\n\t 2021 & Drama     & 2368\\\\\n\t 2021 & Animation & 1507\\\\\n\t 2021 & Comedy    &  741\\\\\n\\end{tabular}\n",
            "text/plain": [
              "  Premiere Genre     total_views\n",
              "1 2021     Drama     2368       \n",
              "2 2021     Animation 1507       \n",
              "3 2021     Comedy     741       "
            ]
          },
          "metadata": {}
        }
      ]
    },
    {
      "cell_type": "code",
      "source": [
        "##q4 Find the movie and tv show with the maximum views also find per genre most watched tv/movie\n",
        "\n",
        "max_views <- df %>%\n",
        "  group_by(Type) %>%\n",
        "  slice_max(Watchtime)\n",
        "\n",
        "# Print the movie with the maximum views\n",
        "max_views"
      ],
      "metadata": {
        "colab": {
          "base_uri": "https://localhost:8080/",
          "height": 160
        },
        "id": "kcBfrV42EbYF",
        "outputId": "bae0a3e4-bae2-450a-f5e0-bbd873d42829"
      },
      "execution_count": null,
      "outputs": [
        {
          "output_type": "display_data",
          "data": {
            "text/html": [
              "<table class=\"dataframe\">\n",
              "<caption>A grouped_df: 2 × 7</caption>\n",
              "<thead>\n",
              "\t<tr><th scope=col>Rank</th><th scope=col>Title</th><th scope=col>Type</th><th scope=col>Premiere</th><th scope=col>Genre</th><th scope=col>Watchtime</th><th scope=col>Watchtime.in.Million</th></tr>\n",
              "\t<tr><th scope=col>&lt;int&gt;</th><th scope=col>&lt;chr&gt;</th><th scope=col>&lt;chr&gt;</th><th scope=col>&lt;int&gt;</th><th scope=col>&lt;chr&gt;</th><th scope=col>&lt;int&gt;</th><th scope=col>&lt;int&gt;</th></tr>\n",
              "</thead>\n",
              "<tbody>\n",
              "\t<tr><td>14</td><td>The Mother     </td><td>Movie  </td><td>2023</td><td>Thriller</td><td>249900000</td><td>249</td></tr>\n",
              "\t<tr><td> 1</td><td>The Night Agent</td><td>TV Show</td><td>2023</td><td>Action  </td><td>812100000</td><td>812</td></tr>\n",
              "</tbody>\n",
              "</table>\n"
            ],
            "text/markdown": "\nA grouped_df: 2 × 7\n\n| Rank &lt;int&gt; | Title &lt;chr&gt; | Type &lt;chr&gt; | Premiere &lt;int&gt; | Genre &lt;chr&gt; | Watchtime &lt;int&gt; | Watchtime.in.Million &lt;int&gt; |\n|---|---|---|---|---|---|---|\n| 14 | The Mother      | Movie   | 2023 | Thriller | 249900000 | 249 |\n|  1 | The Night Agent | TV Show | 2023 | Action   | 812100000 | 812 |\n\n",
            "text/latex": "A grouped\\_df: 2 × 7\n\\begin{tabular}{lllllll}\n Rank & Title & Type & Premiere & Genre & Watchtime & Watchtime.in.Million\\\\\n <int> & <chr> & <chr> & <int> & <chr> & <int> & <int>\\\\\n\\hline\n\t 14 & The Mother      & Movie   & 2023 & Thriller & 249900000 & 249\\\\\n\t  1 & The Night Agent & TV Show & 2023 & Action   & 812100000 & 812\\\\\n\\end{tabular}\n",
            "text/plain": [
              "  Rank Title           Type    Premiere Genre    Watchtime Watchtime.in.Million\n",
              "1 14   The Mother      Movie   2023     Thriller 249900000 249                 \n",
              "2  1   The Night Agent TV Show 2023     Action   812100000 812                 "
            ]
          },
          "metadata": {}
        }
      ]
    },
    {
      "cell_type": "code",
      "source": [
        "\n",
        "# Find the movie with the maximum views per category\n",
        "max_views_per_category <- df %>%\n",
        "  group_by(Genre) %>%\n",
        "  slice_max(Watchtime)\n",
        "\n",
        "# Print the movie with the maximum views per category\n",
        "max_views_per_category[order(max_views_per_category$Watchtime, decreasing=TRUE),]"
      ],
      "metadata": {
        "colab": {
          "base_uri": "https://localhost:8080/",
          "height": 976
        },
        "id": "HS6Z9CJYn_UM",
        "outputId": "de692a9b-8927-489b-958e-8329538727a2"
      },
      "execution_count": null,
      "outputs": [
        {
          "output_type": "display_data",
          "data": {
            "text/html": [
              "<table class=\"dataframe\">\n",
              "<caption>A grouped_df: 28 × 7</caption>\n",
              "<thead>\n",
              "\t<tr><th scope=col>Rank</th><th scope=col>Title</th><th scope=col>Type</th><th scope=col>Premiere</th><th scope=col>Genre</th><th scope=col>Watchtime</th><th scope=col>Watchtime.in.Million</th></tr>\n",
              "\t<tr><th scope=col>&lt;int&gt;</th><th scope=col>&lt;chr&gt;</th><th scope=col>&lt;chr&gt;</th><th scope=col>&lt;int&gt;</th><th scope=col>&lt;chr&gt;</th><th scope=col>&lt;int&gt;</th><th scope=col>&lt;int&gt;</th></tr>\n",
              "</thead>\n",
              "<tbody>\n",
              "\t<tr><td>    1</td><td>The Night Agent                             </td><td>TV Show</td><td>2023</td><td>Action         </td><td>812100000</td><td>812</td></tr>\n",
              "\t<tr><td><span style=white-space:pre-wrap>    2</span></td><td><span style=white-space:pre-wrap>Ginny &amp; Georgia                             </span></td><td>TV Show</td><td>2021</td><td><span style=white-space:pre-wrap>Drama          </span></td><td>665100000</td><td>665</td></tr>\n",
              "\t<tr><td>    3</td><td>The Glory                                   </td><td>TV Show</td><td>2022</td><td>Thriller       </td><td>622800000</td><td>622</td></tr>\n",
              "\t<tr><td>    4</td><td>Wednesday                                   </td><td>TV Show</td><td>2022</td><td>Fantasy        </td><td>507700000</td><td>507</td></tr>\n",
              "\t<tr><td>    6</td><td>You                                         </td><td>TV Show</td><td>2018</td><td>Crime          </td><td>440600000</td><td>440</td></tr>\n",
              "\t<tr><td>   15</td><td>Physical: 100                               </td><td>TV Show</td><td>2023</td><td>Reality-Show   </td><td>235000000</td><td>235</td></tr>\n",
              "\t<tr><td>   16</td><td>Crash Course In Romance                     </td><td>TV Show</td><td>2023</td><td>Comedy         </td><td>234800000</td><td>234</td></tr>\n",
              "\t<tr><td>   22</td><td>Vikings: Valhalla                           </td><td>TV Show</td><td>2022</td><td>History        </td><td>205500000</td><td>205</td></tr>\n",
              "\t<tr><td>   28</td><td>Sweet Tooth                                 </td><td>TV Show</td><td>2021</td><td>Superhero      </td><td>182300000</td><td>182</td></tr>\n",
              "\t<tr><td>   48</td><td>Paw Patrol                                  </td><td>TV Show</td><td>2013</td><td>Animation      </td><td>149300000</td><td>149</td></tr>\n",
              "\t<tr><td>   54</td><td>Black Mirror                                </td><td>TV Show</td><td>2011</td><td>Science Fiction</td><td>139900000</td><td>139</td></tr>\n",
              "\t<tr><td>   56</td><td>The Walking Dead                            </td><td>TV Show</td><td>2010</td><td>Horror         </td><td>136800000</td><td>136</td></tr>\n",
              "\t<tr><td>   69</td><td>We Have a Ghost                             </td><td>Movie  </td><td>2023</td><td>Adventure      </td><td>124400000</td><td>124</td></tr>\n",
              "\t<tr><td>   75</td><td>MH370: The Plane That Disappeared           </td><td>TV Show</td><td>2023</td><td>Documentary    </td><td>118900000</td><td>118</td></tr>\n",
              "\t<tr><td>  114</td><td>Les Combattantes                            </td><td>TV Show</td><td>2022</td><td>War            </td><td> 90800000</td><td> 90</td></tr>\n",
              "\t<tr><td>  141</td><td>Roald Dahl's Matilda the Musical            </td><td>Movie  </td><td>2022</td><td>Musical        </td><td> 81000000</td><td> 81</td></tr>\n",
              "\t<tr><td>  297</td><td>2 Hearts                                    </td><td>Movie  </td><td>2020</td><td>Romance        </td><td> 50000000</td><td> 50</td></tr>\n",
              "\t<tr><td>  473</td><td>Lyle, Lyle, Crocodile                       </td><td>Movie  </td><td>2022</td><td>Family         </td><td> 37100000</td><td> 37</td></tr>\n",
              "\t<tr><td>  491</td><td>Chris Rock: Selective Outrage               </td><td>Movie  </td><td>2023</td><td>Stand-Up       </td><td> 36200000</td><td> 36</td></tr>\n",
              "\t<tr><td>  638</td><td>Godless                                     </td><td>TV Show</td><td>2017</td><td>Western        </td><td> 29900000</td><td> 29</td></tr>\n",
              "\t<tr><td>  676</td><td>The Swimmers                                </td><td>Movie  </td><td>2022</td><td>Sports         </td><td> 28800000</td><td> 28</td></tr>\n",
              "\t<tr><td>  807</td><td>Whitney Houston: I Wanna Dance with Somebody</td><td>Movie  </td><td>2022</td><td>Biography      </td><td> 25700000</td><td> 25</td></tr>\n",
              "\t<tr><td> 3200</td><td>I Think You Should Leave with Tim Robinson  </td><td>TV Show</td><td>2019</td><td>Talk Show      </td><td>  5800000</td><td>  5</td></tr>\n",
              "\t<tr><td> 3633</td><td>Burning Trotman                             </td><td>TV Show</td><td>2022</td><td>Broadcast      </td><td>  4900000</td><td>  4</td></tr>\n",
              "\t<tr><td> 3624</td><td>Bullsh*t the Game Show                      </td><td>TV Show</td><td>2022</td><td>Game-Show      </td><td>  4900000</td><td>  4</td></tr>\n",
              "\t<tr><td> 3809</td><td>Taylor Swift: Reputation Stadium Tour       </td><td>Movie  </td><td>2018</td><td>Concerts       </td><td>  4600000</td><td>  4</td></tr>\n",
              "\t<tr><td> 6965</td><td>20/20                                       </td><td>TV Show</td><td>1978</td><td>News           </td><td>  1400000</td><td>  1</td></tr>\n",
              "\t<tr><td>10230</td><td>Princ Mamánek                               </td><td>Movie  </td><td>2022</td><td>Fairy Tale     </td><td>   500000</td><td>  0</td></tr>\n",
              "</tbody>\n",
              "</table>\n"
            ],
            "text/markdown": "\nA grouped_df: 28 × 7\n\n| Rank &lt;int&gt; | Title &lt;chr&gt; | Type &lt;chr&gt; | Premiere &lt;int&gt; | Genre &lt;chr&gt; | Watchtime &lt;int&gt; | Watchtime.in.Million &lt;int&gt; |\n|---|---|---|---|---|---|---|\n|     1 | The Night Agent                              | TV Show | 2023 | Action          | 812100000 | 812 |\n|     2 | Ginny &amp; Georgia                              | TV Show | 2021 | Drama           | 665100000 | 665 |\n|     3 | The Glory                                    | TV Show | 2022 | Thriller        | 622800000 | 622 |\n|     4 | Wednesday                                    | TV Show | 2022 | Fantasy         | 507700000 | 507 |\n|     6 | You                                          | TV Show | 2018 | Crime           | 440600000 | 440 |\n|    15 | Physical: 100                                | TV Show | 2023 | Reality-Show    | 235000000 | 235 |\n|    16 | Crash Course In Romance                      | TV Show | 2023 | Comedy          | 234800000 | 234 |\n|    22 | Vikings: Valhalla                            | TV Show | 2022 | History         | 205500000 | 205 |\n|    28 | Sweet Tooth                                  | TV Show | 2021 | Superhero       | 182300000 | 182 |\n|    48 | Paw Patrol                                   | TV Show | 2013 | Animation       | 149300000 | 149 |\n|    54 | Black Mirror                                 | TV Show | 2011 | Science Fiction | 139900000 | 139 |\n|    56 | The Walking Dead                             | TV Show | 2010 | Horror          | 136800000 | 136 |\n|    69 | We Have a Ghost                              | Movie   | 2023 | Adventure       | 124400000 | 124 |\n|    75 | MH370: The Plane That Disappeared            | TV Show | 2023 | Documentary     | 118900000 | 118 |\n|   114 | Les Combattantes                             | TV Show | 2022 | War             |  90800000 |  90 |\n|   141 | Roald Dahl's Matilda the Musical             | Movie   | 2022 | Musical         |  81000000 |  81 |\n|   297 | 2 Hearts                                     | Movie   | 2020 | Romance         |  50000000 |  50 |\n|   473 | Lyle, Lyle, Crocodile                        | Movie   | 2022 | Family          |  37100000 |  37 |\n|   491 | Chris Rock: Selective Outrage                | Movie   | 2023 | Stand-Up        |  36200000 |  36 |\n|   638 | Godless                                      | TV Show | 2017 | Western         |  29900000 |  29 |\n|   676 | The Swimmers                                 | Movie   | 2022 | Sports          |  28800000 |  28 |\n|   807 | Whitney Houston: I Wanna Dance with Somebody | Movie   | 2022 | Biography       |  25700000 |  25 |\n|  3200 | I Think You Should Leave with Tim Robinson   | TV Show | 2019 | Talk Show       |   5800000 |   5 |\n|  3633 | Burning Trotman                              | TV Show | 2022 | Broadcast       |   4900000 |   4 |\n|  3624 | Bullsh*t the Game Show                       | TV Show | 2022 | Game-Show       |   4900000 |   4 |\n|  3809 | Taylor Swift: Reputation Stadium Tour        | Movie   | 2018 | Concerts        |   4600000 |   4 |\n|  6965 | 20/20                                        | TV Show | 1978 | News            |   1400000 |   1 |\n| 10230 | Princ Mamánek                                | Movie   | 2022 | Fairy Tale      |    500000 |   0 |\n\n",
            "text/latex": "A grouped\\_df: 28 × 7\n\\begin{tabular}{lllllll}\n Rank & Title & Type & Premiere & Genre & Watchtime & Watchtime.in.Million\\\\\n <int> & <chr> & <chr> & <int> & <chr> & <int> & <int>\\\\\n\\hline\n\t     1 & The Night Agent                              & TV Show & 2023 & Action          & 812100000 & 812\\\\\n\t     2 & Ginny \\& Georgia                              & TV Show & 2021 & Drama           & 665100000 & 665\\\\\n\t     3 & The Glory                                    & TV Show & 2022 & Thriller        & 622800000 & 622\\\\\n\t     4 & Wednesday                                    & TV Show & 2022 & Fantasy         & 507700000 & 507\\\\\n\t     6 & You                                          & TV Show & 2018 & Crime           & 440600000 & 440\\\\\n\t    15 & Physical: 100                                & TV Show & 2023 & Reality-Show    & 235000000 & 235\\\\\n\t    16 & Crash Course In Romance                      & TV Show & 2023 & Comedy          & 234800000 & 234\\\\\n\t    22 & Vikings: Valhalla                            & TV Show & 2022 & History         & 205500000 & 205\\\\\n\t    28 & Sweet Tooth                                  & TV Show & 2021 & Superhero       & 182300000 & 182\\\\\n\t    48 & Paw Patrol                                   & TV Show & 2013 & Animation       & 149300000 & 149\\\\\n\t    54 & Black Mirror                                 & TV Show & 2011 & Science Fiction & 139900000 & 139\\\\\n\t    56 & The Walking Dead                             & TV Show & 2010 & Horror          & 136800000 & 136\\\\\n\t    69 & We Have a Ghost                              & Movie   & 2023 & Adventure       & 124400000 & 124\\\\\n\t    75 & MH370: The Plane That Disappeared            & TV Show & 2023 & Documentary     & 118900000 & 118\\\\\n\t   114 & Les Combattantes                             & TV Show & 2022 & War             &  90800000 &  90\\\\\n\t   141 & Roald Dahl's Matilda the Musical             & Movie   & 2022 & Musical         &  81000000 &  81\\\\\n\t   297 & 2 Hearts                                     & Movie   & 2020 & Romance         &  50000000 &  50\\\\\n\t   473 & Lyle, Lyle, Crocodile                        & Movie   & 2022 & Family          &  37100000 &  37\\\\\n\t   491 & Chris Rock: Selective Outrage                & Movie   & 2023 & Stand-Up        &  36200000 &  36\\\\\n\t   638 & Godless                                      & TV Show & 2017 & Western         &  29900000 &  29\\\\\n\t   676 & The Swimmers                                 & Movie   & 2022 & Sports          &  28800000 &  28\\\\\n\t   807 & Whitney Houston: I Wanna Dance with Somebody & Movie   & 2022 & Biography       &  25700000 &  25\\\\\n\t  3200 & I Think You Should Leave with Tim Robinson   & TV Show & 2019 & Talk Show       &   5800000 &   5\\\\\n\t  3633 & Burning Trotman                              & TV Show & 2022 & Broadcast       &   4900000 &   4\\\\\n\t  3624 & Bullsh*t the Game Show                       & TV Show & 2022 & Game-Show       &   4900000 &   4\\\\\n\t  3809 & Taylor Swift: Reputation Stadium Tour        & Movie   & 2018 & Concerts        &   4600000 &   4\\\\\n\t  6965 & 20/20                                        & TV Show & 1978 & News            &   1400000 &   1\\\\\n\t 10230 & Princ Mamánek                                & Movie   & 2022 & Fairy Tale      &    500000 &   0\\\\\n\\end{tabular}\n",
            "text/plain": [
              "   Rank  Title                                        Type    Premiere\n",
              "1      1 The Night Agent                              TV Show 2023    \n",
              "2      2 Ginny & Georgia                              TV Show 2021    \n",
              "3      3 The Glory                                    TV Show 2022    \n",
              "4      4 Wednesday                                    TV Show 2022    \n",
              "5      6 You                                          TV Show 2018    \n",
              "6     15 Physical: 100                                TV Show 2023    \n",
              "7     16 Crash Course In Romance                      TV Show 2023    \n",
              "8     22 Vikings: Valhalla                            TV Show 2022    \n",
              "9     28 Sweet Tooth                                  TV Show 2021    \n",
              "10    48 Paw Patrol                                   TV Show 2013    \n",
              "11    54 Black Mirror                                 TV Show 2011    \n",
              "12    56 The Walking Dead                             TV Show 2010    \n",
              "13    69 We Have a Ghost                              Movie   2023    \n",
              "14    75 MH370: The Plane That Disappeared            TV Show 2023    \n",
              "15   114 Les Combattantes                             TV Show 2022    \n",
              "16   141 Roald Dahl's Matilda the Musical             Movie   2022    \n",
              "17   297 2 Hearts                                     Movie   2020    \n",
              "18   473 Lyle, Lyle, Crocodile                        Movie   2022    \n",
              "19   491 Chris Rock: Selective Outrage                Movie   2023    \n",
              "20   638 Godless                                      TV Show 2017    \n",
              "21   676 The Swimmers                                 Movie   2022    \n",
              "22   807 Whitney Houston: I Wanna Dance with Somebody Movie   2022    \n",
              "23  3200 I Think You Should Leave with Tim Robinson   TV Show 2019    \n",
              "24  3633 Burning Trotman                              TV Show 2022    \n",
              "25  3624 Bullsh*t the Game Show                       TV Show 2022    \n",
              "26  3809 Taylor Swift: Reputation Stadium Tour        Movie   2018    \n",
              "27  6965 20/20                                        TV Show 1978    \n",
              "28 10230 Princ Mamánek                                Movie   2022    \n",
              "   Genre           Watchtime Watchtime.in.Million\n",
              "1  Action          812100000 812                 \n",
              "2  Drama           665100000 665                 \n",
              "3  Thriller        622800000 622                 \n",
              "4  Fantasy         507700000 507                 \n",
              "5  Crime           440600000 440                 \n",
              "6  Reality-Show    235000000 235                 \n",
              "7  Comedy          234800000 234                 \n",
              "8  History         205500000 205                 \n",
              "9  Superhero       182300000 182                 \n",
              "10 Animation       149300000 149                 \n",
              "11 Science Fiction 139900000 139                 \n",
              "12 Horror          136800000 136                 \n",
              "13 Adventure       124400000 124                 \n",
              "14 Documentary     118900000 118                 \n",
              "15 War              90800000  90                 \n",
              "16 Musical          81000000  81                 \n",
              "17 Romance          50000000  50                 \n",
              "18 Family           37100000  37                 \n",
              "19 Stand-Up         36200000  36                 \n",
              "20 Western          29900000  29                 \n",
              "21 Sports           28800000  28                 \n",
              "22 Biography        25700000  25                 \n",
              "23 Talk Show         5800000   5                 \n",
              "24 Broadcast         4900000   4                 \n",
              "25 Game-Show         4900000   4                 \n",
              "26 Concerts          4600000   4                 \n",
              "27 News              1400000   1                 \n",
              "28 Fairy Tale         500000   0                 "
            ]
          },
          "metadata": {}
        }
      ]
    },
    {
      "cell_type": "code",
      "source": [
        "## q5 total Available movie/show per genre.Find correlation between availabe movies/shows per genre and watchtime per genre\n",
        "\n",
        "genre_aval=data.frame(table(df$Genre))\n",
        "\n",
        "\n",
        "genre_view <- df %>%\n",
        "  group_by(Genre) %>% arrange(df,Genre) %>%\n",
        "  summarise(tot_view=sum(Watchtime))\n",
        "\n",
        "genre_aval\n",
        "\n",
        "cor(genre_aval$Freq,genre_view$tot_view)"
      ],
      "metadata": {
        "colab": {
          "base_uri": "https://localhost:8080/",
          "height": 993
        },
        "id": "DUUb87Vdq6lN",
        "outputId": "277699be-0c71-4e5a-fb21-51f178e37a2e"
      },
      "execution_count": null,
      "outputs": [
        {
          "output_type": "display_data",
          "data": {
            "text/html": [
              "<table class=\"dataframe\">\n",
              "<caption>A data.frame: 28 × 2</caption>\n",
              "<thead>\n",
              "\t<tr><th scope=col>Var1</th><th scope=col>Freq</th></tr>\n",
              "\t<tr><th scope=col>&lt;fct&gt;</th><th scope=col>&lt;int&gt;</th></tr>\n",
              "</thead>\n",
              "<tbody>\n",
              "\t<tr><td>Action         </td><td>1099</td></tr>\n",
              "\t<tr><td>Adventure      </td><td> 281</td></tr>\n",
              "\t<tr><td>Animation      </td><td>2638</td></tr>\n",
              "\t<tr><td>Biography      </td><td> 198</td></tr>\n",
              "\t<tr><td>Broadcast      </td><td>  12</td></tr>\n",
              "\t<tr><td>Comedy         </td><td>3933</td></tr>\n",
              "\t<tr><td>Concerts       </td><td>  18</td></tr>\n",
              "\t<tr><td>Crime          </td><td>1080</td></tr>\n",
              "\t<tr><td>Documentary    </td><td>1275</td></tr>\n",
              "\t<tr><td>Drama          </td><td>3340</td></tr>\n",
              "\t<tr><td>Fairy Tale     </td><td>  12</td></tr>\n",
              "\t<tr><td>Family         </td><td>  71</td></tr>\n",
              "\t<tr><td>Fantasy        </td><td> 303</td></tr>\n",
              "\t<tr><td>Game-Show      </td><td>   8</td></tr>\n",
              "\t<tr><td>History        </td><td> 154</td></tr>\n",
              "\t<tr><td>Horror         </td><td> 654</td></tr>\n",
              "\t<tr><td>Musical        </td><td>  39</td></tr>\n",
              "\t<tr><td>News           </td><td>   1</td></tr>\n",
              "\t<tr><td>Reality-Show   </td><td> 562</td></tr>\n",
              "\t<tr><td>Romance        </td><td> 519</td></tr>\n",
              "\t<tr><td>Science Fiction</td><td> 398</td></tr>\n",
              "\t<tr><td>Sports         </td><td>  17</td></tr>\n",
              "\t<tr><td>Stand-Up       </td><td> 224</td></tr>\n",
              "\t<tr><td>Superhero      </td><td> 143</td></tr>\n",
              "\t<tr><td>Talk Show      </td><td>  81</td></tr>\n",
              "\t<tr><td>Thriller       </td><td> 674</td></tr>\n",
              "\t<tr><td>War            </td><td>  90</td></tr>\n",
              "\t<tr><td>Western        </td><td>  55</td></tr>\n",
              "</tbody>\n",
              "</table>\n"
            ],
            "text/markdown": "\nA data.frame: 28 × 2\n\n| Var1 &lt;fct&gt; | Freq &lt;int&gt; |\n|---|---|\n| Action          | 1099 |\n| Adventure       |  281 |\n| Animation       | 2638 |\n| Biography       |  198 |\n| Broadcast       |   12 |\n| Comedy          | 3933 |\n| Concerts        |   18 |\n| Crime           | 1080 |\n| Documentary     | 1275 |\n| Drama           | 3340 |\n| Fairy Tale      |   12 |\n| Family          |   71 |\n| Fantasy         |  303 |\n| Game-Show       |    8 |\n| History         |  154 |\n| Horror          |  654 |\n| Musical         |   39 |\n| News            |    1 |\n| Reality-Show    |  562 |\n| Romance         |  519 |\n| Science Fiction |  398 |\n| Sports          |   17 |\n| Stand-Up        |  224 |\n| Superhero       |  143 |\n| Talk Show       |   81 |\n| Thriller        |  674 |\n| War             |   90 |\n| Western         |   55 |\n\n",
            "text/latex": "A data.frame: 28 × 2\n\\begin{tabular}{ll}\n Var1 & Freq\\\\\n <fct> & <int>\\\\\n\\hline\n\t Action          & 1099\\\\\n\t Adventure       &  281\\\\\n\t Animation       & 2638\\\\\n\t Biography       &  198\\\\\n\t Broadcast       &   12\\\\\n\t Comedy          & 3933\\\\\n\t Concerts        &   18\\\\\n\t Crime           & 1080\\\\\n\t Documentary     & 1275\\\\\n\t Drama           & 3340\\\\\n\t Fairy Tale      &   12\\\\\n\t Family          &   71\\\\\n\t Fantasy         &  303\\\\\n\t Game-Show       &    8\\\\\n\t History         &  154\\\\\n\t Horror          &  654\\\\\n\t Musical         &   39\\\\\n\t News            &    1\\\\\n\t Reality-Show    &  562\\\\\n\t Romance         &  519\\\\\n\t Science Fiction &  398\\\\\n\t Sports          &   17\\\\\n\t Stand-Up        &  224\\\\\n\t Superhero       &  143\\\\\n\t Talk Show       &   81\\\\\n\t Thriller        &  674\\\\\n\t War             &   90\\\\\n\t Western         &   55\\\\\n\\end{tabular}\n",
            "text/plain": [
              "   Var1            Freq\n",
              "1  Action          1099\n",
              "2  Adventure        281\n",
              "3  Animation       2638\n",
              "4  Biography        198\n",
              "5  Broadcast         12\n",
              "6  Comedy          3933\n",
              "7  Concerts          18\n",
              "8  Crime           1080\n",
              "9  Documentary     1275\n",
              "10 Drama           3340\n",
              "11 Fairy Tale        12\n",
              "12 Family            71\n",
              "13 Fantasy          303\n",
              "14 Game-Show          8\n",
              "15 History          154\n",
              "16 Horror           654\n",
              "17 Musical           39\n",
              "18 News               1\n",
              "19 Reality-Show     562\n",
              "20 Romance          519\n",
              "21 Science Fiction  398\n",
              "22 Sports            17\n",
              "23 Stand-Up         224\n",
              "24 Superhero        143\n",
              "25 Talk Show         81\n",
              "26 Thriller         674\n",
              "27 War               90\n",
              "28 Western           55"
            ]
          },
          "metadata": {}
        },
        {
          "output_type": "display_data",
          "data": {
            "text/html": [
              "0.947678725862886"
            ],
            "text/markdown": "0.947678725862886",
            "text/latex": "0.947678725862886",
            "text/plain": [
              "[1] 0.9476787"
            ]
          },
          "metadata": {}
        }
      ]
    },
    {
      "cell_type": "code",
      "source": [],
      "metadata": {
        "id": "X933LTvulJmW"
      },
      "execution_count": null,
      "outputs": []
    }
  ]
}