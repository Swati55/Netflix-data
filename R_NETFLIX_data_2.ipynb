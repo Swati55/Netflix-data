{
  "nbformat": 4,
  "nbformat_minor": 0,
  "metadata": {
    "colab": {
      "provenance": [],
      "include_colab_link": true
    },
    "kernelspec": {
      "name": "ir",
      "display_name": "R"
    },
    "language_info": {
      "name": "R"
    }
  },
  "cells": [
    {
      "cell_type": "markdown",
      "metadata": {
        "id": "view-in-github",
        "colab_type": "text"
      },
      "source": [
        "<a href=\"https://colab.research.google.com/github/Swati55/Netflix-data/blob/main/R_NETFLIX_data_2.ipynb\" target=\"_parent\"><img src=\"https://colab.research.google.com/assets/colab-badge.svg\" alt=\"Open In Colab\"/></a>"
      ]
    },
    {
      "cell_type": "code",
      "source": [
        "df=read.csv(\"NETFLIXDATASET.csv\")\n",
        "head(df,2)"
      ],
      "metadata": {
        "id": "WGnZmRUfxoDI",
        "outputId": "eefce0a7-5952-49c1-bd55-d38372fc15c8",
        "colab": {
          "base_uri": "https://localhost:8080/",
          "height": 215
        }
      },
      "execution_count": null,
      "outputs": [
        {
          "output_type": "display_data",
          "data": {
            "text/html": [
              "<table class=\"dataframe\">\n",
              "<caption>A data.frame: 2 × 16</caption>\n",
              "<thead>\n",
              "\t<tr><th></th><th scope=col>week</th><th scope=col>show_type</th><th scope=col>title</th><th scope=col>ori_country</th><th scope=col>genre</th><th scope=col>release_date</th><th scope=col>is_NF_Ori</th><th scope=col>imdb_rating</th><th scope=col>rt_rating</th><th scope=col>country_chart</th><th scope=col>show_link</th><th scope=col>Continent</th><th scope=col>Continent.the.letter.for.the.king.2020</th><th scope=col>EUR</th><th scope=col>rel_yr</th><th scope=col>rel_mt</th></tr>\n",
              "\t<tr><th></th><th scope=col>&lt;int&gt;</th><th scope=col>&lt;chr&gt;</th><th scope=col>&lt;chr&gt;</th><th scope=col>&lt;chr&gt;</th><th scope=col>&lt;chr&gt;</th><th scope=col>&lt;chr&gt;</th><th scope=col>&lt;chr&gt;</th><th scope=col>&lt;chr&gt;</th><th scope=col>&lt;chr&gt;</th><th scope=col>&lt;chr&gt;</th><th scope=col>&lt;chr&gt;</th><th scope=col>&lt;chr&gt;</th><th scope=col>&lt;chr&gt;</th><th scope=col>&lt;lgl&gt;</th><th scope=col>&lt;int&gt;</th><th scope=col>&lt;int&gt;</th></tr>\n",
              "</thead>\n",
              "<tbody>\n",
              "\t<tr><th scope=row>1</th><td>37</td><td>Movie  </td><td>#Alive</td><td>South Korea</td><td>Horror         </td><td>2020-09-08</td><td>False</td><td>62%</td><td>86%</td><td>ARE</td><td>https://flixpatrol.com/title/alive-2020</td><td>ASI</td><td>NA</td><td>NA</td><td>NA</td><td>NA</td></tr>\n",
              "\t<tr><th scope=row>2</th><td>37</td><td>TV Show</td><td>Away  </td><td>USA        </td><td>Science Fiction</td><td>2020-09-04</td><td>True </td><td>71%</td><td>73%</td><td>ARE</td><td>https://flixpatrol.com/title/away-2020 </td><td>ASI</td><td>NA</td><td>NA</td><td>NA</td><td>NA</td></tr>\n",
              "</tbody>\n",
              "</table>\n"
            ],
            "text/markdown": "\nA data.frame: 2 × 16\n\n| <!--/--> | week &lt;int&gt; | show_type &lt;chr&gt; | title &lt;chr&gt; | ori_country &lt;chr&gt; | genre &lt;chr&gt; | release_date &lt;chr&gt; | is_NF_Ori &lt;chr&gt; | imdb_rating &lt;chr&gt; | rt_rating &lt;chr&gt; | country_chart &lt;chr&gt; | show_link &lt;chr&gt; | Continent &lt;chr&gt; | Continent.the.letter.for.the.king.2020 &lt;chr&gt; | EUR &lt;lgl&gt; | rel_yr &lt;int&gt; | rel_mt &lt;int&gt; |\n|---|---|---|---|---|---|---|---|---|---|---|---|---|---|---|---|---|\n| 1 | 37 | Movie   | #Alive | South Korea | Horror          | 2020-09-08 | False | 62% | 86% | ARE | https://flixpatrol.com/title/alive-2020 | ASI | NA | NA | NA | NA |\n| 2 | 37 | TV Show | Away   | USA         | Science Fiction | 2020-09-04 | True  | 71% | 73% | ARE | https://flixpatrol.com/title/away-2020  | ASI | NA | NA | NA | NA |\n\n",
            "text/latex": "A data.frame: 2 × 16\n\\begin{tabular}{r|llllllllllllllll}\n  & week & show\\_type & title & ori\\_country & genre & release\\_date & is\\_NF\\_Ori & imdb\\_rating & rt\\_rating & country\\_chart & show\\_link & Continent & Continent.the.letter.for.the.king.2020 & EUR & rel\\_yr & rel\\_mt\\\\\n  & <int> & <chr> & <chr> & <chr> & <chr> & <chr> & <chr> & <chr> & <chr> & <chr> & <chr> & <chr> & <chr> & <lgl> & <int> & <int>\\\\\n\\hline\n\t1 & 37 & Movie   & \\#Alive & South Korea & Horror          & 2020-09-08 & False & 62\\% & 86\\% & ARE & https://flixpatrol.com/title/alive-2020 & ASI & NA & NA & NA & NA\\\\\n\t2 & 37 & TV Show & Away   & USA         & Science Fiction & 2020-09-04 & True  & 71\\% & 73\\% & ARE & https://flixpatrol.com/title/away-2020  & ASI & NA & NA & NA & NA\\\\\n\\end{tabular}\n",
            "text/plain": [
              "  week show_type title  ori_country genre           release_date is_NF_Ori\n",
              "1 37   Movie     #Alive South Korea Horror          2020-09-08   False    \n",
              "2 37   TV Show   Away   USA         Science Fiction 2020-09-04   True     \n",
              "  imdb_rating rt_rating country_chart show_link                              \n",
              "1 62%         86%       ARE           https://flixpatrol.com/title/alive-2020\n",
              "2 71%         73%       ARE           https://flixpatrol.com/title/away-2020 \n",
              "  Continent Continent.the.letter.for.the.king.2020 EUR rel_yr rel_mt\n",
              "1 ASI       NA                                     NA  NA     NA    \n",
              "2 ASI       NA                                     NA  NA     NA    "
            ]
          },
          "metadata": {}
        }
      ]
    },
    {
      "cell_type": "code",
      "source": [
        "unique_show_types <- unique(df$show_type)\n",
        "print(unique_show_types)\n",
        "unique_ori_countries <- unique(df$ori_country)\n",
        "num_unique_ori_countries <- length(unique(df$ori_country))\n",
        "unique_country_chart <- unique(df$country_chart)\n",
        "print(unique_country_chart)"
      ],
      "metadata": {
        "colab": {
          "base_uri": "https://localhost:8080/"
        },
        "id": "O5i-tBzIEf5o",
        "outputId": "81b34d27-545f-45b2-9e40-c51b06263cf9"
      },
      "execution_count": null,
      "outputs": [
        {
          "output_type": "stream",
          "name": "stdout",
          "text": [
            "[1] \"Movie\"          \"TV Show\"        \"Documentary TV\" \"Documentary\"   \n",
            "[5] \"Movie -- --\"    \"Short\"         \n",
            " [1] \"ARE\" \"ARG\" \"AUS\" \"AUT\" \"BEL\" \"BGD\" \"BGR\" \"BOL\" \"BRA\" \"CAN\" \"CHE\" \"CHL\"\n",
            "[13] \"COL\" \"CRI\" \"CYP\" \"CZE\" \"DEU\" \"DNK\" \"DOM\" \"ECU\" \"EGY\" \"ESP\" \"EST\" \"FIN\"\n",
            "[25] \"FRA\" \"GBR\" \"GRE\" \"GTM\" \"HKG\" \"HND\" \"HRV\" \"HUN\" \"IDN\" \"IND\" \"IRE\" \"ISL\"\n",
            "[37] \"ISR\" \"ITA\" \"JOR\" \"JPN\" \"KOR\" \"KWT\" \"LBN\" \"LKA\" \"LTU\" \"LVA\" \"MAR\" \"MEX\"\n",
            "[49] \"MYS\" \"PAK\" \"SAU\" \"NIC\" \"NZE\" \"TUR\" \"SVK\" \"SVN\" \"VNM\" \"PAN\" \"UKR\" \"NGA\"\n",
            "[61] \"RUS\" \"OMN\" \"USA\" \"VEN\" \"SGP\" \"PRY\" \"PHL\" \"PER\" \"POL\" \"TWN\" \"POR\" \"NLD\"\n",
            "[73] \"URY\" \"ZAF\" \"NOR\" \"THA\" \"QAT\" \"ROU\" \"SWE\"\n"
          ]
        }
      ]
    },
    {
      "cell_type": "code",
      "source": [
        "install.packages(\"stringr\")\n",
        "install.packages(\"dplyr\")\n",
        "library(stringr)\n",
        "library(dplyr)"
      ],
      "metadata": {
        "colab": {
          "base_uri": "https://localhost:8080/"
        },
        "id": "hKt_gLsk1JwK",
        "outputId": "c2c7045b-c932-4c65-bc72-a60fcbac0b32"
      },
      "execution_count": null,
      "outputs": [
        {
          "output_type": "stream",
          "name": "stderr",
          "text": [
            "Installing package into ‘/usr/local/lib/R/site-library’\n",
            "(as ‘lib’ is unspecified)\n",
            "\n",
            "Installing package into ‘/usr/local/lib/R/site-library’\n",
            "(as ‘lib’ is unspecified)\n",
            "\n",
            "\n",
            "Attaching package: ‘dplyr’\n",
            "\n",
            "\n",
            "The following objects are masked from ‘package:stats’:\n",
            "\n",
            "    filter, lag\n",
            "\n",
            "\n",
            "The following objects are masked from ‘package:base’:\n",
            "\n",
            "    intersect, setdiff, setequal, union\n",
            "\n",
            "\n"
          ]
        }
      ]
    },
    {
      "cell_type": "code",
      "source": [
        "unique_genre <- unique(df$genre)\n",
        "print(unique_genre)"
      ],
      "metadata": {
        "id": "vBZzyWuW0RAd",
        "colab": {
          "base_uri": "https://localhost:8080/"
        },
        "outputId": "7987f6f4-7d7e-4f06-95c8-1e72661be654"
      },
      "execution_count": null,
      "outputs": [
        {
          "output_type": "stream",
          "name": "stdout",
          "text": [
            " [1] \"Horror\"          \"Science Fiction\" \"Action\"          \"Superhero\"      \n",
            " [5] \"Animated\"        \"Crime\"           \"\"                \"Drama\"          \n",
            " [9] \"Romance\"         \"Comedy\"          \"Mystery\"         \"Documentary\"    \n",
            "[13] \"Fantasy\"         \"Adventure\"       \"Reality-Show\"    \"Thriller\"       \n",
            "[17] \"Animation\"       \"War\"             \"Unknown\"         \"Musical\"        \n",
            "[21] \"Situation\"      \n"
          ]
        }
      ]
    },
    {
      "cell_type": "code",
      "source": [
        "# Remove '%' from 'imdb_rating' and convert to numeric\n",
        "df$imdb_rating_per <- as.numeric(gsub(\"%\", \"\", df$imdb_rating))\n",
        "\n",
        "# Remove '%' from 'rt_rating' and convert to numeric\n",
        "df$rt_rating_per <- as.numeric(gsub(\"%\", \"\", df$rt_rating))\n",
        "\n",
        "\n",
        "# Remove '-- --' from 'movie-- --' and convert to numeric\n",
        "df$show_type <- gsub(\" -- --\", \"\", df$show_type)\n",
        "unique(df$show_type)\n"
      ],
      "metadata": {
        "id": "7ms1LHov1Qsp",
        "colab": {
          "base_uri": "https://localhost:8080/",
          "height": 34
        },
        "outputId": "350b2585-91ad-4246-a5f8-275498ab9f05"
      },
      "execution_count": null,
      "outputs": [
        {
          "output_type": "display_data",
          "data": {
            "text/html": [
              "<style>\n",
              ".list-inline {list-style: none; margin:0; padding: 0}\n",
              ".list-inline>li {display: inline-block}\n",
              ".list-inline>li:not(:last-child)::after {content: \"\\00b7\"; padding: 0 .5ex}\n",
              "</style>\n",
              "<ol class=list-inline><li>'Movie'</li><li>'TV Show'</li><li>'Documentary TV'</li><li>'Documentary'</li><li>'Short'</li></ol>\n"
            ],
            "text/markdown": "1. 'Movie'\n2. 'TV Show'\n3. 'Documentary TV'\n4. 'Documentary'\n5. 'Short'\n\n\n",
            "text/latex": "\\begin{enumerate*}\n\\item 'Movie'\n\\item 'TV Show'\n\\item 'Documentary TV'\n\\item 'Documentary'\n\\item 'Short'\n\\end{enumerate*}\n",
            "text/plain": [
              "[1] \"Movie\"          \"TV Show\"        \"Documentary TV\" \"Documentary\"   \n",
              "[5] \"Short\"         "
            ]
          },
          "metadata": {}
        }
      ]
    },
    {
      "cell_type": "code",
      "source": [
        "column<-colnames(df)\n",
        "print(column)\n",
        "clean_data <- df[!is.na(df$show_type), ]\n"
      ],
      "metadata": {
        "id": "XnGhiRFX1sRU",
        "colab": {
          "base_uri": "https://localhost:8080/"
        },
        "outputId": "713b4b58-9ead-4581-9c12-f0c2de50d218"
      },
      "execution_count": null,
      "outputs": [
        {
          "output_type": "stream",
          "name": "stdout",
          "text": [
            " [1] \"week\"                                  \n",
            " [2] \"show_type\"                             \n",
            " [3] \"title\"                                 \n",
            " [4] \"ori_country\"                           \n",
            " [5] \"genre\"                                 \n",
            " [6] \"release_date\"                          \n",
            " [7] \"is_NF_Ori\"                             \n",
            " [8] \"imdb_rating\"                           \n",
            " [9] \"rt_rating\"                             \n",
            "[10] \"country_chart\"                         \n",
            "[11] \"show_link\"                             \n",
            "[12] \"Continent\"                             \n",
            "[13] \"Continent.the.letter.for.the.king.2020\"\n",
            "[14] \"EUR\"                                   \n",
            "[15] \"rel_yr\"                                \n",
            "[16] \"rel_mt\"                                \n",
            "[17] \"imdb_rating_per\"                       \n",
            "[18] \"rt_rating_per\"                         \n"
          ]
        }
      ]
    },
    {
      "cell_type": "code",
      "source": [
        "#1 List out all movies that has IMDB rating more than 75% from all country\n",
        "df1<-df[df$show_type == \"Movie\" & df$imdb_rating_per > 75, ]\n",
        "\n",
        "#df1$title\n",
        "df1=df1[!is.na(df$title), ]\n",
        "unique(df1$title)"
      ],
      "metadata": {
        "id": "-HOyRZWX1-FS",
        "outputId": "4ca68357-9f19-4b49-8340-57a111de46c0",
        "colab": {
          "base_uri": "https://localhost:8080/",
          "height": 86
        }
      },
      "execution_count": null,
      "outputs": [
        {
          "output_type": "display_data",
          "data": {
            "text/html": [
              "<style>\n",
              ".list-inline {list-style: none; margin:0; padding: 0}\n",
              ".list-inline>li {display: inline-block}\n",
              ".list-inline>li:not(:last-child)::after {content: \"\\00b7\"; padding: 0 .5ex}\n",
              "</style>\n",
              "<ol class=list-inline><li>'Wonder'</li><li>NA</li><li>'The Old Guard'</li><li>'Doctor Sleep'</li><li>'Mission: Impossible - Fallout'</li><li>'Gifted'</li><li>'Miracle in Cell No. 7'</li><li>'Aquaman'</li><li>'Baby Driver'</li><li>'Eurovision Song Contest: The Story of Fire Saga'</li><li>'Shrek'</li><li>'Deadpool 2'</li><li>'Tag'</li><li>'Joker'</li><li>'Get Out'</li><li>'Ready Player One'</li><li>'Raat Akeli Hai'</li><li>'Zodiac'</li><li>'Edge of Tomorrow'</li><li>'Howls Moving Castle'</li><li>'The Pocket Hercules Naim'</li><li>'Catch Me If You Can'</li><li>'I\\'m Thinking of Ending Things'</li><li>'Uncut Gems'</li><li>'Despicable Me'</li><li>'John Wick: Chapter Two'</li><li>'A Star is Born'</li><li>'Wind River'</li><li>'John Wick: Chapter 3 – Parabellum'</li><li>'A Quiet Place'</li><li>'Parasite'</li><li>'Sicario: Day Of The Soldado'</li><li>'Mad Max: Fury Road'</li></ol>\n"
            ],
            "text/markdown": "1. 'Wonder'\n2. NA\n3. 'The Old Guard'\n4. 'Doctor Sleep'\n5. 'Mission: Impossible - Fallout'\n6. 'Gifted'\n7. 'Miracle in Cell No. 7'\n8. 'Aquaman'\n9. 'Baby Driver'\n10. 'Eurovision Song Contest: The Story of Fire Saga'\n11. 'Shrek'\n12. 'Deadpool 2'\n13. 'Tag'\n14. 'Joker'\n15. 'Get Out'\n16. 'Ready Player One'\n17. 'Raat Akeli Hai'\n18. 'Zodiac'\n19. 'Edge of Tomorrow'\n20. 'Howls Moving Castle'\n21. 'The Pocket Hercules Naim'\n22. 'Catch Me If You Can'\n23. 'I\\'m Thinking of Ending Things'\n24. 'Uncut Gems'\n25. 'Despicable Me'\n26. 'John Wick: Chapter Two'\n27. 'A Star is Born'\n28. 'Wind River'\n29. 'John Wick: Chapter 3 – Parabellum'\n30. 'A Quiet Place'\n31. 'Parasite'\n32. 'Sicario: Day Of The Soldado'\n33. 'Mad Max: Fury Road'\n\n\n",
            "text/latex": "\\begin{enumerate*}\n\\item 'Wonder'\n\\item NA\n\\item 'The Old Guard'\n\\item 'Doctor Sleep'\n\\item 'Mission: Impossible - Fallout'\n\\item 'Gifted'\n\\item 'Miracle in Cell No. 7'\n\\item 'Aquaman'\n\\item 'Baby Driver'\n\\item 'Eurovision Song Contest: The Story of Fire Saga'\n\\item 'Shrek'\n\\item 'Deadpool 2'\n\\item 'Tag'\n\\item 'Joker'\n\\item 'Get Out'\n\\item 'Ready Player One'\n\\item 'Raat Akeli Hai'\n\\item 'Zodiac'\n\\item 'Edge of Tomorrow'\n\\item 'Howls Moving Castle'\n\\item 'The Pocket Hercules Naim'\n\\item 'Catch Me If You Can'\n\\item 'I\\textbackslash{}'m Thinking of Ending Things'\n\\item 'Uncut Gems'\n\\item 'Despicable Me'\n\\item 'John Wick: Chapter Two'\n\\item 'A Star is Born'\n\\item 'Wind River'\n\\item 'John Wick: Chapter 3 – Parabellum'\n\\item 'A Quiet Place'\n\\item 'Parasite'\n\\item 'Sicario: Day Of The Soldado'\n\\item 'Mad Max: Fury Road'\n\\end{enumerate*}\n",
            "text/plain": [
              " [1] \"Wonder\"                                         \n",
              " [2] NA                                               \n",
              " [3] \"The Old Guard\"                                  \n",
              " [4] \"Doctor Sleep\"                                   \n",
              " [5] \"Mission: Impossible - Fallout\"                  \n",
              " [6] \"Gifted\"                                         \n",
              " [7] \"Miracle in Cell No. 7\"                          \n",
              " [8] \"Aquaman\"                                        \n",
              " [9] \"Baby Driver\"                                    \n",
              "[10] \"Eurovision Song Contest: The Story of Fire Saga\"\n",
              "[11] \"Shrek\"                                          \n",
              "[12] \"Deadpool 2\"                                     \n",
              "[13] \"Tag\"                                            \n",
              "[14] \"Joker\"                                          \n",
              "[15] \"Get Out\"                                        \n",
              "[16] \"Ready Player One\"                               \n",
              "[17] \"Raat Akeli Hai\"                                 \n",
              "[18] \"Zodiac\"                                         \n",
              "[19] \"Edge of Tomorrow\"                               \n",
              "[20] \"Howls Moving Castle\"                            \n",
              "[21] \"The Pocket Hercules Naim\"                       \n",
              "[22] \"Catch Me If You Can\"                            \n",
              "[23] \"I'm Thinking of Ending Things\"                  \n",
              "[24] \"Uncut Gems\"                                     \n",
              "[25] \"Despicable Me\"                                  \n",
              "[26] \"John Wick: Chapter Two\"                         \n",
              "[27] \"A Star is Born\"                                 \n",
              "[28] \"Wind River\"                                     \n",
              "[29] \"John Wick: Chapter 3 – Parabellum\"              \n",
              "[30] \"A Quiet Place\"                                  \n",
              "[31] \"Parasite\"                                       \n",
              "[32] \"Sicario: Day Of The Soldado\"                    \n",
              "[33] \"Mad Max: Fury Road\"                             "
            ]
          },
          "metadata": {}
        }
      ]
    },
    {
      "cell_type": "code",
      "source": [
        "unique(df$ori_country)\n",
        "unique(df$country_chart)\n",
        "unique(df$is_NF_Ori)"
      ],
      "metadata": {
        "colab": {
          "base_uri": "https://localhost:8080/",
          "height": 139
        },
        "id": "zekUrTwb3QsQ",
        "outputId": "d20740e3-2d30-44ec-dc02-87d5fc4b19a4"
      },
      "execution_count": null,
      "outputs": [
        {
          "output_type": "display_data",
          "data": {
            "text/html": [
              "<style>\n",
              ".list-inline {list-style: none; margin:0; padding: 0}\n",
              ".list-inline>li {display: inline-block}\n",
              ".list-inline>li:not(:last-child)::after {content: \"\\00b7\"; padding: 0 .5ex}\n",
              "</style>\n",
              "<ol class=list-inline><li>'South Korea'</li><li>'USA'</li><li>'Argentina'</li><li>''</li><li>'Spain'</li><li>'United Kingdom'</li><li>'Mexico'</li><li>'France'</li><li>'Germany'</li><li>'Poland'</li><li>'Italy'</li><li>'Canada'</li><li>'Switzerland'</li><li>'Austria'</li><li>'South Africa'</li><li>'Belgium'</li><li>'Turkey'</li><li>'India'</li><li>'Colombia'</li><li>'Japan'</li><li>'Brazil'</li><li>'Chile'</li><li>'Czech Republic'</li><li>'Sweden'</li><li>'Dominican Republic'</li><li>'Egypt'</li><li>'Ireland'</li><li>'Taiwan'</li><li>'Romania'</li><li>'Israel'</li><li>'Croatia'</li><li>'Slovakia'</li><li>'Vietnam'</li><li>'Unknown'</li><li>'Ghana'</li><li>'Nigeria'</li><li>'Singapore'</li><li>'China'</li><li>'Philippines'</li><li>'Malaysia'</li><li>'Thailand'</li><li>'Denmark'</li></ol>\n"
            ],
            "text/markdown": "1. 'South Korea'\n2. 'USA'\n3. 'Argentina'\n4. ''\n5. 'Spain'\n6. 'United Kingdom'\n7. 'Mexico'\n8. 'France'\n9. 'Germany'\n10. 'Poland'\n11. 'Italy'\n12. 'Canada'\n13. 'Switzerland'\n14. 'Austria'\n15. 'South Africa'\n16. 'Belgium'\n17. 'Turkey'\n18. 'India'\n19. 'Colombia'\n20. 'Japan'\n21. 'Brazil'\n22. 'Chile'\n23. 'Czech Republic'\n24. 'Sweden'\n25. 'Dominican Republic'\n26. 'Egypt'\n27. 'Ireland'\n28. 'Taiwan'\n29. 'Romania'\n30. 'Israel'\n31. 'Croatia'\n32. 'Slovakia'\n33. 'Vietnam'\n34. 'Unknown'\n35. 'Ghana'\n36. 'Nigeria'\n37. 'Singapore'\n38. 'China'\n39. 'Philippines'\n40. 'Malaysia'\n41. 'Thailand'\n42. 'Denmark'\n\n\n",
            "text/latex": "\\begin{enumerate*}\n\\item 'South Korea'\n\\item 'USA'\n\\item 'Argentina'\n\\item ''\n\\item 'Spain'\n\\item 'United Kingdom'\n\\item 'Mexico'\n\\item 'France'\n\\item 'Germany'\n\\item 'Poland'\n\\item 'Italy'\n\\item 'Canada'\n\\item 'Switzerland'\n\\item 'Austria'\n\\item 'South Africa'\n\\item 'Belgium'\n\\item 'Turkey'\n\\item 'India'\n\\item 'Colombia'\n\\item 'Japan'\n\\item 'Brazil'\n\\item 'Chile'\n\\item 'Czech Republic'\n\\item 'Sweden'\n\\item 'Dominican Republic'\n\\item 'Egypt'\n\\item 'Ireland'\n\\item 'Taiwan'\n\\item 'Romania'\n\\item 'Israel'\n\\item 'Croatia'\n\\item 'Slovakia'\n\\item 'Vietnam'\n\\item 'Unknown'\n\\item 'Ghana'\n\\item 'Nigeria'\n\\item 'Singapore'\n\\item 'China'\n\\item 'Philippines'\n\\item 'Malaysia'\n\\item 'Thailand'\n\\item 'Denmark'\n\\end{enumerate*}\n",
            "text/plain": [
              " [1] \"South Korea\"        \"USA\"                \"Argentina\"         \n",
              " [4] \"\"                   \"Spain\"              \"United Kingdom\"    \n",
              " [7] \"Mexico\"             \"France\"             \"Germany\"           \n",
              "[10] \"Poland\"             \"Italy\"              \"Canada\"            \n",
              "[13] \"Switzerland\"        \"Austria\"            \"South Africa\"      \n",
              "[16] \"Belgium\"            \"Turkey\"             \"India\"             \n",
              "[19] \"Colombia\"           \"Japan\"              \"Brazil\"            \n",
              "[22] \"Chile\"              \"Czech Republic\"     \"Sweden\"            \n",
              "[25] \"Dominican Republic\" \"Egypt\"              \"Ireland\"           \n",
              "[28] \"Taiwan\"             \"Romania\"            \"Israel\"            \n",
              "[31] \"Croatia\"            \"Slovakia\"           \"Vietnam\"           \n",
              "[34] \"Unknown\"            \"Ghana\"              \"Nigeria\"           \n",
              "[37] \"Singapore\"          \"China\"              \"Philippines\"       \n",
              "[40] \"Malaysia\"           \"Thailand\"           \"Denmark\"           "
            ]
          },
          "metadata": {}
        },
        {
          "output_type": "display_data",
          "data": {
            "text/html": [
              "<style>\n",
              ".list-inline {list-style: none; margin:0; padding: 0}\n",
              ".list-inline>li {display: inline-block}\n",
              ".list-inline>li:not(:last-child)::after {content: \"\\00b7\"; padding: 0 .5ex}\n",
              "</style>\n",
              "<ol class=list-inline><li>'ARE'</li><li>'ARG'</li><li>'AUS'</li><li>'AUT'</li><li>'BEL'</li><li>'BGD'</li><li>'BGR'</li><li>'BOL'</li><li>'BRA'</li><li>'CAN'</li><li>'CHE'</li><li>'CHL'</li><li>'COL'</li><li>'CRI'</li><li>'CYP'</li><li>'CZE'</li><li>'DEU'</li><li>'DNK'</li><li>'DOM'</li><li>'ECU'</li><li>'EGY'</li><li>'ESP'</li><li>'EST'</li><li>'FIN'</li><li>'FRA'</li><li>'GBR'</li><li>'GRE'</li><li>'GTM'</li><li>'HKG'</li><li>'HND'</li><li>'HRV'</li><li>'HUN'</li><li>'IDN'</li><li>'IND'</li><li>'IRE'</li><li>'ISL'</li><li>'ISR'</li><li>'ITA'</li><li>'JOR'</li><li>'JPN'</li><li>'KOR'</li><li>'KWT'</li><li>'LBN'</li><li>'LKA'</li><li>'LTU'</li><li>'LVA'</li><li>'MAR'</li><li>'MEX'</li><li>'MYS'</li><li>'PAK'</li><li>'SAU'</li><li>'NIC'</li><li>'NZE'</li><li>'TUR'</li><li>'SVK'</li><li>'SVN'</li><li>'VNM'</li><li>'PAN'</li><li>'UKR'</li><li>'NGA'</li><li>'RUS'</li><li>'OMN'</li><li>'USA'</li><li>'VEN'</li><li>'SGP'</li><li>'PRY'</li><li>'PHL'</li><li>'PER'</li><li>'POL'</li><li>'TWN'</li><li>'POR'</li><li>'NLD'</li><li>'URY'</li><li>'ZAF'</li><li>'NOR'</li><li>'THA'</li><li>'QAT'</li><li>'ROU'</li><li>'SWE'</li></ol>\n"
            ],
            "text/markdown": "1. 'ARE'\n2. 'ARG'\n3. 'AUS'\n4. 'AUT'\n5. 'BEL'\n6. 'BGD'\n7. 'BGR'\n8. 'BOL'\n9. 'BRA'\n10. 'CAN'\n11. 'CHE'\n12. 'CHL'\n13. 'COL'\n14. 'CRI'\n15. 'CYP'\n16. 'CZE'\n17. 'DEU'\n18. 'DNK'\n19. 'DOM'\n20. 'ECU'\n21. 'EGY'\n22. 'ESP'\n23. 'EST'\n24. 'FIN'\n25. 'FRA'\n26. 'GBR'\n27. 'GRE'\n28. 'GTM'\n29. 'HKG'\n30. 'HND'\n31. 'HRV'\n32. 'HUN'\n33. 'IDN'\n34. 'IND'\n35. 'IRE'\n36. 'ISL'\n37. 'ISR'\n38. 'ITA'\n39. 'JOR'\n40. 'JPN'\n41. 'KOR'\n42. 'KWT'\n43. 'LBN'\n44. 'LKA'\n45. 'LTU'\n46. 'LVA'\n47. 'MAR'\n48. 'MEX'\n49. 'MYS'\n50. 'PAK'\n51. 'SAU'\n52. 'NIC'\n53. 'NZE'\n54. 'TUR'\n55. 'SVK'\n56. 'SVN'\n57. 'VNM'\n58. 'PAN'\n59. 'UKR'\n60. 'NGA'\n61. 'RUS'\n62. 'OMN'\n63. 'USA'\n64. 'VEN'\n65. 'SGP'\n66. 'PRY'\n67. 'PHL'\n68. 'PER'\n69. 'POL'\n70. 'TWN'\n71. 'POR'\n72. 'NLD'\n73. 'URY'\n74. 'ZAF'\n75. 'NOR'\n76. 'THA'\n77. 'QAT'\n78. 'ROU'\n79. 'SWE'\n\n\n",
            "text/latex": "\\begin{enumerate*}\n\\item 'ARE'\n\\item 'ARG'\n\\item 'AUS'\n\\item 'AUT'\n\\item 'BEL'\n\\item 'BGD'\n\\item 'BGR'\n\\item 'BOL'\n\\item 'BRA'\n\\item 'CAN'\n\\item 'CHE'\n\\item 'CHL'\n\\item 'COL'\n\\item 'CRI'\n\\item 'CYP'\n\\item 'CZE'\n\\item 'DEU'\n\\item 'DNK'\n\\item 'DOM'\n\\item 'ECU'\n\\item 'EGY'\n\\item 'ESP'\n\\item 'EST'\n\\item 'FIN'\n\\item 'FRA'\n\\item 'GBR'\n\\item 'GRE'\n\\item 'GTM'\n\\item 'HKG'\n\\item 'HND'\n\\item 'HRV'\n\\item 'HUN'\n\\item 'IDN'\n\\item 'IND'\n\\item 'IRE'\n\\item 'ISL'\n\\item 'ISR'\n\\item 'ITA'\n\\item 'JOR'\n\\item 'JPN'\n\\item 'KOR'\n\\item 'KWT'\n\\item 'LBN'\n\\item 'LKA'\n\\item 'LTU'\n\\item 'LVA'\n\\item 'MAR'\n\\item 'MEX'\n\\item 'MYS'\n\\item 'PAK'\n\\item 'SAU'\n\\item 'NIC'\n\\item 'NZE'\n\\item 'TUR'\n\\item 'SVK'\n\\item 'SVN'\n\\item 'VNM'\n\\item 'PAN'\n\\item 'UKR'\n\\item 'NGA'\n\\item 'RUS'\n\\item 'OMN'\n\\item 'USA'\n\\item 'VEN'\n\\item 'SGP'\n\\item 'PRY'\n\\item 'PHL'\n\\item 'PER'\n\\item 'POL'\n\\item 'TWN'\n\\item 'POR'\n\\item 'NLD'\n\\item 'URY'\n\\item 'ZAF'\n\\item 'NOR'\n\\item 'THA'\n\\item 'QAT'\n\\item 'ROU'\n\\item 'SWE'\n\\end{enumerate*}\n",
            "text/plain": [
              " [1] \"ARE\" \"ARG\" \"AUS\" \"AUT\" \"BEL\" \"BGD\" \"BGR\" \"BOL\" \"BRA\" \"CAN\" \"CHE\" \"CHL\"\n",
              "[13] \"COL\" \"CRI\" \"CYP\" \"CZE\" \"DEU\" \"DNK\" \"DOM\" \"ECU\" \"EGY\" \"ESP\" \"EST\" \"FIN\"\n",
              "[25] \"FRA\" \"GBR\" \"GRE\" \"GTM\" \"HKG\" \"HND\" \"HRV\" \"HUN\" \"IDN\" \"IND\" \"IRE\" \"ISL\"\n",
              "[37] \"ISR\" \"ITA\" \"JOR\" \"JPN\" \"KOR\" \"KWT\" \"LBN\" \"LKA\" \"LTU\" \"LVA\" \"MAR\" \"MEX\"\n",
              "[49] \"MYS\" \"PAK\" \"SAU\" \"NIC\" \"NZE\" \"TUR\" \"SVK\" \"SVN\" \"VNM\" \"PAN\" \"UKR\" \"NGA\"\n",
              "[61] \"RUS\" \"OMN\" \"USA\" \"VEN\" \"SGP\" \"PRY\" \"PHL\" \"PER\" \"POL\" \"TWN\" \"POR\" \"NLD\"\n",
              "[73] \"URY\" \"ZAF\" \"NOR\" \"THA\" \"QAT\" \"ROU\" \"SWE\""
            ]
          },
          "metadata": {}
        },
        {
          "output_type": "display_data",
          "data": {
            "text/html": [
              "<style>\n",
              ".list-inline {list-style: none; margin:0; padding: 0}\n",
              ".list-inline>li {display: inline-block}\n",
              ".list-inline>li:not(:last-child)::after {content: \"\\00b7\"; padding: 0 .5ex}\n",
              "</style>\n",
              "<ol class=list-inline><li>'False'</li><li>'True'</li></ol>\n"
            ],
            "text/markdown": "1. 'False'\n2. 'True'\n\n\n",
            "text/latex": "\\begin{enumerate*}\n\\item 'False'\n\\item 'True'\n\\end{enumerate*}\n",
            "text/plain": [
              "[1] \"False\" \"True\" "
            ]
          },
          "metadata": {}
        }
      ]
    },
    {
      "cell_type": "code",
      "source": [
        "#Q2 '''List out all Indian TV shows prepared for Netflix and has\n",
        "#IMDB rating more than 60%, RT rating, at least 50% with\n",
        "#originating countries from Germany or USA or India'''\n",
        "sort_df <- df %>%\n",
        "  filter(show_type == 'TV Show' &\n",
        "         is_NF_Ori == 'True' &\n",
        "         country_chart == 'IND' &\n",
        "         imdb_rating_per > 60 &\n",
        "         rt_rating_per >= 50 &\n",
        "         (ori_country %in% c(\"USA\", \"Germany\", \"India\")))\n",
        "\n",
        "sort_df$title"
      ],
      "metadata": {
        "id": "A3xCz8cma08P",
        "outputId": "3ff49d5f-04cb-4248-b09c-2f2a9972fcb4",
        "colab": {
          "base_uri": "https://localhost:8080/",
          "height": 52
        }
      },
      "execution_count": null,
      "outputs": [
        {
          "output_type": "display_data",
          "data": {
            "text/html": [
              "<style>\n",
              ".list-inline {list-style: none; margin:0; padding: 0}\n",
              ".list-inline>li {display: inline-block}\n",
              ".list-inline>li:not(:last-child)::after {content: \"\\00b7\"; padding: 0 .5ex}\n",
              "</style>\n",
              "<ol class=list-inline><li>'Lucifer'</li><li>'The Umbrella Academy'</li><li>'Dark'</li><li>'Dark'</li><li>'Dark'</li><li>'Dark'</li><li>'Dark'</li><li>'Never Have I Ever'</li><li>'Never Have I Ever'</li><li>'Never Have I Ever'</li><li>'Lucifer'</li><li>'The Umbrella Academy'</li><li>'Dark'</li><li>'Dark'</li><li>'Dark'</li><li>'Dark'</li><li>'Dark'</li><li>'Never Have I Ever'</li><li>'Never Have I Ever'</li><li>'Never Have I Ever'</li></ol>\n"
            ],
            "text/markdown": "1. 'Lucifer'\n2. 'The Umbrella Academy'\n3. 'Dark'\n4. 'Dark'\n5. 'Dark'\n6. 'Dark'\n7. 'Dark'\n8. 'Never Have I Ever'\n9. 'Never Have I Ever'\n10. 'Never Have I Ever'\n11. 'Lucifer'\n12. 'The Umbrella Academy'\n13. 'Dark'\n14. 'Dark'\n15. 'Dark'\n16. 'Dark'\n17. 'Dark'\n18. 'Never Have I Ever'\n19. 'Never Have I Ever'\n20. 'Never Have I Ever'\n\n\n",
            "text/latex": "\\begin{enumerate*}\n\\item 'Lucifer'\n\\item 'The Umbrella Academy'\n\\item 'Dark'\n\\item 'Dark'\n\\item 'Dark'\n\\item 'Dark'\n\\item 'Dark'\n\\item 'Never Have I Ever'\n\\item 'Never Have I Ever'\n\\item 'Never Have I Ever'\n\\item 'Lucifer'\n\\item 'The Umbrella Academy'\n\\item 'Dark'\n\\item 'Dark'\n\\item 'Dark'\n\\item 'Dark'\n\\item 'Dark'\n\\item 'Never Have I Ever'\n\\item 'Never Have I Ever'\n\\item 'Never Have I Ever'\n\\end{enumerate*}\n",
            "text/plain": [
              " [1] \"Lucifer\"              \"The Umbrella Academy\" \"Dark\"                \n",
              " [4] \"Dark\"                 \"Dark\"                 \"Dark\"                \n",
              " [7] \"Dark\"                 \"Never Have I Ever\"    \"Never Have I Ever\"   \n",
              "[10] \"Never Have I Ever\"    \"Lucifer\"              \"The Umbrella Academy\"\n",
              "[13] \"Dark\"                 \"Dark\"                 \"Dark\"                \n",
              "[16] \"Dark\"                 \"Dark\"                 \"Never Have I Ever\"   \n",
              "[19] \"Never Have I Ever\"    \"Never Have I Ever\"   "
            ]
          },
          "metadata": {}
        }
      ]
    },
    {
      "cell_type": "code",
      "source": [
        "# Convert 'release_date' to datetime\n",
        "df$release_date <- as.POSIXct(df$release_date, format = \"%Y-%m-%d\", tz = \"UTC\", errors = \"coerce\")\n",
        "\n",
        "# Extract release year and month\n",
        "df$rel_yr <- as.numeric(format(df$release_date, \"%Y\"))  # Extract year\n",
        "df$rel_mt <- as.numeric(format(df$release_date, \"%m\"))  # Extract month\n"
      ],
      "metadata": {
        "id": "dSlQgNRUW_Uu"
      },
      "execution_count": null,
      "outputs": []
    },
    {
      "cell_type": "code",
      "source": [
        "df$rel_yr"
      ],
      "metadata": {
        "colab": {
          "base_uri": "https://localhost:8080/",
          "height": 191
        },
        "id": "jpp1l-KyVnhI",
        "outputId": "eadf71ff-2bdb-490e-d9fe-b27088d54e24"
      },
      "execution_count": null,
      "outputs": [
        {
          "output_type": "display_data",
          "data": {
            "text/html": [
              "<style>\n",
              ".list-inline {list-style: none; margin:0; padding: 0}\n",
              ".list-inline>li {display: inline-block}\n",
              ".list-inline>li:not(:last-child)::after {content: \"\\00b7\"; padding: 0 .5ex}\n",
              "</style>\n",
              "<ol class=list-inline><li>2020</li><li>2020</li><li>2018</li><li>2016</li><li>2020</li><li>2016</li><li>2017</li><li>2018</li><li>2017</li><li>2018</li><li>2020</li><li>2016</li><li>2020</li><li>2020</li><li>2017</li><li>2015</li><li>2017</li><li>2015</li><li>2020</li><li>2020</li><li>2018</li><li>2020</li><li>2020</li><li>2020</li><li>2017</li><li>2017</li><li>2017</li><li>2017</li><li>2020</li><li>2017</li><li>2020</li><li>2020</li><li>2020</li><li>2017</li><li>2020</li><li>2020</li><li>2020</li><li>2020</li><li>2017</li><li>2020</li><li>2020</li><li>2020</li><li>1996</li><li>2020</li><li>2020</li><li>2020</li><li>2015</li><li>2018</li><li>2020</li><li>2017</li><li>2020</li><li>2017</li><li>2020</li><li>2017</li><li>2020</li><li>2020</li><li>2018</li><li>2018</li><li>2020</li><li>2016</li><li>2020</li><li>2018</li><li>2020</li><li>2019</li><li>2019</li><li>2019</li><li>2020</li><li>2018</li><li>2018</li><li>2020</li><li>2020</li><li>2020</li><li>2012</li><li>2020</li><li>2017</li><li>2017</li><li>2020</li><li>2017</li><li>2020</li><li>2017</li><li>2020</li><li>2017</li><li>2017</li><li>2020</li><li>2019</li><li>2020</li><li>2018</li><li>2020</li><li>2020</li><li>2020</li><li>2018</li><li>2020</li><li>2020</li><li>2020</li><li>2015</li><li>2020</li><li>2019</li><li>2020</li><li>2020</li><li>2020</li><li>2015</li><li>2020</li><li>2020</li><li>2020</li><li>2020</li><li>2020</li><li>2018</li><li>2018</li><li>2020</li><li>2020</li><li>2020</li><li>2019</li><li>2020</li><li>2019</li><li>2016</li><li>2019</li><li>2020</li><li>2019</li><li>2018</li><li>2019</li><li>2018</li><li>2013</li><li>2020</li><li>2020</li><li>2020</li><li>2013</li><li>2020</li><li>2009</li><li>2020</li><li>2013</li><li>2020</li><li>2017</li><li>2017</li><li>2020</li><li>2012</li><li>2017</li><li>2020</li><li>2020</li><li>2020</li><li>2020</li><li>2017</li><li>2020</li><li>2020</li><li>2020</li><li>2015</li><li>2020</li><li>2018</li><li>2017</li><li>2020</li><li>2017</li><li>2020</li><li>2020</li><li>2020</li><li>2020</li><li>2016</li><li>2020</li><li>2020</li><li>2016</li><li>2020</li><li>2016</li><li>2020</li><li>2019</li><li>2020</li><li>2019</li><li>2020</li><li>2019</li><li>2020</li><li>2020</li><li>2020</li><li>2020</li><li>2020</li><li>2020</li><li>2020</li><li>2020</li><li>2020</li><li>2020</li><li>2020</li><li>2019</li><li>2020</li><li>2017</li><li>2020</li><li>2017</li><li>2002</li><li>2020</li><li>2012</li><li>2017</li><li>2020</li><li>2020</li><li>2020</li><li>2020</li><li>2020</li><li>2020</li><li>2020</li><li>2020</li><li>2013</li><li>2020</li><li>2016</li><li>2017</li><li>2020</li><li>2017</li><li>⋯</li><li>2020</li><li>2020</li><li>2020</li><li>2020</li><li>2020</li><li>2020</li><li>1994</li><li>2020</li><li>2012</li><li>2020</li><li>2020</li><li>2020</li><li>2020</li><li>2020</li><li>2020</li><li>2020</li><li>2020</li><li>2020</li><li>2020</li><li>2020</li><li>2020</li><li>2017</li><li>2020</li><li>2017</li><li>2020</li><li>2017</li><li>2020</li><li>2020</li><li>2017</li><li>2005</li><li>2020</li><li>2018</li><li>2020</li><li>2016</li><li>2020</li><li>2020</li><li>2017</li><li>2015</li><li>2017</li><li>2015</li><li>2020</li><li>2020</li><li>2018</li><li>2020</li><li>2020</li><li>2020</li><li>2017</li><li>2017</li><li>2017</li><li>2017</li><li>2017</li><li>2017</li><li>2020</li><li>2020</li><li>2013</li><li>2018</li><li>2020</li><li>2016</li><li>2020</li><li>2012</li><li>2020</li><li>2019</li><li>2020</li><li>2019</li><li>2020</li><li>2011</li><li>2020</li><li>2020</li><li>2020</li><li>2020</li><li>2012</li><li>2020</li><li>2016</li><li>2020</li><li>2020</li><li>2020</li><li>2020</li><li>2017</li><li>2020</li><li>2017</li><li>2019</li><li>2020</li><li>2019</li><li>2020</li><li>2020</li><li>2005</li><li>2020</li><li>2019</li><li>2020</li><li>2020</li><li>2020</li><li>2020</li><li>2010</li><li>2020</li><li>2019</li><li>2020</li><li>2019</li><li>2020</li><li>2016</li><li>2020</li><li>2020</li><li>2020</li><li>2020</li><li>2018</li><li>2017</li><li>2020</li><li>2020</li><li>2020</li><li>2020</li><li>2016</li><li>2020</li><li>2020</li><li>2017</li><li>2020</li><li>2017</li><li>2015</li><li>2020</li><li>2020</li><li>2018</li><li>2020</li><li>2020</li><li>2020</li><li>2017</li><li>2017</li><li>2020</li><li>2017</li><li>2020</li><li>2017</li><li>2020</li><li>2014</li><li>2002</li><li>2020</li><li>2020</li><li>2020</li><li>2020</li><li>2020</li><li>2018</li><li>2020</li><li>2018</li><li>2020</li><li>2020</li><li>2020</li><li>&lt;NA&gt;</li><li>2020</li><li>2020</li><li>2020</li><li>2020</li><li>2020</li><li>2018</li><li>2020</li><li>2018</li><li>2020</li><li>2020</li><li>2020</li><li>2019</li><li>2016</li><li>2020</li><li>2016</li><li>2020</li><li>2019</li><li>2020</li><li>2019</li><li>2020</li><li>2019</li><li>2020</li><li>2018</li><li>2019</li><li>2020</li><li>2020</li><li>2020</li><li>2020</li><li>2020</li><li>2020</li><li>2020</li><li>2020</li><li>2020</li><li>2020</li><li>2007</li><li>2020</li><li>2017</li><li>2019</li><li>2020</li><li>2018</li><li>2020</li><li>2020</li><li>2020</li><li>2020</li><li>2019</li><li>2020</li><li>2009</li><li>2020</li><li>2020</li><li>2020</li><li>2020</li><li>2019</li><li>2017</li><li>2018</li><li>2017</li><li>2020</li><li>2017</li></ol>\n"
            ],
            "text/markdown": "1. 2020\n2. 2020\n3. 2018\n4. 2016\n5. 2020\n6. 2016\n7. 2017\n8. 2018\n9. 2017\n10. 2018\n11. 2020\n12. 2016\n13. 2020\n14. 2020\n15. 2017\n16. 2015\n17. 2017\n18. 2015\n19. 2020\n20. 2020\n21. 2018\n22. 2020\n23. 2020\n24. 2020\n25. 2017\n26. 2017\n27. 2017\n28. 2017\n29. 2020\n30. 2017\n31. 2020\n32. 2020\n33. 2020\n34. 2017\n35. 2020\n36. 2020\n37. 2020\n38. 2020\n39. 2017\n40. 2020\n41. 2020\n42. 2020\n43. 1996\n44. 2020\n45. 2020\n46. 2020\n47. 2015\n48. 2018\n49. 2020\n50. 2017\n51. 2020\n52. 2017\n53. 2020\n54. 2017\n55. 2020\n56. 2020\n57. 2018\n58. 2018\n59. 2020\n60. 2016\n61. 2020\n62. 2018\n63. 2020\n64. 2019\n65. 2019\n66. 2019\n67. 2020\n68. 2018\n69. 2018\n70. 2020\n71. 2020\n72. 2020\n73. 2012\n74. 2020\n75. 2017\n76. 2017\n77. 2020\n78. 2017\n79. 2020\n80. 2017\n81. 2020\n82. 2017\n83. 2017\n84. 2020\n85. 2019\n86. 2020\n87. 2018\n88. 2020\n89. 2020\n90. 2020\n91. 2018\n92. 2020\n93. 2020\n94. 2020\n95. 2015\n96. 2020\n97. 2019\n98. 2020\n99. 2020\n100. 2020\n101. 2015\n102. 2020\n103. 2020\n104. 2020\n105. 2020\n106. 2020\n107. 2018\n108. 2018\n109. 2020\n110. 2020\n111. 2020\n112. 2019\n113. 2020\n114. 2019\n115. 2016\n116. 2019\n117. 2020\n118. 2019\n119. 2018\n120. 2019\n121. 2018\n122. 2013\n123. 2020\n124. 2020\n125. 2020\n126. 2013\n127. 2020\n128. 2009\n129. 2020\n130. 2013\n131. 2020\n132. 2017\n133. 2017\n134. 2020\n135. 2012\n136. 2017\n137. 2020\n138. 2020\n139. 2020\n140. 2020\n141. 2017\n142. 2020\n143. 2020\n144. 2020\n145. 2015\n146. 2020\n147. 2018\n148. 2017\n149. 2020\n150. 2017\n151. 2020\n152. 2020\n153. 2020\n154. 2020\n155. 2016\n156. 2020\n157. 2020\n158. 2016\n159. 2020\n160. 2016\n161. 2020\n162. 2019\n163. 2020\n164. 2019\n165. 2020\n166. 2019\n167. 2020\n168. 2020\n169. 2020\n170. 2020\n171. 2020\n172. 2020\n173. 2020\n174. 2020\n175. 2020\n176. 2020\n177. 2020\n178. 2019\n179. 2020\n180. 2017\n181. 2020\n182. 2017\n183. 2002\n184. 2020\n185. 2012\n186. 2017\n187. 2020\n188. 2020\n189. 2020\n190. 2020\n191. 2020\n192. 2020\n193. 2020\n194. 2020\n195. 2013\n196. 2020\n197. 2016\n198. 2017\n199. 2020\n200. 2017\n201. ⋯\n202. 2020\n203. 2020\n204. 2020\n205. 2020\n206. 2020\n207. 2020\n208. 1994\n209. 2020\n210. 2012\n211. 2020\n212. 2020\n213. 2020\n214. 2020\n215. 2020\n216. 2020\n217. 2020\n218. 2020\n219. 2020\n220. 2020\n221. 2020\n222. 2020\n223. 2017\n224. 2020\n225. 2017\n226. 2020\n227. 2017\n228. 2020\n229. 2020\n230. 2017\n231. 2005\n232. 2020\n233. 2018\n234. 2020\n235. 2016\n236. 2020\n237. 2020\n238. 2017\n239. 2015\n240. 2017\n241. 2015\n242. 2020\n243. 2020\n244. 2018\n245. 2020\n246. 2020\n247. 2020\n248. 2017\n249. 2017\n250. 2017\n251. 2017\n252. 2017\n253. 2017\n254. 2020\n255. 2020\n256. 2013\n257. 2018\n258. 2020\n259. 2016\n260. 2020\n261. 2012\n262. 2020\n263. 2019\n264. 2020\n265. 2019\n266. 2020\n267. 2011\n268. 2020\n269. 2020\n270. 2020\n271. 2020\n272. 2012\n273. 2020\n274. 2016\n275. 2020\n276. 2020\n277. 2020\n278. 2020\n279. 2017\n280. 2020\n281. 2017\n282. 2019\n283. 2020\n284. 2019\n285. 2020\n286. 2020\n287. 2005\n288. 2020\n289. 2019\n290. 2020\n291. 2020\n292. 2020\n293. 2020\n294. 2010\n295. 2020\n296. 2019\n297. 2020\n298. 2019\n299. 2020\n300. 2016\n301. 2020\n302. 2020\n303. 2020\n304. 2020\n305. 2018\n306. 2017\n307. 2020\n308. 2020\n309. 2020\n310. 2020\n311. 2016\n312. 2020\n313. 2020\n314. 2017\n315. 2020\n316. 2017\n317. 2015\n318. 2020\n319. 2020\n320. 2018\n321. 2020\n322. 2020\n323. 2020\n324. 2017\n325. 2017\n326. 2020\n327. 2017\n328. 2020\n329. 2017\n330. 2020\n331. 2014\n332. 2002\n333. 2020\n334. 2020\n335. 2020\n336. 2020\n337. 2020\n338. 2018\n339. 2020\n340. 2018\n341. 2020\n342. 2020\n343. 2020\n344. &lt;NA&gt;\n345. 2020\n346. 2020\n347. 2020\n348. 2020\n349. 2020\n350. 2018\n351. 2020\n352. 2018\n353. 2020\n354. 2020\n355. 2020\n356. 2019\n357. 2016\n358. 2020\n359. 2016\n360. 2020\n361. 2019\n362. 2020\n363. 2019\n364. 2020\n365. 2019\n366. 2020\n367. 2018\n368. 2019\n369. 2020\n370. 2020\n371. 2020\n372. 2020\n373. 2020\n374. 2020\n375. 2020\n376. 2020\n377. 2020\n378. 2020\n379. 2007\n380. 2020\n381. 2017\n382. 2019\n383. 2020\n384. 2018\n385. 2020\n386. 2020\n387. 2020\n388. 2020\n389. 2019\n390. 2020\n391. 2009\n392. 2020\n393. 2020\n394. 2020\n395. 2020\n396. 2019\n397. 2017\n398. 2018\n399. 2017\n400. 2020\n401. 2017\n\n\n",
            "text/latex": "\\begin{enumerate*}\n\\item 2020\n\\item 2020\n\\item 2018\n\\item 2016\n\\item 2020\n\\item 2016\n\\item 2017\n\\item 2018\n\\item 2017\n\\item 2018\n\\item 2020\n\\item 2016\n\\item 2020\n\\item 2020\n\\item 2017\n\\item 2015\n\\item 2017\n\\item 2015\n\\item 2020\n\\item 2020\n\\item 2018\n\\item 2020\n\\item 2020\n\\item 2020\n\\item 2017\n\\item 2017\n\\item 2017\n\\item 2017\n\\item 2020\n\\item 2017\n\\item 2020\n\\item 2020\n\\item 2020\n\\item 2017\n\\item 2020\n\\item 2020\n\\item 2020\n\\item 2020\n\\item 2017\n\\item 2020\n\\item 2020\n\\item 2020\n\\item 1996\n\\item 2020\n\\item 2020\n\\item 2020\n\\item 2015\n\\item 2018\n\\item 2020\n\\item 2017\n\\item 2020\n\\item 2017\n\\item 2020\n\\item 2017\n\\item 2020\n\\item 2020\n\\item 2018\n\\item 2018\n\\item 2020\n\\item 2016\n\\item 2020\n\\item 2018\n\\item 2020\n\\item 2019\n\\item 2019\n\\item 2019\n\\item 2020\n\\item 2018\n\\item 2018\n\\item 2020\n\\item 2020\n\\item 2020\n\\item 2012\n\\item 2020\n\\item 2017\n\\item 2017\n\\item 2020\n\\item 2017\n\\item 2020\n\\item 2017\n\\item 2020\n\\item 2017\n\\item 2017\n\\item 2020\n\\item 2019\n\\item 2020\n\\item 2018\n\\item 2020\n\\item 2020\n\\item 2020\n\\item 2018\n\\item 2020\n\\item 2020\n\\item 2020\n\\item 2015\n\\item 2020\n\\item 2019\n\\item 2020\n\\item 2020\n\\item 2020\n\\item 2015\n\\item 2020\n\\item 2020\n\\item 2020\n\\item 2020\n\\item 2020\n\\item 2018\n\\item 2018\n\\item 2020\n\\item 2020\n\\item 2020\n\\item 2019\n\\item 2020\n\\item 2019\n\\item 2016\n\\item 2019\n\\item 2020\n\\item 2019\n\\item 2018\n\\item 2019\n\\item 2018\n\\item 2013\n\\item 2020\n\\item 2020\n\\item 2020\n\\item 2013\n\\item 2020\n\\item 2009\n\\item 2020\n\\item 2013\n\\item 2020\n\\item 2017\n\\item 2017\n\\item 2020\n\\item 2012\n\\item 2017\n\\item 2020\n\\item 2020\n\\item 2020\n\\item 2020\n\\item 2017\n\\item 2020\n\\item 2020\n\\item 2020\n\\item 2015\n\\item 2020\n\\item 2018\n\\item 2017\n\\item 2020\n\\item 2017\n\\item 2020\n\\item 2020\n\\item 2020\n\\item 2020\n\\item 2016\n\\item 2020\n\\item 2020\n\\item 2016\n\\item 2020\n\\item 2016\n\\item 2020\n\\item 2019\n\\item 2020\n\\item 2019\n\\item 2020\n\\item 2019\n\\item 2020\n\\item 2020\n\\item 2020\n\\item 2020\n\\item 2020\n\\item 2020\n\\item 2020\n\\item 2020\n\\item 2020\n\\item 2020\n\\item 2020\n\\item 2019\n\\item 2020\n\\item 2017\n\\item 2020\n\\item 2017\n\\item 2002\n\\item 2020\n\\item 2012\n\\item 2017\n\\item 2020\n\\item 2020\n\\item 2020\n\\item 2020\n\\item 2020\n\\item 2020\n\\item 2020\n\\item 2020\n\\item 2013\n\\item 2020\n\\item 2016\n\\item 2017\n\\item 2020\n\\item 2017\n\\item ⋯\n\\item 2020\n\\item 2020\n\\item 2020\n\\item 2020\n\\item 2020\n\\item 2020\n\\item 1994\n\\item 2020\n\\item 2012\n\\item 2020\n\\item 2020\n\\item 2020\n\\item 2020\n\\item 2020\n\\item 2020\n\\item 2020\n\\item 2020\n\\item 2020\n\\item 2020\n\\item 2020\n\\item 2020\n\\item 2017\n\\item 2020\n\\item 2017\n\\item 2020\n\\item 2017\n\\item 2020\n\\item 2020\n\\item 2017\n\\item 2005\n\\item 2020\n\\item 2018\n\\item 2020\n\\item 2016\n\\item 2020\n\\item 2020\n\\item 2017\n\\item 2015\n\\item 2017\n\\item 2015\n\\item 2020\n\\item 2020\n\\item 2018\n\\item 2020\n\\item 2020\n\\item 2020\n\\item 2017\n\\item 2017\n\\item 2017\n\\item 2017\n\\item 2017\n\\item 2017\n\\item 2020\n\\item 2020\n\\item 2013\n\\item 2018\n\\item 2020\n\\item 2016\n\\item 2020\n\\item 2012\n\\item 2020\n\\item 2019\n\\item 2020\n\\item 2019\n\\item 2020\n\\item 2011\n\\item 2020\n\\item 2020\n\\item 2020\n\\item 2020\n\\item 2012\n\\item 2020\n\\item 2016\n\\item 2020\n\\item 2020\n\\item 2020\n\\item 2020\n\\item 2017\n\\item 2020\n\\item 2017\n\\item 2019\n\\item 2020\n\\item 2019\n\\item 2020\n\\item 2020\n\\item 2005\n\\item 2020\n\\item 2019\n\\item 2020\n\\item 2020\n\\item 2020\n\\item 2020\n\\item 2010\n\\item 2020\n\\item 2019\n\\item 2020\n\\item 2019\n\\item 2020\n\\item 2016\n\\item 2020\n\\item 2020\n\\item 2020\n\\item 2020\n\\item 2018\n\\item 2017\n\\item 2020\n\\item 2020\n\\item 2020\n\\item 2020\n\\item 2016\n\\item 2020\n\\item 2020\n\\item 2017\n\\item 2020\n\\item 2017\n\\item 2015\n\\item 2020\n\\item 2020\n\\item 2018\n\\item 2020\n\\item 2020\n\\item 2020\n\\item 2017\n\\item 2017\n\\item 2020\n\\item 2017\n\\item 2020\n\\item 2017\n\\item 2020\n\\item 2014\n\\item 2002\n\\item 2020\n\\item 2020\n\\item 2020\n\\item 2020\n\\item 2020\n\\item 2018\n\\item 2020\n\\item 2018\n\\item 2020\n\\item 2020\n\\item 2020\n\\item <NA>\n\\item 2020\n\\item 2020\n\\item 2020\n\\item 2020\n\\item 2020\n\\item 2018\n\\item 2020\n\\item 2018\n\\item 2020\n\\item 2020\n\\item 2020\n\\item 2019\n\\item 2016\n\\item 2020\n\\item 2016\n\\item 2020\n\\item 2019\n\\item 2020\n\\item 2019\n\\item 2020\n\\item 2019\n\\item 2020\n\\item 2018\n\\item 2019\n\\item 2020\n\\item 2020\n\\item 2020\n\\item 2020\n\\item 2020\n\\item 2020\n\\item 2020\n\\item 2020\n\\item 2020\n\\item 2020\n\\item 2007\n\\item 2020\n\\item 2017\n\\item 2019\n\\item 2020\n\\item 2018\n\\item 2020\n\\item 2020\n\\item 2020\n\\item 2020\n\\item 2019\n\\item 2020\n\\item 2009\n\\item 2020\n\\item 2020\n\\item 2020\n\\item 2020\n\\item 2019\n\\item 2017\n\\item 2018\n\\item 2017\n\\item 2020\n\\item 2017\n\\end{enumerate*}\n",
            "text/plain": [
              "   [1] 2020 2020 2018 2016 2020 2016 2017 2018 2017 2018 2020 2016 2020 2020\n",
              "  [15] 2017 2015 2017 2015 2020 2020 2018 2020 2020 2020 2017 2017 2017 2017\n",
              "  [29] 2020 2017 2020 2020 2020 2017 2020 2020 2020 2020 2017 2020 2020 2020\n",
              "  [43] 1996 2020 2020 2020 2015 2018 2020 2017 2020 2017 2020 2017 2020 2020\n",
              "  [57] 2018 2018 2020 2016 2020 2018 2020 2019 2019 2019 2020 2018 2018 2020\n",
              "  [71] 2020 2020 2012 2020 2017 2017 2020 2017 2020 2017 2020 2017 2017 2020\n",
              "  [85] 2019 2020 2018 2020 2020 2020 2018 2020 2020 2020 2015 2020 2019 2020\n",
              "  [99] 2020 2020 2015 2020 2020 2020 2020 2020 2018 2018 2020 2020 2020 2019\n",
              " [113] 2020 2019 2016 2019 2020 2019 2018 2019 2018 2013 2020 2020 2020 2013\n",
              " [127] 2020 2009 2020 2013 2020 2017 2017 2020 2012 2017 2020 2020 2020 2020\n",
              " [141] 2017 2020 2020 2020 2015 2020 2018 2017 2020 2017 2020 2020 2020 2020\n",
              " [155] 2016 2020 2020 2016 2020 2016 2020 2019 2020 2019 2020 2019 2020 2020\n",
              " [169] 2020 2020 2020 2020 2020 2020 2020 2020 2020 2019 2020 2017 2020 2017\n",
              " [183] 2002 2020 2012 2017 2020 2020 2020 2020 2020 2020 2020 2020 2013 2020\n",
              " [197] 2016 2017 2020 2017 2019 2019 2020 2018 2020 2020 2018 2020 2020 2016\n",
              " [211] 2020 2020 2020 2016 2020 2016 2020 2019 2020 2019 2020 2019 2020 2020\n",
              " [225] 2020 2020 2020 2020 2020 2020 2020 2017 2020 2019 2020 2019 2020 2017\n",
              " [239] 2018 2013 2001 2020 2001 2013 2020 2013 2020 2020 2020 2020 2019 2020\n",
              " [253] 2019 2017 2020 2017 2020 2020 2020 2020 2017 2018 2017 2018 2013 2016\n",
              " [267] 2020 1999 2017 2014 2017 2015 2020 2020 2007 2020 2020 2020 2017 2017\n",
              " [281] 2017 2017 2020 2017 2020 1999 2020 2017 2010 2020 2012 2020 2017 2009\n",
              " [295] 2020 2020 1996 2020 2020 2020 2015 2020 2020 2017 2020 2017 2019 2019\n",
              " [309] 2020 2019 2017 2013   NA 2016 2013 2016 2020 2020 2020 2015 2020 2015\n",
              " [323] 2020 2020 2013 2020 2020 2020 2020 2020 2017 2017 2020 2019 2020 2019\n",
              " [337] 2020 2020 2008 2020 1998 2020 2020 2014 2020 2020 2015 2020 2020 2020\n",
              " [351] 2019 2020 2019 2015 2020 2017 2020 2019 2020 2019 2020 2020 2018 2018\n",
              " [365] 2020 2016 2020 2018 1974 2019 2018 2019 2020 2018 2018 2020 2020 2020\n",
              " [379] 2018 2020 2020 2020 2018 2020 2020 2017 2020 2017 2018 2020 2001 2020\n",
              " [393] 2020 2020 2020 2019 2018 2020 2020 2020 2018 2020 2018 2020 2017 2020\n",
              " [407] 2018 2020 2018 2020 2011 2020 2020 2020 2018 2018 2018 2016 2020 2019\n",
              " [421] 2020 2019 2020 2019 2020 2019 2018 2020 2020 2020 2020 2020 2020 2013\n",
              " [435] 2020 2017 2020 2013 2020 2017 2017 2020 2002 2017 2020 2020 2020 2020\n",
              " [449] 2020 2020 2020 2020 2020 2020 2018 2017 2020 2017 2020 2020 2020 2018\n",
              " [463] 2017 2005 2017 2018 2020 2016 2020 2020 2017 2014 2017 2015 2020 2020\n",
              " [477] 2018 2020 2020 2020 2017 2017 2017 2017 2020 2017 2020 2017 2020 2017\n",
              " [491] 2010 2020 2020 2020 2020 2020 2020 2020 1996 2012 2020 2020 2020 2018\n",
              " [505] 2017 2003 2020 2003 2013 2003 2020 2003 2017 2003 2017 2003 2020 2003\n",
              " [519] 2018 2020 2020 2003 2017 2003 2017 2017 2020 2017 2020 2012 2020 2012\n",
              " [533] 2010 2020 2017 2020 2017 2020 2020 2012 2020 2012 2020 2019 2015 2020\n",
              " [547] 2015 2019 2017 2017 2020 2017 2017 2005 2017 2018 2013 2016 2020 2020\n",
              " [561] 2017 2015 2017 2015 2020 2020 2018 2020 2020 2020 2017 2017 2017 2017\n",
              " [575] 2017 2017 2020 2018 2020 2018 2020 2016 2018 2019 2020 2015 2020 2015\n",
              " [589] 2020 2020 2018 2020 2020 2020 2020 2020 2020 2017 2018 2019 2020 2018\n",
              " [603] 2020 2017 2010 2020 2012 2020 2020 2020 2020 2020 2018 2020 2020 2020\n",
              " [617] 2015 2020 2020 2017 2020 2017 2017 2019 2020 2020 2016 2016 2020 2016\n",
              " [631] 2020 2019 2020 2019 2020 2019 2020 2020 2018 2020 2020 2020 2020 2020\n",
              " [645] 2020 2017 2020 2020 2020 2017 2020 2017 2018 2020 2001 2020 2001 2020\n",
              " [659] 2019 2020 2019 2020 2020 2020 2017 2020 2020 2017 2020 2017 2020 2020\n",
              " [673] 2020 2020 2020 2020 2020 2020 2018 2020 2018 2018 2020 2020 2020 2019\n",
              " [687] 2020 2019 2016 2019 2020 2019 2018 2019 2018 2013 2020 2013 2020 2017\n",
              " [701] 2020 2009 2020 2013 2020 2017 2017 2020 2012 2017 2020 2020 2020 2020\n",
              " [715] 2020 2020 2020 2020 2015 2020 2018 2017 2020 2017 2020 2020 2020 2018\n",
              " [729] 2018 2018 2014 2020 2019 2018 2020 2016 2020 2013 2020 2013 2020 2019\n",
              " [743] 2020 2009 2018 2020 2020 2020 2019 2020 2017 2020 2018 2019 2020 2018\n",
              " [757] 2020 2017 2015 2020 2018 2020 2018 2020 2020 2020 2015 2020 2020 2020\n",
              " [771] 2020 2020 2019 2020 2020 2020 2019 2020 2020 2020 2017 2016 2020 2020\n",
              " [785] 2020 2016 2020 2020 2020 2014 2017 2015 2020 2020 2013 2020 2020 2020\n",
              " [799] 2017 2020 2017 2017 2020 2019 2020 2019 2020 2017 2017 2020 1998 2017\n",
              " [813] 2017 2020 2020 2020 1996 2020 2020 2020 2019 2019 2019 2015 2012 2017\n",
              " [827] 2019 2019 2020 2019 2017 2020 2017 2018 2013 2016 2020 2020 2017 2014\n",
              " [841] 2017 2015 2020 2020 2017 2020 2020 2020 2017 2020 2017 2020 2020 2020\n",
              " [855] 2020 2012 2020 2017 2010 2020 1998 2020 2017 2014 2020 2012 1996 2012\n",
              " [869] 2020 2019 2015 2018 2020 2017 2012 2017 2019 2019 2019 2019 2018 2016\n",
              " [883] 2019 2016 2020 2016 2020 2019   NA 2019 2017 2019 2020 2020 2018 2020\n",
              " [897] 2020 2017 1994 2017 1994 2017 2020 2017 2020   NA 2020   NA 2019 2020\n",
              " [911] 2020 2020 2011 2020 2017 2020 2020 2020 2020 2020 2018 2020 2019 2017\n",
              " [925] 2020 2017 2020 2017 2020 2018 2020 2020 2020 2018 2020 2016 2020 2019\n",
              " [939] 2020 2019 2018 2019 2020 2020 2018 2020 2018 2017 2020 2017 2020 2017\n",
              " [953] 2020 2017 2020 2013 2018 2017 2018 2020 2018 2020 2020 2020 2020 2020\n",
              " [967] 2020 2020 2020 2020 2019 2020 2020 2017 2020 2017 2018 2019 2020 2019\n",
              " [981] 2020 2018 2020 2020 2018 2016 2020 2016 2020 2019 2020 2019 2020 2019\n",
              " [995] 2020 2020 2020 2020 2020 2020 2020 2020 2020 2009 2020 2009 2018 2020\n",
              "[1009] 2019 2016 2020 2016 2020 2009 2020 2009 2020 2009 2020 2009 2018 2020\n",
              "[1023] 2020 2020 2019 2020 2020 2020 2020 2020 2020 2018 2020 2017 2018 2020\n",
              "[1037] 2018 2020 2018 2020 2020 2020 2020 2020 2020 2020 2013 2020 2019 2020\n",
              "[1051] 2020 2017 2018 2017 2020 2014 2020 2020 2000 2016 2020 2016 2017 2019\n",
              "[1065] 2020 2019 2020 2019 2020 2018 2020 2020 2020 1998 2020 1998 2020 1998\n",
              "[1079] 2020 2019 2020 2013 2020 2017 2016 2017 2002 2017 2017 2020 2020 2020\n",
              "[1093] 2017 2020 2020 2020 2020 2020 2019 2017 2020 2017 2019 2018 2020 2018\n",
              "[1107] 2020 2018 2005 2020 2018 2018 2007 2013 2020 2013 2020 2019 1994 2019\n",
              "[1121] 2020 2018 2020 2020 2020 2020 2018 2020 2020 2020 2018 2017 2020 2020\n",
              "[1135] 2020 2017 2019 2020 2017 2020 2020 2020 2020 2019 2020 2019 2020 2019\n",
              "[1149] 1996 2020 2019 2020 2011 2020 2019 2020 2020 2020 2020 2018 2020 2018\n",
              "[1163] 2020 2018 2020 2016 2020 2015 2020 2015 2018 2015 2020 2020 2018 2020\n",
              "[1177] 2020 2020 2020 2020 2020 2017 2018 2019 2020 2019 2020 2017 2015 2020\n",
              "[1191] 2020 2020 2020 2020 2018 2020 2018 2020 2017 2020 2017 2018 2013 2016\n",
              "[1205] 2020 2020 2020 2020 2017 2015 2020 2020 2017 2020 2020 2020 2017 2020\n",
              "[1219] 2017 2017 2017 1999 2020 2020 2018 2020 2020 2020 2020 2020 2018 2020\n",
              "[1233] 2018 2020 2020 2020 2020 2020 2020 2020 2011 2020 2018 2020 2018 2020\n",
              "[1247] 2017 2020 2020 2020 2016 2020 2016 2020 1987 2020 2020 2020 2018 2020\n",
              "[1261] 2020 2020 2020 2020 2017 2020 2017 2016 2013 2016 2020 2020 2020 2014\n",
              "[1275] 2017 2015 2020 2020 2018 2020 2020 2020 2017 2020 2017 2017 2017 2017\n",
              "[1289] 2020 2020 2020 2016 2020 2016 2020 2019 2020 2019 2020 2019 2020 2009\n",
              "[1303] 2018 2020 2020 2020 2020 2020 2020 2017 2020 2017 2020 2020 2020 2016\n",
              "[1317] 2020 2016 2020 2019 2020 2019 2020 2019 2020 2020 2020 2020 2020 2020\n",
              "[1331] 2020 2020 2020 2017 2020 2017 2020 2020 2020 2017 2020 2020 2001 2020\n",
              "[1345] 2001 2020 2020 2020 2020 2020 2020 2020 2020 2020 2020 2017 2020 2017\n",
              "[1359] 2020 2017 2020 2020 2020 2020 2020 2020 2019 2020 2020 2020 2014 2020\n",
              "[1373] 2020 2020 2020 2016 2020 2020 2020 2020 2020 2019 2020 2020 2018 2020\n",
              "[1387] 2020 2017 2019 2017 2020 2017 2020 2017 2020 2017 2020 2017 2020 2020\n",
              "[1401] 2020 2020 2020 2017 2020 2020 2020 2020 2020 2020 2020 2020 2020 2017\n",
              "[1415] 2020 2017 2020 2017 2005 2020 2007 2018 2007 2013 2020 2018 2020 2019\n",
              "[1429] 2005 2019 2020 2018 2020 2020 2020 2020 2018 2020 2020 2020 2018 2017\n",
              "[1443] 2020 2020 2020 2017 2019 2020 2017 2020 2020 2020 2020 2020 2020 2020\n",
              "[1457] 2020 2019 2020 2020 2020 2020 2011 2020 2020 2020 2014 2020 2019 2016\n",
              "[1471] 2020 2016 2020 2018 2020 2019 2018 2019 2020 2018 2020 2020 2020 2020\n",
              "[1485] 2020 2020 2020 2020 2020 2020 2020 2020 2020 2016 2020 2016 2020 2015\n",
              "[1499] 2020 2015 2020 2015 2020 2020 2018 2020 2020 2015 2020 2015 2020 2015\n",
              "[1513] 2020 2015 2020 2020 2020 2013 2014 2020 2020 2020 2020 2020 2020 2020\n",
              "[1527] 2009 2020 2020 2020 2018 2020 2019 2017 2020 2017 2020 2020 2011 2019\n",
              "[1541] 2016 2020 2020 2016 2018 2016 2020 2015 2020 2015 2017 2015 2020 2020\n",
              "[1555] 2018 2020 2020 2017 2020 2017 2020 2017 2020 2019 2020 2020 2020 2017\n",
              "[1569] 2018 2017 2002 2017 2020 2020 2020 2020 2017 2020 2020 2020 2019 2020\n",
              "[1583] 2018 2017 2020 2017 2020 2020 2020 2020 2020 2018 2020 2016 2018 2016\n",
              "[1597] 2020 2016 2009 2019   NA 2019 2018 2019 2020 2019 2018 2020 2018 2019\n",
              "[1611] 2020 2019 2019 2019 2019 2019 2019 2019 2020 2019 2020 2019 2020 2019\n",
              "[1625] 2018 2019 2018 2019 2012 2019 2020 2019 2019 2019 2018 2019 2020 2020\n",
              "[1639] 2011 2020 2011 2019 2017 2019 2011 2019 2015 2019 2020 2017 2020 2017\n",
              "[1653] 2020 2017 2020 2017 2019 2020 2019 2020 2020 2020 2020 2020 2020 2020\n",
              "[1667] 2012 2020 2019 2020 2016 2020 2016 2020 2020 2020 2020 2020 2020 2020\n",
              "[1681] 2020 2020 2020 2020 2020 2020 2020 2020 2019 2020 2019 2020 2004 2020\n",
              "[1695] 2020 2020 2018 2016 2018 2016 2019 2016 2020 2019   NA 2019 2017 2015\n",
              "[1709] 2020 2018 2018 2020 2020 2016 1994 2017 1994 2017 2020 2020 2018 2016\n",
              "[1723] 2018 2016 2020 2016 2020 2016 2020 2016 2020 2016 2020 2020 2018 2016\n",
              "[1737] 2020 2016 2020 2019 2020 2019 2020 2019 2020 2020 2018 2020 2020 2020\n",
              "[1751] 2020 2020 2020 2017 2020 2017 2020 2020 2018 2016 2020 2016 2020 2019\n",
              "[1765] 2020 2019 2020 2019 2020 2020 2018 2020 2020 2020 2020 2020 2020 2009\n",
              "[1779] 2020 2009 2020 2016 2020 2016 2020 2016 2020 2020 2020 2015 2020 2015\n",
              "[1793] 2020 2020 2020 2020 2020 2016 2012 2020 2020 2017 2020 2019 2017 2018\n",
              "[1807] 2017 2018 2013 2016 2020 2020 2017 2020 2017 2019 2020 2020 2017 2020\n",
              "[1821] 2020 2020 2017 2020 2017 2017 2020 2017 2020 2020 2020 2017 2010 2020\n",
              "[1835] 2019 2020 2010 2017 2020 2020 1996 2018 2020 2018 2015 2018 2020 2017\n",
              "[1849] 2015 2017 2019 2017 2018 2020 2013 2020 2020 2020 2020 2020 2018 2020\n",
              "[1863] 2018 2020 2020 2020 2020 2020 2020 2020 2018 2020 2020 2020 2018 2020\n",
              "[1877] 2017 2020 2020 2020 2020 2020 2016 2020 2018 2020 2019 2020 2019 2020\n",
              "[1891] 2020 2020 2020 2020 2020 2014 2018 2014 2020 2016 2020 2020 2018 2018\n",
              "[1905] 2018 2016 2020 2019 2020 2019 2020 2019 2020 2019 2018 2020 2020 2020\n",
              "[1919] 2020 2020 2020 2013 2020 2017 2020 2013 2020 2017 2017 2020 2002 2017\n",
              "[1933] 2020 2020 2020 2020 2020 2020 2020 2020 2020 2020 2018 2017 2020 2017\n",
              "[1947] 2020 2020 2020 2018 2018 2016 2020 2016 2020 2016 2020 2015 2020 2015\n",
              "[1961] 2017 2015 2020 2018 2018 2020 2020 2016 1994 2017 1994 2017 2020 2020\n",
              "[1975] 2017 2020 2017 2020 2013 2016 2019 1999 2020 2014 2017 2015 2020 2020\n",
              "[1989] 2018 2020 2020 2020 2017 2017 2009 2017 2017 2017 2018 2020 2017 2018\n",
              "[2003] 2020 2016 2020 2019 2020 2019 2019 2019 2018 2018 2018 2020 2008 2020\n",
              "[2017] 2017 2020 2020 2017 2013 2017 2020 2016 2020 2017 2017 2020 2018 2020\n",
              "[2031] 2018 2020 2020 2020 2020 2020 2020 2020 2015 2020 2019 2020 2020 2020\n",
              "[2045] 2020 2020 2014 2020 2019 2018 2020 2016 2020 2013 2020 2013 2020 2019\n",
              "[2059] 2020 2009 2018 2020 2020 2020 2019 2020 2017 2020 2018 2019 2020 2018\n",
              "[2073] 2020 2017 2015 2020 2018 2020 2018 2020 2020 2020 2015 2020 2020 2020\n",
              "[2087] 2020 2020 2019 2020 2020 2020 2019 2020 2020 2020 2020 2020 2018 2016\n",
              "[2101] 2020 2016 2020 2016 2020 2016 2020 2016 2020 2010 2019 2019 2020 2019\n",
              "[2115] 2020 2020 2018 2020 2020 2020 2020 2020 2017 2017 2020 2020 2020 2020\n",
              "[2129] 2020 2020 2017 2020 2016 2020 2019 2020 2017 2020 2019 2020 2020 2020\n",
              "[2143] 2019 2020 2019 2017 2020 2017 2020 2020 2019 2019 2020 2020 2018 2018\n",
              "[2157] 2020 2016 2020 2018 2020 2019 2019 2019 2020 2018 2018 2020 2020 2020\n",
              "[2171] 2012 2020 2017 2017 2020 2017 2020 2017 2020 2017 2017 2020 2019 2020\n",
              "[2185] 2018 2020 2020 2020 2018 2020 2020 2020 2015 2020 2019 2020 2020 2020\n",
              "[2199] 2015 2020 2020 2020 2020 2020 2018 2016 2020 2016 2020 2019 2020 2019\n",
              "[2213] 2020 2019 2020 2020 2018 2020 2020 2020 2020 2020 2020 2017 2020 2017\n",
              "[2227] 2020 2020 2020 2016 2020 2016 2020 2019 2020 2019 2020 2019 2020 2020\n",
              "[2241] 2018 2020 2020 2020 2020 2020 2020 2017 2020 2017 2020 2017 2020 2017\n",
              "[2255] 2018 2020 2016 2020 2001 2020 2020 2020 2020 2020 2020 2020 2020 2020\n",
              "[2269] 2020 2017 2020 2017 2020 2019 2020 2019 2020 2020 2020 2020 2018 2016\n",
              "[2283] 2020 2016 2020 2019 2020 2019 2020 2019 2020 2009 2018 2020 2020 2020\n",
              "[2297] 2020 2020 2020 2017 2020 2017 2020 2020 2016 2016 2020 2016 2020 2019\n",
              "[2311] 2020 2019 2020 2019 2020 2020 2018 2020 2020 2020 2020 2020 2020 2017\n",
              "[2325] 2020 2020 2020 2017 2020 2017 2018 2020 2001 2020 2001 2020 2019 2020\n",
              "[2339] 2019 2020 2020 2020 2017 2020 2020 2017 2020 2017 2020 2020 2020 2020\n",
              "[2353] 2020 2020 2020 2020 2020 2014 2002 2020 2020 2020 2020 2020 2018 2020\n",
              "[2367] 2018 2020 2020 2020 1900 2020 2020 2020 2020 2020 2018 2020 2018 2020\n",
              "[2381] 2016 2020 2020 2016 2020 2016 2020 2019 2020 2019 2020 2019 2020 2020\n",
              "[2395] 2020 2020 2020 2020 2020 2020 2020 2020 2020 2019 2020 2017 2020 2017\n",
              "[2409] 2002 2020 2012 2017 2020 2020 2020 2020 2020 2020 2020 2020 2013 2020\n",
              "[2423] 2016 2017 2020 2017 2019 2019 2020 2018 2017 2020 2020 2020 2020 2016\n",
              "[2437] 2020 2020 2020 2014 2017 2015 2020 2020 2018 2020 2020 2020 2017 2017\n",
              "[2451] 2017 2017 2009 2017 2014 2020 2020 2016 2020 2016 2020 2019 2020 2019\n",
              "[2465] 2018 2019 2020 2020 2020 2020 2020 2020 2020 2020 2020 2020 2020 2020\n",
              "[2479] 2020 2020 2020 2020 1994 2020 2012 2020 2020 2020 2020 2020 2020 2020\n",
              "[2493] 2020 2020 2020 2020 2020 2017 2020 2017 2020 2017 2020 2020 2020 2016\n",
              "[2507] 2020 2016 2020 2016 2020 2020 2020 2015 2020 2015 2020 2020 2020 2020\n",
              "[2521] 2020 2016 2012 2020 2020 2017 2020 2019 2020 2016 2020 2016 2020 2016\n",
              "[2535] 2020 2016 2020 2019 1900 2019 1900 2020 2019 2020 2020 2020 2019 2020\n",
              "[2549] 2019 2020 2019 2020 2020 2020 2020 2020 2019 2020 2020 2020 2020 2016\n",
              "[2563] 2020 2016 2020 2019 2020 2019 2020 2019 2020 2020 2020 2020 2020 2020\n",
              "[2577] 2020 2020 2020 2020 2020 2020 2020 2020 2020 2020 2020 2020 2020 2020\n",
              "[2591] 2020 2020 2020 2020 2020 2020 2020 2020 2019 2020 2020 2017 2020 2017\n",
              "[2605] 2020 2017 2020 2020 2020 2020 2018 2020 2020 2016 2020 2020 2020 2016\n",
              "[2619] 2020 2016 2020 2019 2020 2019 2020 2019 2020 2009 2018 2020 2020 2020\n",
              "[2633] 2020 2020 2020 2017 2020 2017 2005 2020 2007 2018 2007 2013 2020 2018\n",
              "[2647] 2020 2019 2005 2019 2020 2018 2020 2020 2020 2020 2018 2020 2020 2020\n",
              "[2661] 2018 2017 2020 2020 2020 2017 2019 2020 2017 2020 2020 2020 2020 2020\n",
              "[2675] 2020 2020 2020 2019 2020 2020 2020 2020 2011 2020 2020 2020 2017 2013\n",
              "[2689] 1900 2016 2013 2016 2020 2020 2020 2015 2020 2015 2020 2020 2013 2020\n",
              "[2703] 2020 2020 2020 2020 2017 2017 2020 2019 2020 2019 2020 2020 2008 2020\n",
              "[2717] 1998 2020 2020 2014 2020 2020 2015 2020 2020 2020 2019 2020 2019 2015\n",
              "[2731] 2020 2017 2020 2019 2020 2019 2016 2020 2020 2016 2018 2016 2020 2015\n",
              "[2745] 2020 2015 2017 2015 2020 2020 2018 2020 2020 2017 2020 2017 2020 2017\n",
              "[2759] 2020 2019 2020 2020 2020 2017 2018 2017 2002 2017 2020 2020 2020 2020\n",
              "[2773] 2017 2020 2020 2020 2019 2020 2018 2017 2020 2017 2020 2020 2020 2020\n",
              "[2787] 2020 2018 2018 2014 2020 2014 2020 2016 2020 2014 2020 2015 2020 2015\n",
              "[2801] 2020 2020 2018 2020 2020 2014 1994 2020 1994 2017 2020 2014 2020 2020\n",
              "[2815] 2013 2018 2020 2016 2020 2012 2020 2019 2020 2019 2020 2011 2020 2020\n",
              "[2829] 2020 2020 2012 2020 2016 2020 2020 2020 2020 2017 2020 2017 2019 2020\n",
              "[2843] 2019 2020 2020 2005 2020 2019 2020 2020 2020 2020 2010 2020 2019 2020\n",
              "[2857] 2019 2020 2016 2020 2020 2020 2020 2018 2017 2020 2017 2016 2013 2016\n",
              "[2871] 2020 2020 2020 2014 2017 2015 2020 2020 2018 2020 2020 2020 2017 2020\n",
              "[2885] 2017 2017 2017 2017 2017 2020 2020 2020 2020 2016 2020 2020 2017 2020\n",
              "[2899] 2017 2015 2020 2020 2018 2020 2020 2020 2017 2017 2020 2017 2020 2017\n",
              "[2913] 2017 2018 2017 2018 2013 2016 2020 1999 2017 2014 2017 2015 2020 2020\n",
              "[2927] 2007 2020 2020 2020 2017 2017 2017 2017 2020 2017 2020 1999 2020 2017\n",
              "[2941] 2010 2020 2012 2020 2017 2009 2020 2020 1996 2020 2020 2020 2015 2020\n",
              "[2955] 2020 2017 2020 2017 2019 2019 2020 2019 2018 2016 2019 2016 2020 2016\n",
              "[2969] 2020 2019 1900 2019 2017 2019 2020 2020 2018 2020 2020 2017 1994 2017\n",
              "[2983] 1994 2017 2020 2017 2020 1900 2020 1900 2019 2020 2020 2020 2011 2020\n",
              "[2997] 2017 2020 2020 2020 2020 2020 2018 2020 2019 2017 2020 2017 2020 2017\n",
              "[3011] 2020 2018 2020 2020 2020 2016 2020 2016 2020 2015 2020 2015 2020 2015\n",
              "[3025] 2020 2020 2018 2020 2020 2015 2020 2015 2020 2015 2020 2015 2020 2020\n",
              "[3039] 2020 2013 2014 2020 2020 2020 2020 2020 2020 2020 2009 2020 2020 2020\n",
              "[3053] 2018 2020 2019 2017 2020 2017 2020 2020 2011 2019 2018 2020 2018 2018\n",
              "[3067] 2020 2020 2020 2019 2020 2019 2016 2019 2020 2019 2018 2019 2018 2013\n",
              "[3081] 2020 2013 2020 2017 2020 2009 2020 2013 2020 2017 2017 2020 2012 2017\n",
              "[3095] 2020 2020 2020 2020 2020 2020 2020 2020 2015 2020 2018 2017 2020 2017\n",
              "[3109] 2020 2020 2020 2018 2018 2018 2009 2019 1900 2019 2018 2019 2020 2019\n",
              "[3123] 2018 2020 2018 2019 2020 2019 2019 2019 2019 2019 2019 2019 2020 2019\n",
              "[3137] 2020 2019 2020 2019 2018 2019 2018 2019 2012 2019 2020 2019 2019 2019\n",
              "[3151] 2018 2019 2020 2020 2011 2020 2011 2019 2017 2019 2011 2019 2015 2019\n",
              "[3165] 2020 2020 2018 2018 2020 2016 2020 2018 1974 2019 2018 2019 2020 2018\n",
              "[3179] 2018 2020 2020 2020 2018 2020 2020 2020 2018 2020 2020 2017 2020 2017\n",
              "[3193] 2018 2020 2001 2020 2020 2020 2020 2019 2018 2020 2020 2020 2018 2020\n",
              "[3207] 2018 2020 2017 2020 2018 2020 2018 2020 2011 2020 2017 2018 2017 2018\n",
              "[3221] 2013 2016 2020 2020 2017 2020 2017 2019 2020 2020 2017 2020 2020 2020\n",
              "[3235] 2017 2020 2017 2017 2020 2017 2020 2020 2020 2017 2010 2020 2019 2020\n",
              "[3249] 2010 2017 2020 2020 1996 2018 2020 2018 2015 2018 2020 2017 2015 2017\n",
              "[3263] 2019 2017 2020 2020 2018 2020 2017 2016 2020 2020 2018 2020 2018 2020\n",
              "[3277] 2014 2020 2020 2020 2020 2020 2011 2020 2016 2020 2018 2020 2017 2020\n",
              "[3291] 2020 2020 2012 2020 2016 2020 1987 2020 2018 2020 2019 2020 2020 2020\n",
              "[3305] 2015 2020 2020 2020 2014 2017 2015 2020 2017 2018 2020 2018 2013 2016\n",
              "[3319] 2020 2020 2017 2020 2017 2016 2020 2016 2018 2020 2020 2020 2017 2017\n",
              "[3333] 2017 2017 2009 2017 2020 2020 2020 2016 2020 2016 2020 2019 2020 2019\n",
              "[3347] 2020 2019 2020 2020 2020 2020 2020 2020 2020 2020 2020 2017 2020 2019\n",
              "[3361] 2020 2019 2020 2017 2018 2013 2001 2020 2001 2013 2020 2013 2020 2020\n",
              "[3375] 2020 2020 2019 2020 2019 2017 2020 2017 2020 2020 2020 2020 2019 2020\n",
              "[3389] 2016 2020 2019 2016 2020 2020 2018 2020 1900 2020 2020 2020 2020 2020\n",
              "[3403] 2018 2020 2020 2020 2016 2020 2019 2020 2017 2020 2020 2020 2002 2020\n",
              "[3417] 2016 2020 1987 2020 2018 2020 2019 2020 2020 2020 2020 2020 2017 2018\n",
              "[3431] 2017 2018 2013 2016 2020 2020 2017 2014 2017 2015 2020 2020 2017 2020\n",
              "[3445] 2020 2020 2017 2017 2017 2017 2009 2017 2020 2016 2020 2016 2020 2016\n",
              "[3459] 2020 2017 2020 2017 2020 2017 2020 2017 2019 2020 2019 2020 2020 2020\n",
              "[3473] 2020 2020 2020 2020 2012 2020 2019 2020 2016 2020 2016 2020 2020 2020\n",
              "[3487] 2020 2020 2020 2020 2020 2020 2020 2020 2020 2020 2020 2020 2019 2020\n",
              "[3501] 2019 2020 2004 2020 2020 2020 2018 2020 2013 2020 2020 2020 2020 2020\n",
              "[3515] 2018 2020 2018 2020 2020 2020 2020 2020 2020 2020 2018 2020 2020 2020\n",
              "[3529] 2018 2020 2017 2020 2020 2020 2020 2020 2016 2020 2018 2020 2019 2020\n",
              "[3543] 2019 2020 2020 2020 2020 2020 2020 2016 2018 2016 2020 2016 2020 2020\n",
              "[3557] 1900 2016 1900 2016 2020 2019 2020 2019 2020 2019 2020 2020 2020 2020\n",
              "[3571] 2020 2020 2018 2020 2020 2017 2019 2020 2019 2020 2020 2017 2020 2020\n",
              "[3585] 2002 2017 2001 2020 2020 2020 2020 2020 2020 2020 2018 2020 2018 2017\n",
              "[3599] 2020 2017 2020 2019 2020 2019 2020 2019 2017 2020 2017 2018 2013 2016\n",
              "[3613] 2020 2020 2017 2014 2017 2015 2020 2020 2017 2020 2020 2020 2017 2020\n",
              "[3627] 2017 2020 2020 2020 2020 2012 2020 2017 2010 2020 1998 2020 2017 2014\n",
              "[3641] 2020 2012 1996 2012 2020 2019 2015 2018 2020 2017 2012 2017 2019 2019\n",
              "[3655] 2019 2019 2012 2020 2020 2020 2020 2020 2020 2020 2018 2020 2018 2020\n",
              "[3669] 2020 2020 2020 2020 2020 2020 2020 2020 2020 2020 2018 2020 2017 2020\n",
              "[3683] 2020 2020 2018 2020 2016 2020 2018 2020 2020 2020 2020 2020 2020 2020\n",
              "[3697] 2020 2020 2020 2020 2004 2020 2004 2020 2017 2005 2017 2018 2020 2016\n",
              "[3711] 2020 2020 2017 2014 2017 2015 2020 2020 2018 2020 2020 2020 2017 2017\n",
              "[3725] 2017 2017 2020 2017 2020 2017 2020 2017 2010 2020 2020 2020 2020 2020\n",
              "[3739] 2020 2020 1996 2012 2020 2020 2020 2018 2020 2020 1900 2016 2020 2016\n",
              "[3753] 2020 2020 2018 2019 2018 2019 2020 2020 2018 2020 2020 2020 2020 2020\n",
              "[3767] 2020 2020 2020 2017 2020 2020 2020 2017 2010 2020 2017 2020 2020 2020\n",
              "[3781] 2020 2020 2020 2020 2020 2020 2020 2020 2019 2017 2019 2017 2020 2020\n",
              "[3795] 2020 2020 2017 2020 2017 2018 2013 2016 2020 2020 2020 2020 2017 2015\n",
              "[3809] 2020 2020 2017 2020 2020 2020 2017 2020 2017 2017 2017 1999 2017 2016\n",
              "[3823] 2020 2020 2020 2016 2020 2020 2020 2014 2017 2015 2020 2020 2013 2020\n",
              "[3837] 2020 2020 2017 2020 2017 2017 2020 2019 2020 2019 2020 2017 2017 2020\n",
              "[3851] 1998 2017 2017 2020 2020 2020 1996 2020 2020 2020 2019 2019 2019 2015\n",
              "[3865] 2012 2017 2019 2019 2020 2019 2016 2019 2018 2016 2018 2016 2020 2019\n",
              "[3879] 2020 2019 2014 2015 2020 2020 2020 2020 2020 2020 2005 2020 2020 2017\n",
              "[3893] 2018 2017 2020 2017 2016 2017 2017 2020 2019 2020 2019 2020 2020 2020\n",
              "[3907] 2020 2020 2020 2020 2018 2020 2016 2017 2015 2017 2019 2017 2019 2020\n",
              "[3921] 2019 2020 2020 2020 2020 2016 2020 2016 2020 2019 2020 2019 2020 2019\n",
              "[3935] 2020 2020 2020 2020 2020 2020 2020 2020 2020 2017 2020 2017 2020 2020\n",
              "[3949] 2020 2017 2020 2020 2001 2020 2001 2020 2020 2020 2020 2020 2020 2020\n",
              "[3963] 2020 2020 2020 2017 2020 2017 2020 2017 2020 2020 2020 2020 2017 2005\n",
              "[3977] 2020 2018 2020 2016 2020 2020 2017 2015 2017 2015 2020 2020 2018 2020\n",
              "[3991] 2020 2020 2017 2017 2017 2017 2017 2017 2020 2020 2019 2016 2020 2016\n",
              "[4005] 2020 2019 2020 2019 2020 2019 2020 2018 2019 2020 2020 2020 2020 2020\n",
              "[4019] 2020 2020 2020 2020 2020 2007 2020 2017 2019 2020 2018 2020 2020 2020\n",
              "[4033] 2020 2019 2020 2009 2020 2020 2020 2020 2019 2017 2018 2017 2020 2017\n",
              "[4047] 2020 2020 2000 2016 2020 2016 2017 2019 2020 2019 2020 2019 2020 2018\n",
              "[4061] 2020 2020 2020 1998 2020 1998 2020 1998 2020 2019 2020 2013 2020 2017\n",
              "[4075] 2016 2017 2002 2017 2017 2020 2020 2020 2017 2020 2020 2020 2020 2020\n",
              "[4089] 2019 2017 2020 2017 2019 2018 2020 2018 2020 2018 2005 2020 2018 2018\n",
              "[4103] 2007 2013 2020 2013 2020 2019 1994 2019 2020 2018 2020 2020 2020 2020\n",
              "[4117] 2018 2020 2020 2020 2018 2017 2020 2020 2020 2017 2019 2020 2017 2020\n",
              "[4131] 2020 2020 2020 2019 2020 2019 2020 2019 1996 2020 2019 2020 2011 2020\n",
              "[4145] 2019 2020 2020 2020 2020 2018 2020 2018 2020 2018 2020 2016 2018 2019\n",
              "[4159] 2020 2015 2020 2015 2020 2020 2018 2020 2020 2020 2020 2020 2020 2017\n",
              "[4173] 2018 2019 2020 2018 2020 2017 2010 2020 2012 2020 2020 2020 2020 2020\n",
              "[4187] 2018 2020 2020 2020 2015 2020 2020 2017 2020 2017 2017 2019 2014 2020\n",
              "[4201] 2018 2016 2020 2016 2020 2018 2020 2019 2020 2019 2020 2009 2018 2020\n",
              "[4215] 2020 2020 2019 2020 2020 2020 2020 2020 2020 2013 2020 2013 2018 2020\n",
              "[4229] 2018 2020 2018 2020 2020 2020 2020 2020 2020 2020 2013 2020 2019 2020\n",
              "[4243] 2020 2020 2020 2020 2020 2020 2014 2020 2020 2020 2020 2016 2020 2020\n",
              "[4257] 2020 2020 2020 2019 2020 2020 2018 2020 2020 2017 2019 2017 2020 2017\n",
              "[4271] 2020 2017 2020 2017 2020 2017 2020 2020 2020 2020 2020 2017 2020 2020\n",
              "[4285] 2020 2020 2020 2020 2020 2020 2020 2017 2020 2017 2020 2017 2020 2020\n",
              "[4299] 2019 2020 2020 2020 2020 2020 2018 2020 2020 2020 2020 2020 2018 2020\n",
              "[4313] 2018 2020 2020 2020 2020 2020 2020 2020 2011 2020 2018 2020 2018 2020\n",
              "[4327] 2017 2020 2020 2020 2016 2020 2016 2020 1987 2020 2020 2020 2018 2020\n",
              "[4341] 2020 2020 2020 2020 2020 2020 2018 2016 2020 2016 2020 2019 2020 2019\n",
              "[4355] 2020 2019 2020 2020 2020 2020 2020 2020 2020 2020 2020 2009 2020 2009\n",
              "[4369] 2016 2020 2016 2020 2020 2020 2019 2020 2018 2020 2018 2020 2019 2020\n",
              "[4383] 2019 2020 2020 2020 2018 2020 1900 2020 2020 2020 2020 2020 2020 2020\n",
              "[4397] 2016 2020 2019 2020 2019 2020 2019 2020 2019 2020 2020 2020 2020 2020\n",
              "[4411] 2018 2020 2019 2016 2020 2016 2020 2009 2020 2009 2020 2009 2020 2009\n",
              "[4425] 2018 2020 2020 2020 2019 2020 2020 2020 2020 2020 2020 2018 2020 2017\n",
              "[4439] 2018 2020 2018 2020 2018 2020 2020 2020 2020 2020 2020 2020 2013 2020\n",
              "[4453] 2019 2020 2020 2017 2018 2017 2020 2014 2018 2020 2018 2016 2020 2016\n",
              "[4467] 2020 2020 2020 2019 2017 2019 2020 2020 2018 2020 2020 2016 1994 2020\n",
              "[4481] 1994 2017 2020 2020 2020 2020 2018 2018 2020 2020 2020 2019 2020 2019\n",
              "[4495] 2016 2019 2020 2019 2018 2019 2018 2013 2020 2020 2020 2013 2020 2009\n",
              "[4509] 2020 2013 2020 2017 2017 2020 2012 2017 2020 2020 2020 2020 2017 2020\n",
              "[4523] 2020 2020 2015 2020 2018 2017 2020 2017 2020 2020 2020 2020 2020 2018\n",
              "[4537] 2020 2018 2020 2016 2020 2015 2020 2015 2018 2015 2020 2020 2018 2020\n",
              "[4551] 2020 2020 2020 2020 2020 2017 2018 2019 2020 2019 2020 2017 2015 2020\n",
              "[4565] 2020 2020 2020 2020 2018 2020 2018 2020 2017 2005 2017 2018 2013 2016\n",
              "[4579] 2020 2020 2017 2015 2017 2015 2020 2020 2018 2020 2020 2020 2017 2017\n",
              "[4593] 2017 2017 2017 2017 2020 2020 2020 2018 2020 2016 2020 2019 2020 2019\n",
              "[4607] 2018 2019 2020 2020 2018 2020 2018 2017 2020 2017 2020 2017 2020 2017\n",
              "[4621] 2020 2013 2018 2017 2018 2020 2018 2020 2020 2020 2020 2020 2020 2020\n",
              "[4635] 2020 2020 2019 2020 2020 2017 2020 2017 2018 2019 2020 2019 2020 2018\n",
              "[4649] 2014 2020 2019 2016 2020 2016 2020 2018 2020 2019 2018 2019 2020 2018\n",
              "[4663] 2020 2020 2020 2020 2020 2020 2020 2020 2020 2020 2020 2016 2018 2016\n",
              "[4677] 2020 2016 2020 2020 2020 2020 2018 2015 2020 2020 2020 2020 2020 2020\n",
              "[4691] 2020 2020 2020 2020 2020 2019 2020 2020 2020 2017 2019 2020 2020 2017\n",
              "[4705] 2020 2020 2020 2020 2019 2020 2019 2020 2020 2020 2020 2017 2020 2017\n",
              "[4719] 2020 2019 2020 2019 2020 2020 2018 2016 2020 2016 2020 2019 2020 2019\n",
              "[4733] 2020 2019 2020 2020 2018 2020 2020 2020 2020 2020 2020 2009 2020 2009\n",
              "[4747] 2017 2003 2020 2003 2013 2003 2020 2003 2017 2003 2017 2003 2020 2003\n",
              "[4761] 2018 2020 2020 2003 2017 2003 2017 2017 2020 2017 2020 2012 2020 2012\n",
              "[4775] 2010 2020 2017 2020 2017 2020 2020 2012 2020 2012 2020 2019 2015 2020\n",
              "[4789] 2015 2019 2017 2017 2020 2017 2020 2020 2018 2018 2020 2016 2020 2009\n",
              "[4803] 2020 2019 2015 2019 2020 2009 2018 2020 2020 2020 2019 2020 2020 2020\n",
              "[4817] 2020 2019 2020 2019 2020 2017 2015 2020 2018 2020 2018 2020 2020 2020\n",
              "[4831] 2015 2020 2020 2020 2013 2020 2019 2020 2020 2020 2019 2020 2020 2020\n",
              "[4845] 2018 2016 2018 2016 2019 2016 2020 2019 1900 2019 2017 2015 2020 2018\n",
              "[4859] 2018 2020 2020 2016 1994 2017 1994 2017 2020 2020 2018 2016 2018 2016\n",
              "[4873] 2020 2016 2017 2018 2017 2018 2020 2016 2020 2020 2017 2015 2017 2015\n",
              "[4887] 2020 2020 2018 2020 2020 2020 2017 2017 2017 2017 2020 2017 2020 2020\n",
              "[4901] 2020 2017 2020 2020 2020 2020 2017 2020 2020 2020 1996 2020 2020 2020\n",
              "[4915] 2015 2018 2020 2017 2020 2017 2020 2017 2020 2016 2020 2016 2020 2016\n",
              "[4929] 2020 2016 2020 2019   NA 2019   NA 2020 2019 2020 2020 2020 2019 2020\n",
              "[4943] 2019 2020 2019 2020 2020 2020 2020 2020 2019 2020 2017 2020 2017 2020\n",
              "[4957] 2013 2016 2019 1999 2020 2014 2017 2015 2020 2020 2018 2020 2020 2020\n",
              "[4971] 2017 2017 2009 2017 2017 2017 2016 2019 2018 2016 2018 2016 2020 2019\n",
              "[4985] 2020 2019 2014 2015 2020 2020 2020 2020 2020 2020 2005 2020 2020 2017\n",
              "[4999] 2018 2017 2020 2017 2016 2017 2017 2020 2019 2020 2019 2020 2020 2020\n",
              "[5013] 2020 2020 2020 2020 2018 2020 2016 2017 2015 2017 2019 2017 2019 2020\n",
              "[5027] 2019 2020 2014 2020 2018 2016 2020 2016 2020 2018 2020 2019 2020 2019\n",
              "[5041] 2020 2009 2018 2020 2020 2020 2019 2020 2020 2020 2020 2020 2020 2013\n",
              "[5055] 2020 2013 2018 2020 2018 2020 2018 2020 2020 2020 2020 2020 2020 2020\n",
              "[5069] 2013 2020 2019 2020 2020 2020 2020 2020 2020 2020 2018 2020 2017 2018\n",
              "[5083] 2020 2016 2020 2019 2020 2019 2019 2019 2018 2018 2018 2020 2008 2020\n",
              "[5097] 2017 2020 2020 2017 2013 2017 2020 2016 2020 2017 2017 2020 2018 2020\n",
              "[5111] 2018 2020 2020 2020 2020 2020 2020 2020 2015 2020 2019 2020 2020 2020\n",
              "[5125] 2020 2020 2018 2014 2020 2014 2020 2016 2020 2014 2020 2015 2020 2015\n",
              "[5139] 2020 2020 2018 2020 2020 2014 1994 2020 1994 2017 2020 2014 2020 2014\n",
              "[5153] 2018 2014 2020 2016 2017 2020 2020 2020 2020 2016 2020 2020 2020 2014\n",
              "[5167] 2017 2015 2020 2020 2018 2020 2020 2020 2017 2017 2017 2017 2009 2017\n",
              "[5181] 2017 2018 2017 2018 2013 2016 2020 2020 2017 2014 2017 2015 2020 2020\n",
              "[5195] 2017 2020 2020 2020 2017 2017 2017 2017 2009 2017 2019 2020 2016 2020\n",
              "[5209] 2019 2016 2020 2020 2018 2020   NA 2020 2020 2020 2020 2020 2018 2020\n",
              "[5223] 2020 2020 2016 2020 2019 2020 2017 2020 2020 2020 2002 2020 2016 2020\n",
              "[5237] 1987 2020 2018 2020 2019 2020 2020 2020 2020 2020 2020 2020   NA 2016\n",
              "[5251]   NA 2016 2020 2019 2020 2019 2020 2019 2020 2020 2020 2020 2020 2020\n",
              "[5265] 2018 2020 2020 2017 2019 2020 2019 2020 2020 2017 2020 2020 2002 2017\n",
              "[5279] 2001 2020 2020 2020 2020 2020 2020 2020 2018 2020 2018 2017 2020 2017\n",
              "[5293] 2020 2019 2020 2019 2020 2019 2020 2020   NA 2016 2020 2016 2020 2020\n",
              "[5307] 2018 2019 2018 2019 2020 2020 2018 2020 2020 2020 2020 2020 2020 2020\n",
              "[5321] 2020 2017 2020 2020 2020 2017 2010 2020 2017 2020 2020 2020 2020 2020\n",
              "[5335] 2020 2020 2020 2020 2020 2020 2019 2017 2019 2017 2020 2020 2020 2020\n",
              "[5349] 2017 2018 2020 2018 2013 2016 2020 2020 2017 2020 2017 2016 2020 2016\n",
              "[5363] 2018 2020 2020 2020 2017 2017 2017 2017 2009 2017 2018 2020 2018 2016\n",
              "[5377] 2020 2016 2020 2020 2020 2019 2017 2019 2020 2020 2018 2020 2020 2016\n",
              "[5391] 1994 2020 1994 2017 2020 2020 2020 2016 2018 2016 2020 2016 2020 2020\n",
              "[5405] 2020 2020 2018 2015 2020 2020 2020 2020 2020 2020 2020 2020 2020 2020\n",
              "[5419] 2020 2019 2020 2020 2020 2017 2019 2020 2020 2017 2020 2020 2020 2020\n",
              "[5433] 2019 2020 2019 2020 2020 2020 2020 2017 2020 2017 2020 2019 2020 2019\n",
              "[5447] 2020 2020 2020 2016 2020 2016 2020 2019 2020 2019 2020 2019 2020 2020\n",
              "[5461] 2020 2020 2020 2020 2020 2020 2020 2020 2020 2020 2020 2020 2020 2020\n",
              "[5475] 2020 2020 2020 2020 2020 2020 2020 2020 2020 2020 2020 2020 2019 2020\n",
              "[5489] 2020 2017 2020 2017 2020 2017 2020 2020 2018 2016 2020 2016 2020 2016\n",
              "[5503] 2020 2015 2020 2015 2017 2015 2020 2018 2018 2020 2020 2016 1994 2017\n",
              "[5517] 1994 2017 2020 2020 2020 2020 2018 2020 2017 2016 2020 2020 2018 2020\n",
              "[5531] 2018 2020 2014 2020 2020 2020 2020 2020 2011 2020 2016 2020 2018 2020\n",
              "[5545] 2017 2020 2020 2020 2012 2020 2016 2020 1987 2020 2018 2020 2019 2020\n",
              "[5559] 2020 2020 2015 2020 2020 2020 2014 2017 2015 2020 2020 2020 2020 2016\n",
              "[5573] 2020 2016 2020 2019 2020 2019 2020 2019 2020 2020 2018 2020 2020 2020\n",
              "[5587] 2020 2020 2020 2017 2020 2017 2020 2017 2020 2017 2018 2020 2016 2020\n",
              "[5601] 2001 2020 2020 2020 2020 2020 2020 2020 2020 2020 2020 2017 2020 2017\n",
              "[5615] 2020 2019 2020 2019 2020 2020 2020 2020 2018 2016 2020 2016 2020 2019\n",
              "[5629] 2020 2019 2020 2019 2020 2009 2018 2020 2020 2020 2020 2020 2020 2017\n",
              "[5643] 2020 2017 2020 2020 2018 2018 2020 2016 2020 2009 2020 2019 2015 2019\n",
              "[5657] 2020 2009 2018 2020 2020 2020 2019 2020 2020 2020 2020 2019 2020 2019\n",
              "[5671] 2020 2017 2015 2020 2018 2020 2018 2020 2020 2020 2015 2020 2020 2020\n",
              "[5685] 2013 2020 2019 2020 2020 2020 2019 2020 2020 2020 2016 2020 2016 2020\n",
              "[5699] 2020 2020 2019 2020 2018 2020 2018 2020 2019 2020 2019 2020 2020 2020\n",
              "[5713] 2018 2020   NA 2020 2020 2020 2020 2020 2020 2020 2016 2020 2019 2020\n",
              "[5727] 2019 2020 2019 2020 2019 2020 2020 2020 2020 2020 2020 2016 2020 2016\n",
              "[5741] 2020 2016 2020 2010 2019 2019 2020 2019 2020 2020 2018 2020 2020 2020\n",
              "[5755] 2020 2020 2017 2017 2020 2020 2020 2020 2020 2020 2017 2020 2016 2020\n",
              "[5769] 2019 2020 2017 2020 2019 2020 2020 2020 2019 2020 2019 2017 2020 2017\n",
              "[5783] 2020 2020 2019 2019 2012 2020 2020 2020 2020 2020 2020 2020 2018 2020\n",
              "[5797] 2018 2020 2020 2020 2020 2020 2020 2020 2020 2020 2020 2020 2018 2020\n",
              "[5811] 2017 2020 2020 2020 2018 2020 2016 2020 2018 2020 2020 2020 2020 2020\n",
              "[5825] 2020 2020 2020 2020 2020 2020 2004 2020 2004 2020 2014 2020 2020 2016\n",
              "[5839] 2020 2016 2020 2019 2020 2019 2018 2019 2020 2020 2020 2020 2020 2020\n",
              "[5853] 2020 2020 2020 2020 2020 2020 2020 2020 2020 2020 1994 2020 2012 2020\n",
              "[5867] 2020 2020 2020 2020 2020 2020 2020 2020 2020 2020 2020 2017 2020 2017\n",
              "[5881] 2020 2017 2020 2020 2017 2005 2020 2018 2020 2016 2020 2020 2017 2015\n",
              "[5895] 2017 2015 2020 2020 2018 2020 2020 2020 2017 2017 2017 2017 2017 2017\n",
              "[5909] 2020 2020 2013 2018 2020 2016 2020 2012 2020 2019 2020 2019 2020 2011\n",
              "[5923] 2020 2020 2020 2020 2012 2020 2016 2020 2020 2020 2020 2017 2020 2017\n",
              "[5937] 2019 2020 2019 2020 2020 2005 2020 2019 2020 2020 2020 2020 2010 2020\n",
              "[5951] 2019 2020 2019 2020 2016 2020 2020 2020 2020 2018 2017 2020 2020 2020\n",
              "[5965] 2020 2016 2020 2020 2017 2020 2017 2015 2020 2020 2018 2020 2020 2020\n",
              "[5979] 2017 2017 2020 2017 2020 2017 2020 2014 2002 2020 2020 2020 2020 2020\n",
              "[5993] 2018 2020 2018 2020 2020 2020   NA 2020 2020 2020 2020 2020 2018 2020\n",
              "[6007] 2018 2020 2020 2020 2019 2016 2020 2016 2020 2019 2020 2019 2020 2019\n",
              "[6021] 2020 2018 2019 2020 2020 2020 2020 2020 2020 2020 2020 2020 2020 2007\n",
              "[6035] 2020 2017 2019 2020 2018 2020 2020 2020 2020 2019 2020 2009 2020 2020\n",
              "[6049] 2020 2020 2019 2017 2018 2017 2020 2017"
            ]
          },
          "metadata": {}
        }
      ]
    },
    {
      "cell_type": "code",
      "source": [
        "indian_tv_shows <- df %>% filter(show_type == \"TV Show\" & country_chart == \"IND\" &is_NF_Ori == \"True\" &imdb_rating_per > 60 & rt_rating_per >= 50 &rel_yr >6 & (ori_country == \"Germany\" | ori_country == \"USA\" | ori_country == \"India\"))\n",
        "# Print the list of Indian TV shows\n",
        "\n",
        "unique(indian_tv_shows$title)"
      ],
      "metadata": {
        "colab": {
          "base_uri": "https://localhost:8080/",
          "height": 34
        },
        "id": "sKipdMVg3Vyl",
        "outputId": "c1bd8865-59d9-4aec-c432-b162d1df9df3"
      },
      "execution_count": null,
      "outputs": [
        {
          "output_type": "display_data",
          "data": {
            "text/html": [
              "<style>\n",
              ".list-inline {list-style: none; margin:0; padding: 0}\n",
              ".list-inline>li {display: inline-block}\n",
              ".list-inline>li:not(:last-child)::after {content: \"\\00b7\"; padding: 0 .5ex}\n",
              "</style>\n",
              "<ol class=list-inline><li>'Lucifer'</li><li>'The Umbrella Academy'</li><li>'Dark'</li><li>'Never Have I Ever'</li></ol>\n"
            ],
            "text/markdown": "1. 'Lucifer'\n2. 'The Umbrella Academy'\n3. 'Dark'\n4. 'Never Have I Ever'\n\n\n",
            "text/latex": "\\begin{enumerate*}\n\\item 'Lucifer'\n\\item 'The Umbrella Academy'\n\\item 'Dark'\n\\item 'Never Have I Ever'\n\\end{enumerate*}\n",
            "text/plain": [
              "[1] \"Lucifer\"              \"The Umbrella Academy\" \"Dark\"                \n",
              "[4] \"Never Have I Ever\"   "
            ]
          },
          "metadata": {}
        }
      ]
    },
    {
      "cell_type": "code",
      "source": [
        "sort_df$release_date <- as.POSIXct(sort_df$release_date)\n",
        "head(df)"
      ],
      "metadata": {
        "id": "ITv2Gzb_JW31",
        "outputId": "4c764184-fedb-4360-c71c-125b5b6821f2",
        "colab": {
          "base_uri": "https://localhost:8080/",
          "height": 341
        }
      },
      "execution_count": null,
      "outputs": [
        {
          "output_type": "display_data",
          "data": {
            "text/html": [
              "<table class=\"dataframe\">\n",
              "<caption>A data.frame: 6 × 18</caption>\n",
              "<thead>\n",
              "\t<tr><th></th><th scope=col>week</th><th scope=col>show_type</th><th scope=col>title</th><th scope=col>ori_country</th><th scope=col>genre</th><th scope=col>release_date</th><th scope=col>is_NF_Ori</th><th scope=col>imdb_rating</th><th scope=col>rt_rating</th><th scope=col>country_chart</th><th scope=col>show_link</th><th scope=col>Continent</th><th scope=col>Continent.the.letter.for.the.king.2020</th><th scope=col>EUR</th><th scope=col>rel_yr</th><th scope=col>rel_mt</th><th scope=col>imdb_rating_per</th><th scope=col>rt_rating_per</th></tr>\n",
              "\t<tr><th></th><th scope=col>&lt;int&gt;</th><th scope=col>&lt;chr&gt;</th><th scope=col>&lt;chr&gt;</th><th scope=col>&lt;chr&gt;</th><th scope=col>&lt;chr&gt;</th><th scope=col>&lt;dttm&gt;</th><th scope=col>&lt;chr&gt;</th><th scope=col>&lt;chr&gt;</th><th scope=col>&lt;chr&gt;</th><th scope=col>&lt;chr&gt;</th><th scope=col>&lt;chr&gt;</th><th scope=col>&lt;chr&gt;</th><th scope=col>&lt;chr&gt;</th><th scope=col>&lt;lgl&gt;</th><th scope=col>&lt;dbl&gt;</th><th scope=col>&lt;dbl&gt;</th><th scope=col>&lt;dbl&gt;</th><th scope=col>&lt;dbl&gt;</th></tr>\n",
              "</thead>\n",
              "<tbody>\n",
              "\t<tr><th scope=row>1</th><td>37</td><td>Movie  </td><td>#Alive       </td><td>South Korea</td><td>Horror         </td><td>2020-09-08</td><td>False</td><td>62%</td><td>86%</td><td>ARE</td><td>https://flixpatrol.com/title/alive-2020   </td><td>ASI</td><td>NA</td><td>NA</td><td>2020</td><td>9</td><td>62</td><td>86</td></tr>\n",
              "\t<tr><th scope=row>2</th><td>37</td><td>TV Show</td><td>Away         </td><td>USA        </td><td>Science Fiction</td><td>2020-09-04</td><td>True </td><td>71%</td><td>73%</td><td>ARE</td><td>https://flixpatrol.com/title/away-2020    </td><td>ASI</td><td>NA</td><td>NA</td><td>2020</td><td>9</td><td>71</td><td>73</td></tr>\n",
              "\t<tr><th scope=row>3</th><td>36</td><td>Movie  </td><td>Skyscraper   </td><td>USA        </td><td>Action         </td><td>2018-07-04</td><td>False</td><td>61%</td><td>48%</td><td>ARE</td><td>https://flixpatrol.com/title/skyscraper   </td><td>ASI</td><td>NA</td><td>NA</td><td>2018</td><td>7</td><td>61</td><td>48</td></tr>\n",
              "\t<tr><th scope=row>4</th><td>36</td><td>TV Show</td><td>Lucifer      </td><td>USA        </td><td>Superhero      </td><td>2016-01-25</td><td>True </td><td>83%</td><td>87%</td><td>ARE</td><td>https://flixpatrol.com/title/lucifer      </td><td>ASI</td><td>NA</td><td>NA</td><td>2016</td><td>1</td><td>83</td><td>87</td></tr>\n",
              "\t<tr><th scope=row>5</th><td>35</td><td>Movie  </td><td>Project Power</td><td>USA        </td><td>Action         </td><td>2020-08-14</td><td>True </td><td>61%</td><td>63%</td><td>ARE</td><td>https://flixpatrol.com/title/project-power</td><td>ASI</td><td>NA</td><td>NA</td><td>2020</td><td>8</td><td>61</td><td>63</td></tr>\n",
              "\t<tr><th scope=row>6</th><td>35</td><td>TV Show</td><td>Lucifer      </td><td>USA        </td><td>Superhero      </td><td>2016-01-25</td><td>True </td><td>83%</td><td>87%</td><td>ARE</td><td>https://flixpatrol.com/title/lucifer      </td><td>ASI</td><td>NA</td><td>NA</td><td>2016</td><td>1</td><td>83</td><td>87</td></tr>\n",
              "</tbody>\n",
              "</table>\n"
            ],
            "text/markdown": "\nA data.frame: 6 × 18\n\n| <!--/--> | week &lt;int&gt; | show_type &lt;chr&gt; | title &lt;chr&gt; | ori_country &lt;chr&gt; | genre &lt;chr&gt; | release_date &lt;dttm&gt; | is_NF_Ori &lt;chr&gt; | imdb_rating &lt;chr&gt; | rt_rating &lt;chr&gt; | country_chart &lt;chr&gt; | show_link &lt;chr&gt; | Continent &lt;chr&gt; | Continent.the.letter.for.the.king.2020 &lt;chr&gt; | EUR &lt;lgl&gt; | rel_yr &lt;dbl&gt; | rel_mt &lt;dbl&gt; | imdb_rating_per &lt;dbl&gt; | rt_rating_per &lt;dbl&gt; |\n|---|---|---|---|---|---|---|---|---|---|---|---|---|---|---|---|---|---|---|\n| 1 | 37 | Movie   | #Alive        | South Korea | Horror          | 2020-09-08 | False | 62% | 86% | ARE | https://flixpatrol.com/title/alive-2020    | ASI | NA | NA | 2020 | 9 | 62 | 86 |\n| 2 | 37 | TV Show | Away          | USA         | Science Fiction | 2020-09-04 | True  | 71% | 73% | ARE | https://flixpatrol.com/title/away-2020     | ASI | NA | NA | 2020 | 9 | 71 | 73 |\n| 3 | 36 | Movie   | Skyscraper    | USA         | Action          | 2018-07-04 | False | 61% | 48% | ARE | https://flixpatrol.com/title/skyscraper    | ASI | NA | NA | 2018 | 7 | 61 | 48 |\n| 4 | 36 | TV Show | Lucifer       | USA         | Superhero       | 2016-01-25 | True  | 83% | 87% | ARE | https://flixpatrol.com/title/lucifer       | ASI | NA | NA | 2016 | 1 | 83 | 87 |\n| 5 | 35 | Movie   | Project Power | USA         | Action          | 2020-08-14 | True  | 61% | 63% | ARE | https://flixpatrol.com/title/project-power | ASI | NA | NA | 2020 | 8 | 61 | 63 |\n| 6 | 35 | TV Show | Lucifer       | USA         | Superhero       | 2016-01-25 | True  | 83% | 87% | ARE | https://flixpatrol.com/title/lucifer       | ASI | NA | NA | 2016 | 1 | 83 | 87 |\n\n",
            "text/latex": "A data.frame: 6 × 18\n\\begin{tabular}{r|llllllllllllllllll}\n  & week & show\\_type & title & ori\\_country & genre & release\\_date & is\\_NF\\_Ori & imdb\\_rating & rt\\_rating & country\\_chart & show\\_link & Continent & Continent.the.letter.for.the.king.2020 & EUR & rel\\_yr & rel\\_mt & imdb\\_rating\\_per & rt\\_rating\\_per\\\\\n  & <int> & <chr> & <chr> & <chr> & <chr> & <dttm> & <chr> & <chr> & <chr> & <chr> & <chr> & <chr> & <chr> & <lgl> & <dbl> & <dbl> & <dbl> & <dbl>\\\\\n\\hline\n\t1 & 37 & Movie   & \\#Alive        & South Korea & Horror          & 2020-09-08 & False & 62\\% & 86\\% & ARE & https://flixpatrol.com/title/alive-2020    & ASI & NA & NA & 2020 & 9 & 62 & 86\\\\\n\t2 & 37 & TV Show & Away          & USA         & Science Fiction & 2020-09-04 & True  & 71\\% & 73\\% & ARE & https://flixpatrol.com/title/away-2020     & ASI & NA & NA & 2020 & 9 & 71 & 73\\\\\n\t3 & 36 & Movie   & Skyscraper    & USA         & Action          & 2018-07-04 & False & 61\\% & 48\\% & ARE & https://flixpatrol.com/title/skyscraper    & ASI & NA & NA & 2018 & 7 & 61 & 48\\\\\n\t4 & 36 & TV Show & Lucifer       & USA         & Superhero       & 2016-01-25 & True  & 83\\% & 87\\% & ARE & https://flixpatrol.com/title/lucifer       & ASI & NA & NA & 2016 & 1 & 83 & 87\\\\\n\t5 & 35 & Movie   & Project Power & USA         & Action          & 2020-08-14 & True  & 61\\% & 63\\% & ARE & https://flixpatrol.com/title/project-power & ASI & NA & NA & 2020 & 8 & 61 & 63\\\\\n\t6 & 35 & TV Show & Lucifer       & USA         & Superhero       & 2016-01-25 & True  & 83\\% & 87\\% & ARE & https://flixpatrol.com/title/lucifer       & ASI & NA & NA & 2016 & 1 & 83 & 87\\\\\n\\end{tabular}\n",
            "text/plain": [
              "  week show_type title         ori_country genre           release_date\n",
              "1 37   Movie     #Alive        South Korea Horror          2020-09-08  \n",
              "2 37   TV Show   Away          USA         Science Fiction 2020-09-04  \n",
              "3 36   Movie     Skyscraper    USA         Action          2018-07-04  \n",
              "4 36   TV Show   Lucifer       USA         Superhero       2016-01-25  \n",
              "5 35   Movie     Project Power USA         Action          2020-08-14  \n",
              "6 35   TV Show   Lucifer       USA         Superhero       2016-01-25  \n",
              "  is_NF_Ori imdb_rating rt_rating country_chart\n",
              "1 False     62%         86%       ARE          \n",
              "2 True      71%         73%       ARE          \n",
              "3 False     61%         48%       ARE          \n",
              "4 True      83%         87%       ARE          \n",
              "5 True      61%         63%       ARE          \n",
              "6 True      83%         87%       ARE          \n",
              "  show_link                                  Continent\n",
              "1 https://flixpatrol.com/title/alive-2020    ASI      \n",
              "2 https://flixpatrol.com/title/away-2020     ASI      \n",
              "3 https://flixpatrol.com/title/skyscraper    ASI      \n",
              "4 https://flixpatrol.com/title/lucifer       ASI      \n",
              "5 https://flixpatrol.com/title/project-power ASI      \n",
              "6 https://flixpatrol.com/title/lucifer       ASI      \n",
              "  Continent.the.letter.for.the.king.2020 EUR rel_yr rel_mt imdb_rating_per\n",
              "1 NA                                     NA  2020   9      62             \n",
              "2 NA                                     NA  2020   9      71             \n",
              "3 NA                                     NA  2018   7      61             \n",
              "4 NA                                     NA  2016   1      83             \n",
              "5 NA                                     NA  2020   8      61             \n",
              "6 NA                                     NA  2016   1      83             \n",
              "  rt_rating_per\n",
              "1 86           \n",
              "2 73           \n",
              "3 48           \n",
              "4 87           \n",
              "5 63           \n",
              "6 87           "
            ]
          },
          "metadata": {}
        }
      ]
    },
    {
      "cell_type": "code",
      "source": [
        "##Q3\n",
        "#Create a piece of software in such a way that it asks the input from the customer as follows:\n",
        "#Country\n",
        "#Genre\n",
        "#IMDB rating\n",
        "#Release Month\n",
        "#Show Type\n",
        "# Function to filter DataFrame based on user input\n",
        "filter_data1 <- function(df) {\n",
        "  # Ask for user input\n",
        "  inp_country <- readline(prompt = \"Enter Country: \")\n",
        "  inp_genre <- readline(prompt = \"Enter Genre: \")\n",
        "  inp_imdb_rating <- as.numeric(readline(prompt = \"Enter min IMDB rating: \"))\n",
        "  inp_imdb_rating_m <- as.numeric(readline(prompt = \"Enter max IMDB rating: \"))\n",
        "  #inp_release_month <- as.numeric(readline(prompt = \"Enter Release month (1-12): \"))\n",
        "  inp_show_type <- readline(prompt = \"Enter Show Type (Movie/TV Show): \")\n",
        "\n",
        "  # Filter DataFrame based on user input\n",
        "  software_df <- df %>%\n",
        "    filter(ori_country == inp_country &\n",
        "             genre == inp_genre &\n",
        "             imdb_rating_per >= inp_imdb_rating &\n",
        "             imdb_rating_per <= inp_imdb_rating_m &\n",
        "             #rel_mt > inp_release_month &  # 'rel_mt' represents =release month\n",
        "             show_type == inp_show_type)\n",
        "   print(\"Your recomendation: \")\n",
        "  unique(software_df$title)\n",
        "}\n",
        "\n",
        "\n",
        "# Example\n",
        "\n",
        "filter_data1(df)\n"
      ],
      "metadata": {
        "colab": {
          "base_uri": "https://localhost:8080/",
          "height": 143
        },
        "id": "pD-Xw_msJqgD",
        "outputId": "0de64cd8-5491-43e0-a8b4-90cc1e834369"
      },
      "execution_count": null,
      "outputs": [
        {
          "output_type": "stream",
          "name": "stdout",
          "text": [
            "Enter Country: India\n",
            "Enter Genre: Crime\n",
            "Enter min IMDB rating: 60\n",
            "Enter max IMDB rating: 80\n",
            "Enter Show Type (Movie/TV Show): Movie\n",
            "[1] \"Your recomendation: \"\n"
          ]
        },
        {
          "output_type": "display_data",
          "data": {
            "text/html": [
              "'Raat Akeli Hai'"
            ],
            "text/markdown": "'Raat Akeli Hai'",
            "text/latex": "'Raat Akeli Hai'",
            "text/plain": [
              "[1] \"Raat Akeli Hai\""
            ]
          },
          "metadata": {}
        }
      ]
    },
    {
      "cell_type": "code",
      "source": [
        "#Create a piece of software in such a way that it asks the input from the customer as follows:\n",
        "#Country\n",
        "#Genre\n",
        "#IMDB rating\n",
        "#Release Month\n",
        "#Show Type\n",
        "# Function to filter DataFrame based on user input\n",
        "filter_data1 <- function(df) {\n",
        "  # Ask for user input\n",
        "  inp_country <- readline(prompt = \"Enter Country: \")\n",
        "  inp_genre <- readline(prompt = \"Enter Genre: \")\n",
        "  inp_imdb_rating <- as.numeric(readline(prompt = \"Enter IMDB rating: \"))\n",
        "  inp_release_month <- as.numeric(readline(prompt = \"Enter Release month (1-12): \"))\n",
        "  inp_show_type <- readline(prompt = \"Enter Show Type (Movie/TV Show): \")\n",
        "\n",
        "  # Filter DataFrame based on user input\n",
        "  software_df <- df %>%\n",
        "    filter(ori_country == inp_country &\n",
        "             genre == inp_genre &\n",
        "             imdb_rating_per >= inp_imdb_rating &\n",
        "             rel_mt == inp_release_month &  # Assuming 'rel_mt' represents release month\n",
        "             show_type == inp_show_type)\n",
        "\n",
        "  # Check if any data matches the filter\n",
        "  if (nrow(software_df) == 0) {\n",
        "    print(\"No data match the provided criteria.\")\n",
        "  } else {\n",
        "    return(software_df)\n",
        "  }\n",
        "}\n",
        "\n",
        "\n",
        "# Example usage\n",
        "# Assuming df is your DataFrame\n",
        "filtered_data1 <- filter_data1(df)\n",
        "if (!is.null(filtered_data1)) {\n",
        "  print(filtered_data1)\n",
        "}"
      ],
      "metadata": {
        "id": "mAivfolUDen9"
      },
      "execution_count": null,
      "outputs": []
    },
    {
      "cell_type": "code",
      "source": [
        "#1)Covid Period 2019-2022\n",
        "# in a particular country which  movie has most liked according to imdb rating\n",
        "library(dplyr)\n",
        "\n",
        "country_chart_inp <- readline(\"Give the country name: \")\n",
        "year_inp <- as.integer(readline(\"Give the year1: \"))\n",
        "year_inp1 <- as.integer(readline(\"Give the year2: \"))\n",
        "\n",
        "# Convert 'release_date' to datetime\n",
        "df$release_date <- as.Date(df$release_date, format = \"%Y-%m-%d\", na.rm = TRUE)\n",
        "\n",
        "# Extract release year from 'release_date'\n",
        "df$release_year <- as.integer(format(df$release_date, \"%Y\"))\n",
        "\n",
        "# Filter the data frame based on conditions\n",
        "df1 <- df %>%\n",
        "  filter(ori_country == country_chart_inp & release_year >= year_inp & release_year <= year_inp1)\n",
        "\n",
        "# Sort the filtered data frame by 'imdb_rating_per'\n",
        "df2 <- df1 %>% arrange(imdb_rating_per)\n",
        "\n",
        "# Find the maximum imdb_rating_per\n",
        "c <- max(df2$imdb_rating_per, na.rm = TRUE)\n",
        "\n",
        "# Filter the original data frame to get titles with maximum imdb_rating_per\n",
        "titles_max_rating <- df[df$imdb_rating_per == c, \"title\"]\n",
        "\n",
        "# Print unique titles\n",
        "unique_titles <- unique(titles_max_rating)\n",
        "print(unique_titles)\n"
      ],
      "metadata": {
        "colab": {
          "base_uri": "https://localhost:8080/"
        },
        "id": "fo5xVYJkS6qS",
        "outputId": "f5d08c72-d798-40a4-a8d7-ce218b83a72e"
      },
      "execution_count": null,
      "outputs": [
        {
          "output_type": "stream",
          "name": "stdout",
          "text": [
            "Give the country name: India\n",
            "Give the year1: 2019\n",
            "Give the year2: 2021\n",
            " [1] NA                                               \n",
            " [2] \"Money Heist: The Phenomenon\"                    \n",
            " [3] \"Good Girls\"                                     \n",
            " [4] \"Never Have I Ever\"                              \n",
            " [5] \"Baby Driver\"                                    \n",
            " [6] \"The 100\"                                        \n",
            " [7] \"Eurovision Song Contest: The Story of Fire Saga\"\n",
            " [8] \"Raat Akeli Hai\"                                 \n",
            " [9] \"Resurrection: Ertugrul\"                         \n",
            "[10] \"Wind River\"                                     \n"
          ]
        }
      ]
    },
    {
      "cell_type": "code",
      "source": [
        "# 2) in a particular year how many movies were released from a particular country\n",
        "ori_country_inp <- readline(\"Give the country name: \")\n",
        "year_inp <- as.integer(readline(\"Give the year: \"))\n",
        "\n",
        "# Filter the data frame based on conditions\n",
        "df1 <- subset(df, ori_country == ori_country_inp & release_year == year_inp)\n",
        "\n",
        "# Get unique titles\n",
        "df11 <- unique(df1$title)\n",
        "\n",
        "# Get the length of unique titles\n",
        "len <- length(df11)\n",
        "\n",
        "len\n"
      ],
      "metadata": {
        "colab": {
          "base_uri": "https://localhost:8080/",
          "height": 69
        },
        "id": "c1-d-WqgS6sL",
        "outputId": "81942a8f-dd5e-4007-d8b1-87b31594976e"
      },
      "execution_count": null,
      "outputs": [
        {
          "name": "stdout",
          "output_type": "stream",
          "text": [
            "Give the country name: USA\n",
            "Give the year: 2002\n"
          ]
        },
        {
          "output_type": "display_data",
          "data": {
            "text/html": [
              "4"
            ],
            "text/markdown": "4",
            "text/latex": "4",
            "text/plain": [
              "[1] 4"
            ]
          },
          "metadata": {}
        }
      ]
    },
    {
      "cell_type": "code",
      "source": [
        "# 3)When did first movie launch in a particular country according to this dataset\n",
        "# Get unique years\n",
        "a <- unique(df$year)\n",
        "b <- sort(a)\n",
        "\n",
        "# Convert 'b' to a list\n",
        "b_list <- as.list(b)\n",
        "\n",
        "# Prompt the user for input\n",
        "ori_country_inp <- readline(\"Give the country name: \")\n",
        "\n",
        "# Iterate over unique years\n",
        "for (i in b_list) {\n",
        "  print(paste(\"Checking year:\", i))\n",
        "\n",
        "  # Print the condition being used for filtering\n",
        "  print(paste(\"Filtering condition:\", paste(\"ori_country =\", ori_country_inp, \"& year =\", i)))\n",
        "\n",
        "  df1 <- subset(df, ori_country == ori_country_inp & year == i)$title\n",
        "  df1_len <- length(df1)\n",
        "\n",
        "  if (df1_len != 0) {\n",
        "    print(i)\n",
        "    break\n",
        "  }\n",
        "}\n"
      ],
      "metadata": {
        "id": "6hpqHU46fTd2",
        "outputId": "94c22429-e8b6-4160-bd85-1f0fdb6a960e",
        "colab": {
          "base_uri": "https://localhost:8080/"
        }
      },
      "execution_count": null,
      "outputs": [
        {
          "name": "stdout",
          "output_type": "stream",
          "text": [
            "Give the country name: USA\n"
          ]
        }
      ]
    },
    {
      "cell_type": "code",
      "source": [
        "# 4 Function to count the number of movies produced by a country in a specific year and genre\n",
        "count_movies_by_country_year_genre <- function(df) {\n",
        "  # Ask user to input country, year, and genre\n",
        "  country <- readline(prompt = \"Enter the country: \")\n",
        "  year <- as.numeric(readline(prompt = \"Enter the year: \"))\n",
        "  genre <- readline(prompt = \"Enter the genre: \")\n",
        "\n",
        "  # Filter DataFrame based on country, year, and genre\n",
        "  filtered_movies <- df %>%\n",
        "    filter(ori_country == country & rel_yr == year & genre == genre & show_type == \"Movie\")\n",
        "\n",
        "  # Count the number of movies\n",
        "  num_movies <- nrow(filtered_movies)\n",
        "\n",
        "  # Print the result\n",
        "  cat(\"Number of movies produced by\", country, \"in\", year, \"of genre\", genre, \":\", num_movies, \"\\n\")\n",
        "}\n",
        "\n",
        "\n",
        "count_movies_by_country_year_genre(df)"
      ],
      "metadata": {
        "colab": {
          "base_uri": "https://localhost:8080/"
        },
        "id": "-0qHHoynglNt",
        "outputId": "5bd1a947-78bc-45cb-c03e-09568570f714"
      },
      "execution_count": null,
      "outputs": [
        {
          "output_type": "stream",
          "name": "stdout",
          "text": [
            "Enter the country: USA\n",
            "Enter the year: 2016\n",
            "Enter the genre: Superhero\n",
            "Number of movies produced by USA in 2016 of genre Superhero : 38 \n"
          ]
        }
      ]
    },
    {
      "cell_type": "code",
      "source": [
        "print(names(df))\n"
      ],
      "metadata": {
        "colab": {
          "base_uri": "https://localhost:8080/"
        },
        "id": "GM7Dldf3k52Q",
        "outputId": "16bc811b-c3f5-45f4-bd0d-e14627db75f5"
      },
      "execution_count": null,
      "outputs": [
        {
          "output_type": "stream",
          "name": "stdout",
          "text": [
            " [1] \"week\"                                  \n",
            " [2] \"show_type\"                             \n",
            " [3] \"title\"                                 \n",
            " [4] \"ori_country\"                           \n",
            " [5] \"genre\"                                 \n",
            " [6] \"release_date\"                          \n",
            " [7] \"is_NF_Ori\"                             \n",
            " [8] \"imdb_rating\"                           \n",
            " [9] \"rt_rating\"                             \n",
            "[10] \"country_chart\"                         \n",
            "[11] \"show_link\"                             \n",
            "[12] \"Continent\"                             \n",
            "[13] \"Continent.the.letter.for.the.king.2020\"\n",
            "[14] \"EUR\"                                   \n",
            "[15] \"rel_yr\"                                \n",
            "[16] \"rel_mt\"                                \n"
          ]
        }
      ]
    },
    {
      "cell_type": "code",
      "source": [
        "# 5) comparison between two countries in a particular genre\n",
        "number <- function(country_inp, year_inp, show_type_inp, genre_inp) {\n",
        "  dff <- subset(df, ori_country == country_inp & rel_yr == year_inp & show_type == show_type_inp & genre == genre_inp)\n",
        "  dfff <- unique(dff$title)\n",
        "\n",
        "  return(length(dfff))\n",
        "}\n",
        "\n",
        "country_inp <- readline(\"give the country name1: \")\n",
        "country_inpa <- readline(\"give the country name2: \")\n",
        "show_type_inp <- readline(\"Give the show_type: \")\n",
        "genre_inp <- readline(\"Give the genre: \")\n",
        "year_inp <- as.integer(readline(\"Give the year: \"))\n",
        "\n",
        "a <- number(country_inp, year_inp, show_type_inp, genre_inp)\n",
        "print(paste(\"number of\", show_type_inp, \"of\", genre_inp, \"in\", year_inp, \"of\", country_inp, \"is\", a))\n",
        "\n",
        "b <- number(country_inpa, year_inp, show_type_inp, genre_inp)\n",
        "print(paste(\"number of\", show_type_inp, \"of\", genre_inp, \"in\", year_inp, \"of\", country_inpa, \"is\", b))\n",
        "\n"
      ],
      "metadata": {
        "id": "Hc6FG39siKW7",
        "colab": {
          "base_uri": "https://localhost:8080/"
        },
        "outputId": "32439480-9d6d-43cd-f223-d3e05e31e4e4"
      },
      "execution_count": null,
      "outputs": [
        {
          "output_type": "stream",
          "name": "stdout",
          "text": [
            "give the country name1: USA\n",
            "give the country name2: India\n",
            "Give the show_type: Movie\n",
            "Give the genre: Comedy\n",
            "Give the year: 2020\n",
            "[1] \"number of Movie of Comedy in 2020 of USA is 11\"\n",
            "[1] \"number of Movie of Comedy in 2020 of India is 0\"\n"
          ]
        }
      ]
    },
    {
      "cell_type": "code",
      "source": [
        "#6)which show_type(TV Show/Movie) has most liked on basis of imdb rating\n",
        "# Group by show type and calculate the mean IMDb rating per viewer\n",
        "mean_imdb_rating <- df %>%\n",
        "  group_by(show_type) %>%\n",
        "  summarise(mean_imdb_rating_per = mean(imdb_rating_per, na.rm = TRUE))\n",
        "\n",
        "# Find the show type with the highest mean IMDb rating per viewer\n",
        "most_liked_show_type <- mean_imdb_rating$show_type[which.max(mean_imdb_rating$mean_imdb_rating_per)]\n",
        "\n",
        "# Print the result\n",
        "print(paste(\"The most liked show type on basis of IMDb rating per viewer is:\", most_liked_show_type))\n"
      ],
      "metadata": {
        "colab": {
          "base_uri": "https://localhost:8080/"
        },
        "id": "FVZkeKrFnPni",
        "outputId": "d8ab57ee-ed9f-43d6-e347-e79c6a08b361"
      },
      "execution_count": null,
      "outputs": [
        {
          "output_type": "stream",
          "name": "stdout",
          "text": [
            "[1] \"The most liked show type on basis of IMDb rating per viewer is: Documentary TV\"\n"
          ]
        }
      ]
    },
    {
      "cell_type": "code",
      "source": [
        "#7# Filter DataFrame for movies originated from Netflix\n",
        "nf_originated_movies <- df %>%\n",
        "  filter(is_NF_Ori == \"True\" & show_type == \"Movie\")\n",
        "\n",
        "# Get the number of Netflix originated movies\n",
        "num_nf_originated_movies <- nrow(nf_originated_movies)\n",
        "\n",
        "# Print the number of Netflix originated movies\n",
        "print(num_nf_originated_movies)\n"
      ],
      "metadata": {
        "colab": {
          "base_uri": "https://localhost:8080/"
        },
        "id": "_aQjzGyupAIE",
        "outputId": "a108fa98-9b66-4372-ee1c-16d72682a47c"
      },
      "execution_count": null,
      "outputs": [
        {
          "output_type": "stream",
          "name": "stdout",
          "text": [
            "[1] 1332\n"
          ]
        }
      ]
    },
    {
      "cell_type": "code",
      "source": [
        "#8) list of movies which is originated and popular in same country\n",
        "unique_countries <- unique(df$country_chart)\n",
        "print(unique_countries) ## It gives abbreviation of country"
      ],
      "metadata": {
        "colab": {
          "base_uri": "https://localhost:8080/"
        },
        "id": "mBKu_TlZzVia",
        "outputId": "3c7ceeb6-85cd-4724-b2d5-6d2882235c6c"
      },
      "execution_count": null,
      "outputs": [
        {
          "output_type": "stream",
          "name": "stdout",
          "text": [
            " [1] \"ARE\" \"ARG\" \"AUS\" \"AUT\" \"BEL\" \"BGD\" \"BGR\" \"BOL\" \"BRA\" \"CAN\" \"CHE\" \"CHL\"\n",
            "[13] \"COL\" \"CRI\" \"CYP\" \"CZE\" \"DEU\" \"DNK\" \"DOM\" \"ECU\" \"EGY\" \"ESP\" \"EST\" \"FIN\"\n",
            "[25] \"FRA\" \"GBR\" \"GRE\" \"GTM\" \"HKG\" \"HND\" \"HRV\" \"HUN\" \"IDN\" \"IND\" \"IRE\" \"ISL\"\n",
            "[37] \"ISR\" \"ITA\" \"JOR\" \"JPN\" \"KOR\" \"KWT\" \"LBN\" \"LKA\" \"LTU\" \"LVA\" \"MAR\" \"MEX\"\n",
            "[49] \"MYS\" \"PAK\" \"SAU\" \"NIC\" \"NZE\" \"TUR\" \"SVK\" \"SVN\" \"VNM\" \"PAN\" \"UKR\" \"NGA\"\n",
            "[61] \"RUS\" \"OMN\" \"USA\" \"VEN\" \"SGP\" \"PRY\" \"PHL\" \"PER\" \"POL\" \"TWN\" \"POR\" \"NLD\"\n",
            "[73] \"URY\" \"ZAF\" \"NOR\" \"THA\" \"QAT\" \"ROU\" \"SWE\"\n"
          ]
        }
      ]
    },
    {
      "cell_type": "code",
      "source": [
        "# user input\n",
        "ori_country_inp <- readline(\"Give country name: \")\n",
        "country_chart_inp <- readline(\"Give abbreviation of country: \")\n",
        "\n",
        "# Filter dataframe based on input\n",
        "a <- df[df$ori_country == ori_country_inp & df$country_chart == country_chart_inp, ]\n",
        "\n",
        "# Get unique titles\n",
        "b <- unique(a$title)\n",
        "\n",
        "# Convert to list\n",
        "b_list <- as.list(b)\n",
        "\n",
        "print(b_list)\n",
        "unique(a$title)"
      ],
      "metadata": {
        "colab": {
          "base_uri": "https://localhost:8080/",
          "height": 1000
        },
        "id": "JDVH3a9izpvA",
        "outputId": "06846205-0232-4fd2-c8f3-564598258c1d"
      },
      "execution_count": null,
      "outputs": [
        {
          "output_type": "stream",
          "name": "stdout",
          "text": [
            "Give country name: USA\n",
            "Give abbreviation of country: USA\n",
            "[[1]]\n",
            "[1] \"Love, Guaranteed\"\n",
            "\n",
            "[[2]]\n",
            "[1] \"Away\"\n",
            "\n",
            "[[3]]\n",
            "[1] \"The Frozen Ground\"\n",
            "\n",
            "[[4]]\n",
            "[1] \"Cobra Kai\"\n",
            "\n",
            "[[5]]\n",
            "[1] \"Project Power\"\n",
            "\n",
            "[[6]]\n",
            "[1] \"Lucifer\"\n",
            "\n",
            "[[7]]\n",
            "[1] \"The Legend of Korra\"\n",
            "\n",
            "[[8]]\n",
            "[1] \"Work It\"\n",
            "\n",
            "[[9]]\n",
            "[1] \"The Umbrella Academy\"\n",
            "\n",
            "[[10]]\n",
            "[1] \"Shameless\"\n",
            "\n",
            "[[11]]\n",
            "[1] \"Fatal Affair\"\n",
            "\n",
            "[[12]]\n",
            "[1] \"Cursed\"\n",
            "\n",
            "[[13]]\n",
            "[1] \"The Old Guard\"\n",
            "\n",
            "[[14]]\n",
            "[1] \"The Business of Drugs\"\n",
            "\n",
            "[[15]]\n",
            "[1] \"The Lorax\"\n",
            "\n",
            "[[16]]\n",
            "[1] \"Unsolved Mysteries\"\n",
            "\n",
            "[[17]]\n",
            "[1] \"Patriots Day\"\n",
            "\n",
            "[[18]]\n",
            "[1] \"Floor is Lava\"\n",
            "\n",
            "[[19]]\n",
            "[1] \"13 Reasons Why\"\n",
            "\n",
            "[[20]]\n",
            "[1] \"Uncut Gems\"\n",
            "\n",
            "[[21]]\n",
            "[1] \"Space Force\"\n",
            "\n",
            "[[22]]\n",
            "[1] \"Sweet Magnolias\"\n",
            "\n",
            "[[23]]\n",
            "[1] \"The Wrong Missy\"\n",
            "\n",
            "[[24]]\n",
            "[1] \"Avatar: The Last Airbender\"\n",
            "\n",
            "[[25]]\n",
            "[1] \"Dead to Me\"\n",
            "\n",
            "[[26]]\n",
            "[1] \"Becoming\"\n",
            "\n",
            "[[27]]\n",
            "[1] \"Outer Banks\"\n",
            "\n",
            "[[28]]\n",
            "[1] \"Extraction\"\n",
            "\n",
            "[[29]]\n",
            "[1] \"Never Have I Ever\"\n",
            "\n",
            "[[30]]\n",
            "[1] \"Despicable Me\"\n",
            "\n",
            "[[31]]\n",
            "[1] \"Too Hot to Handle\"\n",
            "\n",
            "[[32]]\n",
            "[1] \"Tiger King: Murder, Mayhem and Madness\"\n",
            "\n",
            "[[33]]\n",
            "[1] \"Angel Has Fallen\"\n",
            "\n",
            "[[34]]\n",
            "[1] \"Spenser Confidential\"\n",
            "\n",
            "[[35]]\n",
            "[1] \"All American\"\n",
            "\n"
          ]
        },
        {
          "output_type": "display_data",
          "data": {
            "text/html": [
              "<style>\n",
              ".list-inline {list-style: none; margin:0; padding: 0}\n",
              ".list-inline>li {display: inline-block}\n",
              ".list-inline>li:not(:last-child)::after {content: \"\\00b7\"; padding: 0 .5ex}\n",
              "</style>\n",
              "<ol class=list-inline><li>'Love, Guaranteed'</li><li>'Away'</li><li>'The Frozen Ground'</li><li>'Cobra Kai'</li><li>'Project Power'</li><li>'Lucifer'</li><li>'The Legend of Korra'</li><li>'Work It'</li><li>'The Umbrella Academy'</li><li>'Shameless'</li><li>'Fatal Affair'</li><li>'Cursed'</li><li>'The Old Guard'</li><li>'The Business of Drugs'</li><li>'The Lorax'</li><li>'Unsolved Mysteries'</li><li>'Patriots Day'</li><li>'Floor is Lava'</li><li>'13 Reasons Why'</li><li>'Uncut Gems'</li><li>'Space Force'</li><li>'Sweet Magnolias'</li><li>'The Wrong Missy'</li><li>'Avatar: The Last Airbender'</li><li>'Dead to Me'</li><li>'Becoming'</li><li>'Outer Banks'</li><li>'Extraction'</li><li>'Never Have I Ever'</li><li>'Despicable Me'</li><li>'Too Hot to Handle'</li><li>'Tiger King: Murder, Mayhem and Madness'</li><li>'Angel Has Fallen'</li><li>'Spenser Confidential'</li><li>'All American'</li></ol>\n"
            ],
            "text/markdown": "1. 'Love, Guaranteed'\n2. 'Away'\n3. 'The Frozen Ground'\n4. 'Cobra Kai'\n5. 'Project Power'\n6. 'Lucifer'\n7. 'The Legend of Korra'\n8. 'Work It'\n9. 'The Umbrella Academy'\n10. 'Shameless'\n11. 'Fatal Affair'\n12. 'Cursed'\n13. 'The Old Guard'\n14. 'The Business of Drugs'\n15. 'The Lorax'\n16. 'Unsolved Mysteries'\n17. 'Patriots Day'\n18. 'Floor is Lava'\n19. '13 Reasons Why'\n20. 'Uncut Gems'\n21. 'Space Force'\n22. 'Sweet Magnolias'\n23. 'The Wrong Missy'\n24. 'Avatar: The Last Airbender'\n25. 'Dead to Me'\n26. 'Becoming'\n27. 'Outer Banks'\n28. 'Extraction'\n29. 'Never Have I Ever'\n30. 'Despicable Me'\n31. 'Too Hot to Handle'\n32. 'Tiger King: Murder, Mayhem and Madness'\n33. 'Angel Has Fallen'\n34. 'Spenser Confidential'\n35. 'All American'\n\n\n",
            "text/latex": "\\begin{enumerate*}\n\\item 'Love, Guaranteed'\n\\item 'Away'\n\\item 'The Frozen Ground'\n\\item 'Cobra Kai'\n\\item 'Project Power'\n\\item 'Lucifer'\n\\item 'The Legend of Korra'\n\\item 'Work It'\n\\item 'The Umbrella Academy'\n\\item 'Shameless'\n\\item 'Fatal Affair'\n\\item 'Cursed'\n\\item 'The Old Guard'\n\\item 'The Business of Drugs'\n\\item 'The Lorax'\n\\item 'Unsolved Mysteries'\n\\item 'Patriots Day'\n\\item 'Floor is Lava'\n\\item '13 Reasons Why'\n\\item 'Uncut Gems'\n\\item 'Space Force'\n\\item 'Sweet Magnolias'\n\\item 'The Wrong Missy'\n\\item 'Avatar: The Last Airbender'\n\\item 'Dead to Me'\n\\item 'Becoming'\n\\item 'Outer Banks'\n\\item 'Extraction'\n\\item 'Never Have I Ever'\n\\item 'Despicable Me'\n\\item 'Too Hot to Handle'\n\\item 'Tiger King: Murder, Mayhem and Madness'\n\\item 'Angel Has Fallen'\n\\item 'Spenser Confidential'\n\\item 'All American'\n\\end{enumerate*}\n",
            "text/plain": [
              " [1] \"Love, Guaranteed\"                      \n",
              " [2] \"Away\"                                  \n",
              " [3] \"The Frozen Ground\"                     \n",
              " [4] \"Cobra Kai\"                             \n",
              " [5] \"Project Power\"                         \n",
              " [6] \"Lucifer\"                               \n",
              " [7] \"The Legend of Korra\"                   \n",
              " [8] \"Work It\"                               \n",
              " [9] \"The Umbrella Academy\"                  \n",
              "[10] \"Shameless\"                             \n",
              "[11] \"Fatal Affair\"                          \n",
              "[12] \"Cursed\"                                \n",
              "[13] \"The Old Guard\"                         \n",
              "[14] \"The Business of Drugs\"                 \n",
              "[15] \"The Lorax\"                             \n",
              "[16] \"Unsolved Mysteries\"                    \n",
              "[17] \"Patriots Day\"                          \n",
              "[18] \"Floor is Lava\"                         \n",
              "[19] \"13 Reasons Why\"                        \n",
              "[20] \"Uncut Gems\"                            \n",
              "[21] \"Space Force\"                           \n",
              "[22] \"Sweet Magnolias\"                       \n",
              "[23] \"The Wrong Missy\"                       \n",
              "[24] \"Avatar: The Last Airbender\"            \n",
              "[25] \"Dead to Me\"                            \n",
              "[26] \"Becoming\"                              \n",
              "[27] \"Outer Banks\"                           \n",
              "[28] \"Extraction\"                            \n",
              "[29] \"Never Have I Ever\"                     \n",
              "[30] \"Despicable Me\"                         \n",
              "[31] \"Too Hot to Handle\"                     \n",
              "[32] \"Tiger King: Murder, Mayhem and Madness\"\n",
              "[33] \"Angel Has Fallen\"                      \n",
              "[34] \"Spenser Confidential\"                  \n",
              "[35] \"All American\"                          "
            ]
          },
          "metadata": {}
        }
      ]
    },
    {
      "cell_type": "code",
      "source": [
        "#9) Basis of user information provide a movie link\n",
        "# Function to provide a movie link based on user information\n",
        "provide_movie_link <- function(df) {\n",
        "\n",
        "  country <- readline(prompt = \"Enter the country: \")\n",
        "  genre <- readline(prompt = \"Enter the genre: \")\n",
        "  imdb_rating_threshold <- as.numeric(readline(prompt = \"Enter the IMDb rating threshold: \"))\n",
        "\n",
        "  # Filter DataFrame based on user information\n",
        "  filtered_movies <- df %>%\n",
        "    filter(ori_country == country & genre == genre & imdb_rating_per > imdb_rating_threshold)\n",
        "\n",
        "  # Check if any movies are available based on the criteria\n",
        "  if (nrow(filtered_movies) == 0) {\n",
        "    print(\"No movies found based on the provided criteria.\")\n",
        "  } else {\n",
        "    # Select a random movie from the filtered DataFrame\n",
        "    random_movie <- sample_n(filtered_movies, 1)\n",
        "\n",
        "    # Print the movie link\n",
        "    print(random_movie$show_link)\n",
        "  }\n",
        "}\n",
        "provide_movie_link(df)"
      ],
      "metadata": {
        "colab": {
          "base_uri": "https://localhost:8080/"
        },
        "id": "nD0_w4Zr0LeI",
        "outputId": "efacbc0b-2ece-4342-84d4-c16619098438"
      },
      "execution_count": null,
      "outputs": [
        {
          "output_type": "stream",
          "name": "stdout",
          "text": [
            "Enter the country: USA\n",
            "Enter the genre: Action\n",
            "Enter the IMDb rating threshold: 50\n",
            "[1] \"https://flixpatrol.com/title/project-power\"\n"
          ]
        }
      ]
    },
    {
      "cell_type": "code",
      "source": [
        "# 10) Basis of year and originated country give 5 movies whose rt rating is least\n",
        "\n",
        "year_inp <- as.integer(readline(\"Give the year: \"))\n",
        "ori_country_inp <- readline(\"Give the country name: \")\n",
        "\n",
        "# Filter dataframe based on input\n",
        "a <- df[df$rel_yr == year_inp & df$ori_country == ori_country_inp, ]\n",
        "\n",
        "# Sort dataframe by rt_rating_per\n",
        "b <- a[order(a$rt_rating_per), ]\n",
        "\n",
        "# Get unique titles of the first 5 rows\n",
        "c <- unique(b$title)[1:5]\n",
        "print(c)\n",
        "\n",
        "\n"
      ],
      "metadata": {
        "colab": {
          "base_uri": "https://localhost:8080/"
        },
        "id": "QqMtfxSk0qBn",
        "outputId": "7cb6ef90-9895-4563-8848-5de84c3fb530"
      },
      "execution_count": null,
      "outputs": [
        {
          "output_type": "stream",
          "name": "stdout",
          "text": [
            "Give the year: 2020\n",
            "Give the country name: USA\n",
            "[1] \"Work It\"                               \n",
            "[2] \"Warrior Nun\"                           \n",
            "[3] \"Tiger King: Murder, Mayhem and Madness\"\n",
            "[4] \"The Business of Drugs\"                 \n",
            "[5] \"Fatal Affair\"                          \n"
          ]
        }
      ]
    },
    {
      "cell_type": "code",
      "source": [
        "##plot on world map\n",
        "install.packages(\"ggplot2\")\n",
        "install.packages(\"tidyverse\")\n",
        "\n",
        "\n",
        "library(ggplot2)\n",
        "library(tidyverse)\n"
      ],
      "metadata": {
        "id": "WQrzydv7vWdV",
        "outputId": "82ea9318-d75b-4481-8d45-433c93292b06",
        "colab": {
          "base_uri": "https://localhost:8080/"
        }
      },
      "execution_count": null,
      "outputs": [
        {
          "output_type": "stream",
          "name": "stderr",
          "text": [
            "Installing package into ‘/usr/local/lib/R/site-library’\n",
            "(as ‘lib’ is unspecified)\n",
            "\n",
            "Installing package into ‘/usr/local/lib/R/site-library’\n",
            "(as ‘lib’ is unspecified)\n",
            "\n",
            "── \u001b[1mAttaching core tidyverse packages\u001b[22m ──────────────────────── tidyverse 2.0.0 ──\n",
            "\u001b[32m✔\u001b[39m \u001b[34mforcats  \u001b[39m 1.0.0     \u001b[32m✔\u001b[39m \u001b[34mreadr    \u001b[39m 2.1.5\n",
            "\u001b[32m✔\u001b[39m \u001b[34mlubridate\u001b[39m 1.9.3     \u001b[32m✔\u001b[39m \u001b[34mtibble   \u001b[39m 3.2.1\n",
            "\u001b[32m✔\u001b[39m \u001b[34mpurrr    \u001b[39m 1.0.2     \u001b[32m✔\u001b[39m \u001b[34mtidyr    \u001b[39m 1.3.1\n",
            "── \u001b[1mConflicts\u001b[22m ────────────────────────────────────────── tidyverse_conflicts() ──\n",
            "\u001b[31m✖\u001b[39m \u001b[34mpurrr\u001b[39m::\u001b[32m%||%()\u001b[39m   masks \u001b[34mbase\u001b[39m::%||%()\n",
            "\u001b[31m✖\u001b[39m \u001b[34mdplyr\u001b[39m::\u001b[32mfilter()\u001b[39m masks \u001b[34mstats\u001b[39m::filter()\n",
            "\u001b[31m✖\u001b[39m \u001b[34mdplyr\u001b[39m::\u001b[32mlag()\u001b[39m    masks \u001b[34mstats\u001b[39m::lag()\n",
            "\u001b[36mℹ\u001b[39m Use the conflicted package (\u001b[3m\u001b[34m<http://conflicted.r-lib.org/>\u001b[39m\u001b[23m) to force all conflicts to become errors\n"
          ]
        }
      ]
    },
    {
      "cell_type": "code",
      "source": [
        "install.packages(\"maps\")\n",
        "library(maps)"
      ],
      "metadata": {
        "id": "NZjCLQi-xJhw",
        "outputId": "dbf92ae2-d6d8-4d21-b7a9-82b25bfad9d4",
        "colab": {
          "base_uri": "https://localhost:8080/"
        }
      },
      "execution_count": null,
      "outputs": [
        {
          "output_type": "stream",
          "name": "stderr",
          "text": [
            "Installing package into ‘/usr/local/lib/R/site-library’\n",
            "(as ‘lib’ is unspecified)\n",
            "\n",
            "\n",
            "Attaching package: ‘maps’\n",
            "\n",
            "\n",
            "The following object is masked from ‘package:purrr’:\n",
            "\n",
            "    map\n",
            "\n",
            "\n"
          ]
        }
      ]
    },
    {
      "cell_type": "code",
      "source": [
        "country_mean_ratings <- df %>%\n",
        "  group_by(ori_country) %>%\n",
        "  summarize(mean_rating = mean(imdb_rating_per, na.rm = TRUE))\n",
        "\n",
        "# Print the result\n",
        "print(country_mean_ratings)\n"
      ],
      "metadata": {
        "id": "j-caM-fgyNH0",
        "outputId": "40941d6e-b5ab-4817-fdd7-8289b9561379",
        "colab": {
          "base_uri": "https://localhost:8080/"
        }
      },
      "execution_count": null,
      "outputs": [
        {
          "output_type": "stream",
          "name": "stdout",
          "text": [
            "\u001b[90m# A tibble: 42 × 2\u001b[39m\n",
            "   ori_country mean_rating\n",
            "   \u001b[3m\u001b[90m<chr>\u001b[39m\u001b[23m             \u001b[3m\u001b[90m<dbl>\u001b[39m\u001b[23m\n",
            "\u001b[90m 1\u001b[39m \u001b[90m\"\u001b[39m\u001b[90m\"\u001b[39m                 61  \n",
            "\u001b[90m 2\u001b[39m \u001b[90m\"\u001b[39mArgentina\u001b[90m\"\u001b[39m        56  \n",
            "\u001b[90m 3\u001b[39m \u001b[90m\"\u001b[39mAustria\u001b[90m\"\u001b[39m          67  \n",
            "\u001b[90m 4\u001b[39m \u001b[90m\"\u001b[39mBelgium\u001b[90m\"\u001b[39m          71.4\n",
            "\u001b[90m 5\u001b[39m \u001b[90m\"\u001b[39mBrazil\u001b[90m\"\u001b[39m           46  \n",
            "\u001b[90m 6\u001b[39m \u001b[90m\"\u001b[39mCanada\u001b[90m\"\u001b[39m           61.5\n",
            "\u001b[90m 7\u001b[39m \u001b[90m\"\u001b[39mChile\u001b[90m\"\u001b[39m             0  \n",
            "\u001b[90m 8\u001b[39m \u001b[90m\"\u001b[39mChina\u001b[90m\"\u001b[39m            65  \n",
            "\u001b[90m 9\u001b[39m \u001b[90m\"\u001b[39mColombia\u001b[90m\"\u001b[39m         56.1\n",
            "\u001b[90m10\u001b[39m \u001b[90m\"\u001b[39mCroatia\u001b[90m\"\u001b[39m           0  \n",
            "\u001b[90m# ℹ 32 more rows\u001b[39m\n"
          ]
        }
      ]
    },
    {
      "cell_type": "code",
      "source": [
        "colnames(country_mean_ratings)[1] <- \"region\"\n",
        "#Replace blanks by NA on all columns\n",
        "country_mean_ratings[country_mean_ratings ==\"\"]<- NA\n",
        "\n",
        "country_mean_ratings <- country_mean_ratings[!is.na(country_mean_ratings$region), ]\n",
        "mapdata=map_data(\"world\")\n",
        "mapdata=left_join(mapdata,country_mean_ratings,by=\"region\")\n",
        "\n",
        "\n",
        "mapdata1<-mapdata %>% filter(!is.na(mapdata$mean_rating))\n",
        "View(mapdata1)"
      ],
      "metadata": {
        "id": "rv9vO4Rbvzfg",
        "outputId": "3abd00af-f8c1-4e1e-a037-af70bea44e38",
        "colab": {
          "base_uri": "https://localhost:8080/",
          "height": 1000
        }
      },
      "execution_count": null,
      "outputs": [
        {
          "output_type": "display_data",
          "data": {
            "text/plain": [
              "      long      lat       group order  region       subregion          \n",
              "1     -64.54916 -54.71621 17    1148   Argentina    Isla de los Estados\n",
              "2     -64.43882 -54.73936 17    1149   Argentina    Isla de los Estados\n",
              "3     -64.22050 -54.72197 17    1150   Argentina    Isla de los Estados\n",
              "4     -64.10532 -54.72168 17    1151   Argentina    Isla de los Estados\n",
              "5     -64.05493 -54.72988 17    1152   Argentina    Isla de los Estados\n",
              "6     -64.03242 -54.74238 17    1153   Argentina    Isla de los Estados\n",
              "7     -63.88193 -54.72295 17    1154   Argentina    Isla de los Estados\n",
              "8     -63.81543 -54.72510 17    1155   Argentina    Isla de los Estados\n",
              "9     -63.83257 -54.76797 17    1156   Argentina    Isla de los Estados\n",
              "10    -63.97124 -54.81065 17    1157   Argentina    Isla de los Estados\n",
              "11    -64.02832 -54.79258 17    1158   Argentina    Isla de los Estados\n",
              "12    -64.32291 -54.79648 17    1159   Argentina    Isla de los Estados\n",
              "13    -64.45327 -54.84033 17    1160   Argentina    Isla de los Estados\n",
              "14    -64.50869 -54.83994 17    1161   Argentina    Isla de los Estados\n",
              "15    -64.63735 -54.90254 17    1162   Argentina    Isla de los Estados\n",
              "16    -64.73145 -54.86299 17    1163   Argentina    Isla de los Estados\n",
              "17    -64.75732 -54.82656 17    1164   Argentina    Isla de los Estados\n",
              "18    -64.68921 -54.77470 17    1165   Argentina    Isla de los Estados\n",
              "19    -64.62510 -54.77363 17    1166   Argentina    Isla de los Estados\n",
              "20    -64.58134 -54.75273 17    1167   Argentina    Isla de los Estados\n",
              "21    -64.54916 -54.71621 17    1168   Argentina    Isla de los Estados\n",
              "22    -68.65322 -54.85361 18    1170   Argentina    Tierra del Fuego   \n",
              "23    -68.64751 -54.62783 18    1171   Argentina    Tierra del Fuego   \n",
              "24    -68.63979 -54.32402 18    1172   Argentina    Tierra del Fuego   \n",
              "25    -68.63823 -54.05293 18    1173   Argentina    Tierra del Fuego   \n",
              "26    -68.63667 -53.78887 18    1174   Argentina    Tierra del Fuego   \n",
              "27    -68.63506 -53.51543 18    1175   Argentina    Tierra del Fuego   \n",
              "28    -68.63345 -53.24189 18    1176   Argentina    Tierra del Fuego   \n",
              "29    -68.63169 -52.94951 18    1177   Argentina    Tierra del Fuego   \n",
              "30    -68.62993 -52.65264 18    1178   Argentina    Tierra del Fuego   \n",
              "⋮     ⋮         ⋮         ⋮     ⋮      ⋮            ⋮                  \n",
              "39919 27.19355  -29.94131 1622  100323 South Africa enclave            \n",
              "39920 27.23975  -30.01533 1622  100324 South Africa enclave            \n",
              "39921 27.31269  -30.10566 1622  100325 South Africa enclave            \n",
              "39922 27.35537  -30.15859 1622  100326 South Africa enclave            \n",
              "39923 27.34971  -30.24736 1622  100327 South Africa enclave            \n",
              "39924 27.36406  -30.27920 1622  100328 South Africa enclave            \n",
              "39925 27.38848  -30.31592 1622  100329 South Africa enclave            \n",
              "39926 27.40859  -30.32529 1622  100330 South Africa enclave            \n",
              "39927 27.43144  -30.33848 1622  100331 South Africa enclave            \n",
              "39928 27.49199  -30.36396 1622  100332 South Africa enclave            \n",
              "39929 27.50654  -30.38096 1622  100333 South Africa enclave            \n",
              "39930 27.54902  -30.41123 1622  100334 South Africa enclave            \n",
              "39931 27.58965  -30.46641 1622  100335 South Africa enclave            \n",
              "39932 27.66660  -30.54228 1622  100336 South Africa enclave            \n",
              "39933 27.75312  -30.60000 1622  100337 South Africa enclave            \n",
              "39934 27.90186  -30.62383 1622  100338 South Africa enclave            \n",
              "39935 28.01816  -30.64228 1622  100339 South Africa enclave            \n",
              "39936 28.05684  -30.63106 1622  100340 South Africa enclave            \n",
              "39937 28.09639  -30.58457 1622  100341 South Africa enclave            \n",
              "39938 28.12871  -30.52510 1622  100342 South Africa enclave            \n",
              "39939 28.13906  -30.44990 1622  100343 South Africa enclave            \n",
              "39940 28.17617  -30.40986 1622  100344 South Africa enclave            \n",
              "39941 28.31543  -30.21846 1622  100345 South Africa enclave            \n",
              "39942 28.39209  -30.14756 1622  100346 South Africa enclave            \n",
              "39943 28.43906  -30.14248 1622  100347 South Africa enclave            \n",
              "39944 28.49961  -30.12891 1622  100348 South Africa enclave            \n",
              "39945 28.57666  -30.12305 1622  100349 South Africa enclave            \n",
              "39946 28.63437  -30.12871 1622  100350 South Africa enclave            \n",
              "39947 28.64688  -30.12656 1622  100351 South Africa enclave            \n",
              "39948 28.73691  -30.10195 1622  100352 South Africa enclave            \n",
              "      mean_rating\n",
              "1     56         \n",
              "2     56         \n",
              "3     56         \n",
              "4     56         \n",
              "5     56         \n",
              "6     56         \n",
              "7     56         \n",
              "8     56         \n",
              "9     56         \n",
              "10    56         \n",
              "11    56         \n",
              "12    56         \n",
              "13    56         \n",
              "14    56         \n",
              "15    56         \n",
              "16    56         \n",
              "17    56         \n",
              "18    56         \n",
              "19    56         \n",
              "20    56         \n",
              "21    56         \n",
              "22    56         \n",
              "23    56         \n",
              "24    56         \n",
              "25    56         \n",
              "26    56         \n",
              "27    56         \n",
              "28    56         \n",
              "29    56         \n",
              "30    56         \n",
              "⋮     ⋮          \n",
              "39919 39.58824   \n",
              "39920 39.58824   \n",
              "39921 39.58824   \n",
              "39922 39.58824   \n",
              "39923 39.58824   \n",
              "39924 39.58824   \n",
              "39925 39.58824   \n",
              "39926 39.58824   \n",
              "39927 39.58824   \n",
              "39928 39.58824   \n",
              "39929 39.58824   \n",
              "39930 39.58824   \n",
              "39931 39.58824   \n",
              "39932 39.58824   \n",
              "39933 39.58824   \n",
              "39934 39.58824   \n",
              "39935 39.58824   \n",
              "39936 39.58824   \n",
              "39937 39.58824   \n",
              "39938 39.58824   \n",
              "39939 39.58824   \n",
              "39940 39.58824   \n",
              "39941 39.58824   \n",
              "39942 39.58824   \n",
              "39943 39.58824   \n",
              "39944 39.58824   \n",
              "39945 39.58824   \n",
              "39946 39.58824   \n",
              "39947 39.58824   \n",
              "39948 39.58824   "
            ],
            "text/html": [
              "<table class=\"dataframe\">\n",
              "<caption>A data.frame: 39948 × 7</caption>\n",
              "<thead>\n",
              "\t<tr><th scope=col>long</th><th scope=col>lat</th><th scope=col>group</th><th scope=col>order</th><th scope=col>region</th><th scope=col>subregion</th><th scope=col>mean_rating</th></tr>\n",
              "\t<tr><th scope=col>&lt;dbl&gt;</th><th scope=col>&lt;dbl&gt;</th><th scope=col>&lt;dbl&gt;</th><th scope=col>&lt;int&gt;</th><th scope=col>&lt;chr&gt;</th><th scope=col>&lt;chr&gt;</th><th scope=col>&lt;dbl&gt;</th></tr>\n",
              "</thead>\n",
              "<tbody>\n",
              "\t<tr><td>-64.54916</td><td>-54.71621</td><td>17</td><td>1148</td><td>Argentina</td><td>Isla de los Estados</td><td>56</td></tr>\n",
              "\t<tr><td>-64.43882</td><td>-54.73936</td><td>17</td><td>1149</td><td>Argentina</td><td>Isla de los Estados</td><td>56</td></tr>\n",
              "\t<tr><td>-64.22050</td><td>-54.72197</td><td>17</td><td>1150</td><td>Argentina</td><td>Isla de los Estados</td><td>56</td></tr>\n",
              "\t<tr><td>-64.10532</td><td>-54.72168</td><td>17</td><td>1151</td><td>Argentina</td><td>Isla de los Estados</td><td>56</td></tr>\n",
              "\t<tr><td>-64.05493</td><td>-54.72988</td><td>17</td><td>1152</td><td>Argentina</td><td>Isla de los Estados</td><td>56</td></tr>\n",
              "\t<tr><td>-64.03242</td><td>-54.74238</td><td>17</td><td>1153</td><td>Argentina</td><td>Isla de los Estados</td><td>56</td></tr>\n",
              "\t<tr><td>-63.88193</td><td>-54.72295</td><td>17</td><td>1154</td><td>Argentina</td><td>Isla de los Estados</td><td>56</td></tr>\n",
              "\t<tr><td>-63.81543</td><td>-54.72510</td><td>17</td><td>1155</td><td>Argentina</td><td>Isla de los Estados</td><td>56</td></tr>\n",
              "\t<tr><td>-63.83257</td><td>-54.76797</td><td>17</td><td>1156</td><td>Argentina</td><td>Isla de los Estados</td><td>56</td></tr>\n",
              "\t<tr><td>-63.97124</td><td>-54.81065</td><td>17</td><td>1157</td><td>Argentina</td><td>Isla de los Estados</td><td>56</td></tr>\n",
              "\t<tr><td>-64.02832</td><td>-54.79258</td><td>17</td><td>1158</td><td>Argentina</td><td>Isla de los Estados</td><td>56</td></tr>\n",
              "\t<tr><td>-64.32291</td><td>-54.79648</td><td>17</td><td>1159</td><td>Argentina</td><td>Isla de los Estados</td><td>56</td></tr>\n",
              "\t<tr><td>-64.45327</td><td>-54.84033</td><td>17</td><td>1160</td><td>Argentina</td><td>Isla de los Estados</td><td>56</td></tr>\n",
              "\t<tr><td>-64.50869</td><td>-54.83994</td><td>17</td><td>1161</td><td>Argentina</td><td>Isla de los Estados</td><td>56</td></tr>\n",
              "\t<tr><td>-64.63735</td><td>-54.90254</td><td>17</td><td>1162</td><td>Argentina</td><td>Isla de los Estados</td><td>56</td></tr>\n",
              "\t<tr><td>-64.73145</td><td>-54.86299</td><td>17</td><td>1163</td><td>Argentina</td><td>Isla de los Estados</td><td>56</td></tr>\n",
              "\t<tr><td>-64.75732</td><td>-54.82656</td><td>17</td><td>1164</td><td>Argentina</td><td>Isla de los Estados</td><td>56</td></tr>\n",
              "\t<tr><td>-64.68921</td><td>-54.77470</td><td>17</td><td>1165</td><td>Argentina</td><td>Isla de los Estados</td><td>56</td></tr>\n",
              "\t<tr><td>-64.62510</td><td>-54.77363</td><td>17</td><td>1166</td><td>Argentina</td><td>Isla de los Estados</td><td>56</td></tr>\n",
              "\t<tr><td>-64.58134</td><td>-54.75273</td><td>17</td><td>1167</td><td>Argentina</td><td>Isla de los Estados</td><td>56</td></tr>\n",
              "\t<tr><td>-64.54916</td><td>-54.71621</td><td>17</td><td>1168</td><td>Argentina</td><td>Isla de los Estados</td><td>56</td></tr>\n",
              "\t<tr><td>-68.65322</td><td>-54.85361</td><td>18</td><td>1170</td><td>Argentina</td><td>Tierra del Fuego   </td><td>56</td></tr>\n",
              "\t<tr><td>-68.64751</td><td>-54.62783</td><td>18</td><td>1171</td><td>Argentina</td><td>Tierra del Fuego   </td><td>56</td></tr>\n",
              "\t<tr><td>-68.63979</td><td>-54.32402</td><td>18</td><td>1172</td><td>Argentina</td><td>Tierra del Fuego   </td><td>56</td></tr>\n",
              "\t<tr><td>-68.63823</td><td>-54.05293</td><td>18</td><td>1173</td><td>Argentina</td><td>Tierra del Fuego   </td><td>56</td></tr>\n",
              "\t<tr><td>-68.63667</td><td>-53.78887</td><td>18</td><td>1174</td><td>Argentina</td><td>Tierra del Fuego   </td><td>56</td></tr>\n",
              "\t<tr><td>-68.63506</td><td>-53.51543</td><td>18</td><td>1175</td><td>Argentina</td><td>Tierra del Fuego   </td><td>56</td></tr>\n",
              "\t<tr><td>-68.63345</td><td>-53.24189</td><td>18</td><td>1176</td><td>Argentina</td><td>Tierra del Fuego   </td><td>56</td></tr>\n",
              "\t<tr><td>-68.63169</td><td>-52.94951</td><td>18</td><td>1177</td><td>Argentina</td><td>Tierra del Fuego   </td><td>56</td></tr>\n",
              "\t<tr><td>-68.62993</td><td>-52.65264</td><td>18</td><td>1178</td><td>Argentina</td><td>Tierra del Fuego   </td><td>56</td></tr>\n",
              "\t<tr><td>⋮</td><td>⋮</td><td>⋮</td><td>⋮</td><td>⋮</td><td>⋮</td><td>⋮</td></tr>\n",
              "\t<tr><td>27.19355</td><td>-29.94131</td><td>1622</td><td>100323</td><td>South Africa</td><td>enclave</td><td>39.58824</td></tr>\n",
              "\t<tr><td>27.23975</td><td>-30.01533</td><td>1622</td><td>100324</td><td>South Africa</td><td>enclave</td><td>39.58824</td></tr>\n",
              "\t<tr><td>27.31269</td><td>-30.10566</td><td>1622</td><td>100325</td><td>South Africa</td><td>enclave</td><td>39.58824</td></tr>\n",
              "\t<tr><td>27.35537</td><td>-30.15859</td><td>1622</td><td>100326</td><td>South Africa</td><td>enclave</td><td>39.58824</td></tr>\n",
              "\t<tr><td>27.34971</td><td>-30.24736</td><td>1622</td><td>100327</td><td>South Africa</td><td>enclave</td><td>39.58824</td></tr>\n",
              "\t<tr><td>27.36406</td><td>-30.27920</td><td>1622</td><td>100328</td><td>South Africa</td><td>enclave</td><td>39.58824</td></tr>\n",
              "\t<tr><td>27.38848</td><td>-30.31592</td><td>1622</td><td>100329</td><td>South Africa</td><td>enclave</td><td>39.58824</td></tr>\n",
              "\t<tr><td>27.40859</td><td>-30.32529</td><td>1622</td><td>100330</td><td>South Africa</td><td>enclave</td><td>39.58824</td></tr>\n",
              "\t<tr><td>27.43144</td><td>-30.33848</td><td>1622</td><td>100331</td><td>South Africa</td><td>enclave</td><td>39.58824</td></tr>\n",
              "\t<tr><td>27.49199</td><td>-30.36396</td><td>1622</td><td>100332</td><td>South Africa</td><td>enclave</td><td>39.58824</td></tr>\n",
              "\t<tr><td>27.50654</td><td>-30.38096</td><td>1622</td><td>100333</td><td>South Africa</td><td>enclave</td><td>39.58824</td></tr>\n",
              "\t<tr><td>27.54902</td><td>-30.41123</td><td>1622</td><td>100334</td><td>South Africa</td><td>enclave</td><td>39.58824</td></tr>\n",
              "\t<tr><td>27.58965</td><td>-30.46641</td><td>1622</td><td>100335</td><td>South Africa</td><td>enclave</td><td>39.58824</td></tr>\n",
              "\t<tr><td>27.66660</td><td>-30.54228</td><td>1622</td><td>100336</td><td>South Africa</td><td>enclave</td><td>39.58824</td></tr>\n",
              "\t<tr><td>27.75312</td><td>-30.60000</td><td>1622</td><td>100337</td><td>South Africa</td><td>enclave</td><td>39.58824</td></tr>\n",
              "\t<tr><td>27.90186</td><td>-30.62383</td><td>1622</td><td>100338</td><td>South Africa</td><td>enclave</td><td>39.58824</td></tr>\n",
              "\t<tr><td>28.01816</td><td>-30.64228</td><td>1622</td><td>100339</td><td>South Africa</td><td>enclave</td><td>39.58824</td></tr>\n",
              "\t<tr><td>28.05684</td><td>-30.63106</td><td>1622</td><td>100340</td><td>South Africa</td><td>enclave</td><td>39.58824</td></tr>\n",
              "\t<tr><td>28.09639</td><td>-30.58457</td><td>1622</td><td>100341</td><td>South Africa</td><td>enclave</td><td>39.58824</td></tr>\n",
              "\t<tr><td>28.12871</td><td>-30.52510</td><td>1622</td><td>100342</td><td>South Africa</td><td>enclave</td><td>39.58824</td></tr>\n",
              "\t<tr><td>28.13906</td><td>-30.44990</td><td>1622</td><td>100343</td><td>South Africa</td><td>enclave</td><td>39.58824</td></tr>\n",
              "\t<tr><td>28.17617</td><td>-30.40986</td><td>1622</td><td>100344</td><td>South Africa</td><td>enclave</td><td>39.58824</td></tr>\n",
              "\t<tr><td>28.31543</td><td>-30.21846</td><td>1622</td><td>100345</td><td>South Africa</td><td>enclave</td><td>39.58824</td></tr>\n",
              "\t<tr><td>28.39209</td><td>-30.14756</td><td>1622</td><td>100346</td><td>South Africa</td><td>enclave</td><td>39.58824</td></tr>\n",
              "\t<tr><td>28.43906</td><td>-30.14248</td><td>1622</td><td>100347</td><td>South Africa</td><td>enclave</td><td>39.58824</td></tr>\n",
              "\t<tr><td>28.49961</td><td>-30.12891</td><td>1622</td><td>100348</td><td>South Africa</td><td>enclave</td><td>39.58824</td></tr>\n",
              "\t<tr><td>28.57666</td><td>-30.12305</td><td>1622</td><td>100349</td><td>South Africa</td><td>enclave</td><td>39.58824</td></tr>\n",
              "\t<tr><td>28.63437</td><td>-30.12871</td><td>1622</td><td>100350</td><td>South Africa</td><td>enclave</td><td>39.58824</td></tr>\n",
              "\t<tr><td>28.64688</td><td>-30.12656</td><td>1622</td><td>100351</td><td>South Africa</td><td>enclave</td><td>39.58824</td></tr>\n",
              "\t<tr><td>28.73691</td><td>-30.10195</td><td>1622</td><td>100352</td><td>South Africa</td><td>enclave</td><td>39.58824</td></tr>\n",
              "</tbody>\n",
              "</table>\n"
            ],
            "text/markdown": "\nA data.frame: 39948 × 7\n\n| long &lt;dbl&gt; | lat &lt;dbl&gt; | group &lt;dbl&gt; | order &lt;int&gt; | region &lt;chr&gt; | subregion &lt;chr&gt; | mean_rating &lt;dbl&gt; |\n|---|---|---|---|---|---|---|\n| -64.54916 | -54.71621 | 17 | 1148 | Argentina | Isla de los Estados | 56 |\n| -64.43882 | -54.73936 | 17 | 1149 | Argentina | Isla de los Estados | 56 |\n| -64.22050 | -54.72197 | 17 | 1150 | Argentina | Isla de los Estados | 56 |\n| -64.10532 | -54.72168 | 17 | 1151 | Argentina | Isla de los Estados | 56 |\n| -64.05493 | -54.72988 | 17 | 1152 | Argentina | Isla de los Estados | 56 |\n| -64.03242 | -54.74238 | 17 | 1153 | Argentina | Isla de los Estados | 56 |\n| -63.88193 | -54.72295 | 17 | 1154 | Argentina | Isla de los Estados | 56 |\n| -63.81543 | -54.72510 | 17 | 1155 | Argentina | Isla de los Estados | 56 |\n| -63.83257 | -54.76797 | 17 | 1156 | Argentina | Isla de los Estados | 56 |\n| -63.97124 | -54.81065 | 17 | 1157 | Argentina | Isla de los Estados | 56 |\n| -64.02832 | -54.79258 | 17 | 1158 | Argentina | Isla de los Estados | 56 |\n| -64.32291 | -54.79648 | 17 | 1159 | Argentina | Isla de los Estados | 56 |\n| -64.45327 | -54.84033 | 17 | 1160 | Argentina | Isla de los Estados | 56 |\n| -64.50869 | -54.83994 | 17 | 1161 | Argentina | Isla de los Estados | 56 |\n| -64.63735 | -54.90254 | 17 | 1162 | Argentina | Isla de los Estados | 56 |\n| -64.73145 | -54.86299 | 17 | 1163 | Argentina | Isla de los Estados | 56 |\n| -64.75732 | -54.82656 | 17 | 1164 | Argentina | Isla de los Estados | 56 |\n| -64.68921 | -54.77470 | 17 | 1165 | Argentina | Isla de los Estados | 56 |\n| -64.62510 | -54.77363 | 17 | 1166 | Argentina | Isla de los Estados | 56 |\n| -64.58134 | -54.75273 | 17 | 1167 | Argentina | Isla de los Estados | 56 |\n| -64.54916 | -54.71621 | 17 | 1168 | Argentina | Isla de los Estados | 56 |\n| -68.65322 | -54.85361 | 18 | 1170 | Argentina | Tierra del Fuego    | 56 |\n| -68.64751 | -54.62783 | 18 | 1171 | Argentina | Tierra del Fuego    | 56 |\n| -68.63979 | -54.32402 | 18 | 1172 | Argentina | Tierra del Fuego    | 56 |\n| -68.63823 | -54.05293 | 18 | 1173 | Argentina | Tierra del Fuego    | 56 |\n| -68.63667 | -53.78887 | 18 | 1174 | Argentina | Tierra del Fuego    | 56 |\n| -68.63506 | -53.51543 | 18 | 1175 | Argentina | Tierra del Fuego    | 56 |\n| -68.63345 | -53.24189 | 18 | 1176 | Argentina | Tierra del Fuego    | 56 |\n| -68.63169 | -52.94951 | 18 | 1177 | Argentina | Tierra del Fuego    | 56 |\n| -68.62993 | -52.65264 | 18 | 1178 | Argentina | Tierra del Fuego    | 56 |\n| ⋮ | ⋮ | ⋮ | ⋮ | ⋮ | ⋮ | ⋮ |\n| 27.19355 | -29.94131 | 1622 | 100323 | South Africa | enclave | 39.58824 |\n| 27.23975 | -30.01533 | 1622 | 100324 | South Africa | enclave | 39.58824 |\n| 27.31269 | -30.10566 | 1622 | 100325 | South Africa | enclave | 39.58824 |\n| 27.35537 | -30.15859 | 1622 | 100326 | South Africa | enclave | 39.58824 |\n| 27.34971 | -30.24736 | 1622 | 100327 | South Africa | enclave | 39.58824 |\n| 27.36406 | -30.27920 | 1622 | 100328 | South Africa | enclave | 39.58824 |\n| 27.38848 | -30.31592 | 1622 | 100329 | South Africa | enclave | 39.58824 |\n| 27.40859 | -30.32529 | 1622 | 100330 | South Africa | enclave | 39.58824 |\n| 27.43144 | -30.33848 | 1622 | 100331 | South Africa | enclave | 39.58824 |\n| 27.49199 | -30.36396 | 1622 | 100332 | South Africa | enclave | 39.58824 |\n| 27.50654 | -30.38096 | 1622 | 100333 | South Africa | enclave | 39.58824 |\n| 27.54902 | -30.41123 | 1622 | 100334 | South Africa | enclave | 39.58824 |\n| 27.58965 | -30.46641 | 1622 | 100335 | South Africa | enclave | 39.58824 |\n| 27.66660 | -30.54228 | 1622 | 100336 | South Africa | enclave | 39.58824 |\n| 27.75312 | -30.60000 | 1622 | 100337 | South Africa | enclave | 39.58824 |\n| 27.90186 | -30.62383 | 1622 | 100338 | South Africa | enclave | 39.58824 |\n| 28.01816 | -30.64228 | 1622 | 100339 | South Africa | enclave | 39.58824 |\n| 28.05684 | -30.63106 | 1622 | 100340 | South Africa | enclave | 39.58824 |\n| 28.09639 | -30.58457 | 1622 | 100341 | South Africa | enclave | 39.58824 |\n| 28.12871 | -30.52510 | 1622 | 100342 | South Africa | enclave | 39.58824 |\n| 28.13906 | -30.44990 | 1622 | 100343 | South Africa | enclave | 39.58824 |\n| 28.17617 | -30.40986 | 1622 | 100344 | South Africa | enclave | 39.58824 |\n| 28.31543 | -30.21846 | 1622 | 100345 | South Africa | enclave | 39.58824 |\n| 28.39209 | -30.14756 | 1622 | 100346 | South Africa | enclave | 39.58824 |\n| 28.43906 | -30.14248 | 1622 | 100347 | South Africa | enclave | 39.58824 |\n| 28.49961 | -30.12891 | 1622 | 100348 | South Africa | enclave | 39.58824 |\n| 28.57666 | -30.12305 | 1622 | 100349 | South Africa | enclave | 39.58824 |\n| 28.63437 | -30.12871 | 1622 | 100350 | South Africa | enclave | 39.58824 |\n| 28.64688 | -30.12656 | 1622 | 100351 | South Africa | enclave | 39.58824 |\n| 28.73691 | -30.10195 | 1622 | 100352 | South Africa | enclave | 39.58824 |\n\n",
            "text/latex": "A data.frame: 39948 × 7\n\\begin{tabular}{lllllll}\n long & lat & group & order & region & subregion & mean\\_rating\\\\\n <dbl> & <dbl> & <dbl> & <int> & <chr> & <chr> & <dbl>\\\\\n\\hline\n\t -64.54916 & -54.71621 & 17 & 1148 & Argentina & Isla de los Estados & 56\\\\\n\t -64.43882 & -54.73936 & 17 & 1149 & Argentina & Isla de los Estados & 56\\\\\n\t -64.22050 & -54.72197 & 17 & 1150 & Argentina & Isla de los Estados & 56\\\\\n\t -64.10532 & -54.72168 & 17 & 1151 & Argentina & Isla de los Estados & 56\\\\\n\t -64.05493 & -54.72988 & 17 & 1152 & Argentina & Isla de los Estados & 56\\\\\n\t -64.03242 & -54.74238 & 17 & 1153 & Argentina & Isla de los Estados & 56\\\\\n\t -63.88193 & -54.72295 & 17 & 1154 & Argentina & Isla de los Estados & 56\\\\\n\t -63.81543 & -54.72510 & 17 & 1155 & Argentina & Isla de los Estados & 56\\\\\n\t -63.83257 & -54.76797 & 17 & 1156 & Argentina & Isla de los Estados & 56\\\\\n\t -63.97124 & -54.81065 & 17 & 1157 & Argentina & Isla de los Estados & 56\\\\\n\t -64.02832 & -54.79258 & 17 & 1158 & Argentina & Isla de los Estados & 56\\\\\n\t -64.32291 & -54.79648 & 17 & 1159 & Argentina & Isla de los Estados & 56\\\\\n\t -64.45327 & -54.84033 & 17 & 1160 & Argentina & Isla de los Estados & 56\\\\\n\t -64.50869 & -54.83994 & 17 & 1161 & Argentina & Isla de los Estados & 56\\\\\n\t -64.63735 & -54.90254 & 17 & 1162 & Argentina & Isla de los Estados & 56\\\\\n\t -64.73145 & -54.86299 & 17 & 1163 & Argentina & Isla de los Estados & 56\\\\\n\t -64.75732 & -54.82656 & 17 & 1164 & Argentina & Isla de los Estados & 56\\\\\n\t -64.68921 & -54.77470 & 17 & 1165 & Argentina & Isla de los Estados & 56\\\\\n\t -64.62510 & -54.77363 & 17 & 1166 & Argentina & Isla de los Estados & 56\\\\\n\t -64.58134 & -54.75273 & 17 & 1167 & Argentina & Isla de los Estados & 56\\\\\n\t -64.54916 & -54.71621 & 17 & 1168 & Argentina & Isla de los Estados & 56\\\\\n\t -68.65322 & -54.85361 & 18 & 1170 & Argentina & Tierra del Fuego    & 56\\\\\n\t -68.64751 & -54.62783 & 18 & 1171 & Argentina & Tierra del Fuego    & 56\\\\\n\t -68.63979 & -54.32402 & 18 & 1172 & Argentina & Tierra del Fuego    & 56\\\\\n\t -68.63823 & -54.05293 & 18 & 1173 & Argentina & Tierra del Fuego    & 56\\\\\n\t -68.63667 & -53.78887 & 18 & 1174 & Argentina & Tierra del Fuego    & 56\\\\\n\t -68.63506 & -53.51543 & 18 & 1175 & Argentina & Tierra del Fuego    & 56\\\\\n\t -68.63345 & -53.24189 & 18 & 1176 & Argentina & Tierra del Fuego    & 56\\\\\n\t -68.63169 & -52.94951 & 18 & 1177 & Argentina & Tierra del Fuego    & 56\\\\\n\t -68.62993 & -52.65264 & 18 & 1178 & Argentina & Tierra del Fuego    & 56\\\\\n\t ⋮ & ⋮ & ⋮ & ⋮ & ⋮ & ⋮ & ⋮\\\\\n\t 27.19355 & -29.94131 & 1622 & 100323 & South Africa & enclave & 39.58824\\\\\n\t 27.23975 & -30.01533 & 1622 & 100324 & South Africa & enclave & 39.58824\\\\\n\t 27.31269 & -30.10566 & 1622 & 100325 & South Africa & enclave & 39.58824\\\\\n\t 27.35537 & -30.15859 & 1622 & 100326 & South Africa & enclave & 39.58824\\\\\n\t 27.34971 & -30.24736 & 1622 & 100327 & South Africa & enclave & 39.58824\\\\\n\t 27.36406 & -30.27920 & 1622 & 100328 & South Africa & enclave & 39.58824\\\\\n\t 27.38848 & -30.31592 & 1622 & 100329 & South Africa & enclave & 39.58824\\\\\n\t 27.40859 & -30.32529 & 1622 & 100330 & South Africa & enclave & 39.58824\\\\\n\t 27.43144 & -30.33848 & 1622 & 100331 & South Africa & enclave & 39.58824\\\\\n\t 27.49199 & -30.36396 & 1622 & 100332 & South Africa & enclave & 39.58824\\\\\n\t 27.50654 & -30.38096 & 1622 & 100333 & South Africa & enclave & 39.58824\\\\\n\t 27.54902 & -30.41123 & 1622 & 100334 & South Africa & enclave & 39.58824\\\\\n\t 27.58965 & -30.46641 & 1622 & 100335 & South Africa & enclave & 39.58824\\\\\n\t 27.66660 & -30.54228 & 1622 & 100336 & South Africa & enclave & 39.58824\\\\\n\t 27.75312 & -30.60000 & 1622 & 100337 & South Africa & enclave & 39.58824\\\\\n\t 27.90186 & -30.62383 & 1622 & 100338 & South Africa & enclave & 39.58824\\\\\n\t 28.01816 & -30.64228 & 1622 & 100339 & South Africa & enclave & 39.58824\\\\\n\t 28.05684 & -30.63106 & 1622 & 100340 & South Africa & enclave & 39.58824\\\\\n\t 28.09639 & -30.58457 & 1622 & 100341 & South Africa & enclave & 39.58824\\\\\n\t 28.12871 & -30.52510 & 1622 & 100342 & South Africa & enclave & 39.58824\\\\\n\t 28.13906 & -30.44990 & 1622 & 100343 & South Africa & enclave & 39.58824\\\\\n\t 28.17617 & -30.40986 & 1622 & 100344 & South Africa & enclave & 39.58824\\\\\n\t 28.31543 & -30.21846 & 1622 & 100345 & South Africa & enclave & 39.58824\\\\\n\t 28.39209 & -30.14756 & 1622 & 100346 & South Africa & enclave & 39.58824\\\\\n\t 28.43906 & -30.14248 & 1622 & 100347 & South Africa & enclave & 39.58824\\\\\n\t 28.49961 & -30.12891 & 1622 & 100348 & South Africa & enclave & 39.58824\\\\\n\t 28.57666 & -30.12305 & 1622 & 100349 & South Africa & enclave & 39.58824\\\\\n\t 28.63437 & -30.12871 & 1622 & 100350 & South Africa & enclave & 39.58824\\\\\n\t 28.64688 & -30.12656 & 1622 & 100351 & South Africa & enclave & 39.58824\\\\\n\t 28.73691 & -30.10195 & 1622 & 100352 & South Africa & enclave & 39.58824\\\\\n\\end{tabular}\n"
          },
          "metadata": {}
        }
      ]
    },
    {
      "cell_type": "code",
      "source": [
        "map1<-ggplot(mapdata1, aes( x = long, y = lat, group=group)) +\n",
        "  geom_polygon(aes(fill = mean_rating), color = \"black\")\n",
        "map1\n",
        "\n"
      ],
      "metadata": {
        "id": "TVnqnFlN4SQb",
        "outputId": "2fcc64b2-aae8-4ae6-f999-1793b2b296d3",
        "colab": {
          "base_uri": "https://localhost:8080/",
          "height": 437
        }
      },
      "execution_count": null,
      "outputs": [
        {
          "output_type": "display_data",
          "data": {
            "text/plain": [
              "plot without title"
            ],
            "image/png": "[encoded data removed]"
          },
          "metadata": {
            "image/png": {
              "width": 420,
              "height": 420
            }
          }
        }
      ]
    },
    {
      "cell_type": "code",
      "source": [
        "map2 <- map1 + scale_fill_gradient(name = \"Rating\", low = \"yellow\", high =  \"green\", na.value = \"grey50\")+\n",
        "  theme(axis.text.x = element_blank(),\n",
        "        axis.text.y = element_blank(),\n",
        "        axis.ticks = element_blank(),\n",
        "        axis.title.y=element_blank(),\n",
        "        axis.title.x=element_blank(),\n",
        "        rect = element_blank())\n",
        "map2\n",
        "\n",
        "\n"
      ],
      "metadata": {
        "id": "uyi4PMVOzf3n",
        "outputId": "a6b16a62-5c1a-4217-a0af-ecdb950ea541",
        "colab": {
          "base_uri": "https://localhost:8080/",
          "height": 437
        }
      },
      "execution_count": null,
      "outputs": [
        {
          "output_type": "display_data",
          "data": {
            "text/plain": [
              "plot without title"
            ],
            "image/png": "[encoded data removed]"
          },
          "metadata": {
            "image/png": {
              "width": 420,
              "height": 420
            }
          }
        }
      ]
    }
  ]
}